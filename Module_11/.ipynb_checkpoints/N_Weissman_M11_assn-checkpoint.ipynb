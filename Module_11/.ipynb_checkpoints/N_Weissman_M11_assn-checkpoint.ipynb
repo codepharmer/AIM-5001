{
 "cells": [
  {
   "cell_type": "markdown",
   "id": "brown-glucose",
   "metadata": {},
   "source": [
    "# AIM 5001 Module 11 Assignment (100 Points)\n",
    "Nosson Weissman <br>\n",
    "AIM 5003: Module 11 assignment\n",
    "## Part 1: Tidying and Reshaping Data"
   ]
  },
  {
   "cell_type": "markdown",
   "id": "integrated-genetics",
   "metadata": {},
   "source": [
    "- Upload the provided M11_Data.csv file to your online AIM 5001 GitHub repository.\n",
    "- Using the pd.read_csv() function, read the M11_Data.csv file from your GitHub repository into a \n",
    "Jupyter Notebook WITHOUT removing any empty rows or columns from the content of the file."
   ]
  },
  {
   "cell_type": "code",
   "execution_count": 4,
   "id": "reflected-video",
   "metadata": {},
   "outputs": [],
   "source": [
    "import pandas as pd\n",
    "import numpy as np\n",
    "\n",
    "data_filepath = 'https://raw.githubusercontent.com/codepharmer/AIM-5001/main/Module_11/M11_Data%20(1).csv'\n",
    "\n",
    "flights_df = pd.read_csv(data_filepath)"
   ]
  },
  {
   "cell_type": "markdown",
   "id": "median-adjustment",
   "metadata": {},
   "source": [
    "The content of the resulting dataframe should appear as follows:"
   ]
  },
  {
   "cell_type": "code",
   "execution_count": 5,
   "id": "oriented-injury",
   "metadata": {},
   "outputs": [
    {
     "data": {
      "text/html": [
       "<div>\n",
       "<style scoped>\n",
       "    .dataframe tbody tr th:only-of-type {\n",
       "        vertical-align: middle;\n",
       "    }\n",
       "\n",
       "    .dataframe tbody tr th {\n",
       "        vertical-align: top;\n",
       "    }\n",
       "\n",
       "    .dataframe thead th {\n",
       "        text-align: right;\n",
       "    }\n",
       "</style>\n",
       "<table border=\"1\" class=\"dataframe\">\n",
       "  <thead>\n",
       "    <tr style=\"text-align: right;\">\n",
       "      <th></th>\n",
       "      <th>Unnamed: 0</th>\n",
       "      <th>Unnamed: 1</th>\n",
       "      <th>Los Angeles</th>\n",
       "      <th>Phoenix</th>\n",
       "      <th>San Diego</th>\n",
       "      <th>San Francisco</th>\n",
       "      <th>Seattle</th>\n",
       "    </tr>\n",
       "  </thead>\n",
       "  <tbody>\n",
       "    <tr>\n",
       "      <th>0</th>\n",
       "      <td>ALASKA</td>\n",
       "      <td>on time</td>\n",
       "      <td>497.0</td>\n",
       "      <td>221.0</td>\n",
       "      <td>212.0</td>\n",
       "      <td>503.0</td>\n",
       "      <td>1841.0</td>\n",
       "    </tr>\n",
       "    <tr>\n",
       "      <th>1</th>\n",
       "      <td>NaN</td>\n",
       "      <td>delayed</td>\n",
       "      <td>62.0</td>\n",
       "      <td>12.0</td>\n",
       "      <td>20.0</td>\n",
       "      <td>102.0</td>\n",
       "      <td>305.0</td>\n",
       "    </tr>\n",
       "    <tr>\n",
       "      <th>2</th>\n",
       "      <td>NaN</td>\n",
       "      <td>NaN</td>\n",
       "      <td>NaN</td>\n",
       "      <td>NaN</td>\n",
       "      <td>NaN</td>\n",
       "      <td>NaN</td>\n",
       "      <td>NaN</td>\n",
       "    </tr>\n",
       "    <tr>\n",
       "      <th>3</th>\n",
       "      <td>AMWEST</td>\n",
       "      <td>on time</td>\n",
       "      <td>694.0</td>\n",
       "      <td>4840.0</td>\n",
       "      <td>383.0</td>\n",
       "      <td>320.0</td>\n",
       "      <td>201.0</td>\n",
       "    </tr>\n",
       "    <tr>\n",
       "      <th>4</th>\n",
       "      <td>NaN</td>\n",
       "      <td>delayed</td>\n",
       "      <td>117.0</td>\n",
       "      <td>415.0</td>\n",
       "      <td>65.0</td>\n",
       "      <td>129.0</td>\n",
       "      <td>61.0</td>\n",
       "    </tr>\n",
       "  </tbody>\n",
       "</table>\n",
       "</div>"
      ],
      "text/plain": [
       "  Unnamed: 0 Unnamed: 1  Los Angeles  Phoenix  San Diego  San Francisco  \\\n",
       "0     ALASKA    on time        497.0    221.0      212.0          503.0   \n",
       "1        NaN    delayed         62.0     12.0       20.0          102.0   \n",
       "2        NaN        NaN          NaN      NaN        NaN            NaN   \n",
       "3     AMWEST    on time        694.0   4840.0      383.0          320.0   \n",
       "4        NaN    delayed        117.0    415.0       65.0          129.0   \n",
       "\n",
       "   Seattle  \n",
       "0   1841.0  \n",
       "1    305.0  \n",
       "2      NaN  \n",
       "3    201.0  \n",
       "4     61.0  "
      ]
     },
     "execution_count": 5,
     "metadata": {},
     "output_type": "execute_result"
    }
   ],
   "source": [
    "flights_df"
   ]
  },
  {
   "cell_type": "markdown",
   "id": "natural-yesterday",
   "metadata": {},
   "source": [
    "**1.1 (30 Points)**: Use your knowledge of combining and reshaping data in Pandas to tidy and transform/reshape \n",
    "the data contained within the dataframe. To get started, think about how you would want the data to appear \n",
    "if it were converted to “long” format, e.g., how would you define a “single observation” for the data shown in \n",
    "the graphic?; How many key values are associated with each data value?; How many columns should your long \n",
    "format structure contain based on the information provided in the graphic shown above?; What would the \n",
    "column headings for the long structure be?; etc. Use your answers to these questions to guide your \n",
    "reshaping/transformational work on the data. Your reshaping/transformational steps must include \n",
    "converting the above table to a “tidy” long format. Additional transformational steps (e.g., filling in missing 2\n",
    "data values, renaming columns, etc.) should be performed as needed to ensure that your data is, in fact, \n",
    "“tidy”."
   ]
  },
  {
   "cell_type": "code",
   "execution_count": null,
   "id": "instructional-examination",
   "metadata": {},
   "outputs": [],
   "source": []
  },
  {
   "cell_type": "code",
   "execution_count": null,
   "id": "terminal-messenger",
   "metadata": {},
   "outputs": [],
   "source": []
  },
  {
   "cell_type": "code",
   "execution_count": null,
   "id": "closed-principal",
   "metadata": {},
   "outputs": [],
   "source": []
  },
  {
   "cell_type": "code",
   "execution_count": null,
   "id": "level-climb",
   "metadata": {},
   "outputs": [],
   "source": []
  },
  {
   "cell_type": "code",
   "execution_count": null,
   "id": "cooperative-brazil",
   "metadata": {},
   "outputs": [],
   "source": []
  },
  {
   "cell_type": "code",
   "execution_count": null,
   "id": "contrary-heather",
   "metadata": {},
   "outputs": [],
   "source": []
  },
  {
   "cell_type": "code",
   "execution_count": null,
   "id": "utility-carpet",
   "metadata": {},
   "outputs": [],
   "source": []
  },
  {
   "cell_type": "code",
   "execution_count": null,
   "id": "martial-makeup",
   "metadata": {},
   "outputs": [],
   "source": []
  },
  {
   "cell_type": "code",
   "execution_count": null,
   "id": "sunrise-closure",
   "metadata": {},
   "outputs": [],
   "source": []
  },
  {
   "cell_type": "code",
   "execution_count": null,
   "id": "mental-character",
   "metadata": {},
   "outputs": [],
   "source": []
  },
  {
   "cell_type": "code",
   "execution_count": null,
   "id": "christian-citation",
   "metadata": {},
   "outputs": [],
   "source": []
  },
  {
   "cell_type": "code",
   "execution_count": null,
   "id": "resistant-leader",
   "metadata": {},
   "outputs": [],
   "source": []
  },
  {
   "cell_type": "code",
   "execution_count": null,
   "id": "incredible-hours",
   "metadata": {},
   "outputs": [],
   "source": []
  },
  {
   "cell_type": "code",
   "execution_count": null,
   "id": "american-charge",
   "metadata": {},
   "outputs": [],
   "source": []
  },
  {
   "cell_type": "code",
   "execution_count": null,
   "id": "greater-diamond",
   "metadata": {},
   "outputs": [],
   "source": []
  },
  {
   "cell_type": "code",
   "execution_count": null,
   "id": "imposed-parks",
   "metadata": {},
   "outputs": [],
   "source": []
  },
  {
   "cell_type": "code",
   "execution_count": null,
   "id": "miniature-valuation",
   "metadata": {},
   "outputs": [],
   "source": []
  },
  {
   "cell_type": "code",
   "execution_count": null,
   "id": "double-bryan",
   "metadata": {},
   "outputs": [],
   "source": []
  },
  {
   "cell_type": "code",
   "execution_count": null,
   "id": "naked-cambodia",
   "metadata": {},
   "outputs": [],
   "source": []
  },
  {
   "cell_type": "code",
   "execution_count": null,
   "id": "conventional-orlando",
   "metadata": {},
   "outputs": [],
   "source": []
  },
  {
   "cell_type": "code",
   "execution_count": null,
   "id": "hindu-washer",
   "metadata": {},
   "outputs": [],
   "source": []
  },
  {
   "cell_type": "code",
   "execution_count": null,
   "id": "otherwise-quality",
   "metadata": {},
   "outputs": [],
   "source": []
  },
  {
   "cell_type": "code",
   "execution_count": null,
   "id": "significant-webster",
   "metadata": {},
   "outputs": [],
   "source": []
  },
  {
   "cell_type": "code",
   "execution_count": null,
   "id": "given-polls",
   "metadata": {},
   "outputs": [],
   "source": []
  },
  {
   "cell_type": "markdown",
   "id": "accessible-victoria",
   "metadata": {},
   "source": [
    "**1.2 (15 Points)** Using your reshaped/transformed data, perform analysis to compare the arrival delays for the \n",
    "two airlines. Two questions you must answer: For each city, which airline had the best on time performance?; \n",
    "Which airline had the best overall on time performance?; etc. Feel free to define and answer additional \n",
    "questions of your own choosing"
   ]
  },
  {
   "cell_type": "markdown",
   "id": "bulgarian-petersburg",
   "metadata": {},
   "source": [
    "**1.3 (15 Points)** Finally, given your “tidy” long format structure, consider what, if any, changes you would make \n",
    "to the visual presentation of the data if you were then asked to transform your “long” data back into a “wide” \n",
    "format: would you mimic the structure of the graphic shown above? If not, how might you transform your \n",
    "“long” data to “wide” format to make its “wide” presentation easier to understand and work with? Provide an \n",
    "example of your recommendation.\n"
   ]
  },
  {
   "cell_type": "markdown",
   "id": "remarkable-conditioning",
   "metadata": {},
   "source": [
    "____________________________\n",
    "## Part 2: Using Your GroupBy and Data Aggregation Skills\n",
    "\n",
    "Three Short Coding Challenges\n",
    "Can you complete these three tasks using no more than 17 lines of code in total? <br>\n",
    "\n",
    "These coding challenges will give you a chance to exercise your GroupBy/Aggregation/Split-Apply\u0002Combine skills based on your readings from Chapter 10 of the \"Python for Data Analytics\" textbook. See if \n",
    "you can answer these three questions using no more than 17 total lines of Python code.\n",
    "For each of the three questions you will be making use of the Pittsburgh Bridges data \n",
    "set: https://archive.ics.uci.edu/ml/datasets/Pittsburgh+Bridges. (Links to an external site.) Upload the \n",
    "provided briges.data.version1.csv to your online AIM 5001 GitHub repository and then read the file from \n",
    "GitHub into your local Python environment"
   ]
  },
  {
   "cell_type": "markdown",
   "id": "magnetic-sarah",
   "metadata": {},
   "source": [
    "2.1 (12 Points): You’ve been asked to generate a quick report that tells us how many bridges of each \n",
    "‘Purpose’/’Material’ grouping within the data set have been constructed over each of the rivers listed in the \n",
    "data set. For each river, your output should include the Purpose, Material, and count (aka ‘How Many?’), \n",
    "similar to the output shown in the graphic below for River 'A', and your report should include similar content \n",
    "for each of the rivers contained within the data set.3\n",
    "You are allowed to use no more than three (3) lines of Python/Pandas code to generate this report in its \n",
    "entirety (i.e., you MUST produce the results for all of the rivers at once) and you MUST use Pandas’ groupby \n",
    "and/or aggregation functionality to accomplish the task. Be sure to include a brief narrative explaining how \n",
    "your proposed code would accomplish the task."
   ]
  },
  {
   "cell_type": "markdown",
   "id": "apparent-liverpool",
   "metadata": {},
   "source": [
    "2.2 (14 Points): You’ve been asked to generate a second report that shows the average length for each \n",
    "‘Purpose’/’Material’ bridge grouping within the data set. As you should recall from our previous work with the \n",
    "Pittsburgh Bridges data set, the ‘Length’ attribute is not provided to us in a numeric format and also contains \n",
    "many missing values. As such, you should clean up the contents of that column and convert it to numeric \n",
    "format before attempting to generate your report. The output of your report should appear as shown in the \n",
    "graphic below.\n",
    "You are allowed to use no more than four (4) lines of Python/Pandas code AFTER you’ve finished cleaning up \n",
    "the ‘Length’ column (which should take no more than 2-3 lines of code) and you MUST use Pandas’ groupby \n",
    "and/or aggregation functionality to accomplish the task. Be sure to include a brief narrative explaining how \n",
    "your proposed code would accomplish the task."
   ]
  },
  {
   "cell_type": "markdown",
   "id": "incoming-jacket",
   "metadata": {},
   "source": [
    "2.3 (14 Points) Finally, you’ve been asked to generate one last report that shows the average length, count, \n",
    "minimum length, and maximum length of bridges built during 4 equal length time periods (1818 – 1860; 1860-\n",
    "1902; 1902-1944; 1944-1986). The output of your report should appear as shown in the graphic below.4\n",
    "You are allowed to use no more than seven (7) lines of Python/Pandas code and you must use Pandas’ \n",
    "groupby and/or aggregation functionality to accomplish the task. Be sure to include a brief narrative \n",
    "explaining how your proposed code would accomplish the task.\n",
    "Save all of your work for this assignment within a single Jupyter Notebook and upload / submit it within the \n",
    "provided M11 Assignment Canvas submission portal. Be sure to save your Notebook using the following \n",
    "nomenclature: first initial_last name_M11_assn\" (e.g., J_Smith_M11_assn)."
   ]
  }
 ],
 "metadata": {
  "kernelspec": {
   "display_name": "Python 3",
   "language": "python",
   "name": "python3"
  },
  "language_info": {
   "codemirror_mode": {
    "name": "ipython",
    "version": 3
   },
   "file_extension": ".py",
   "mimetype": "text/x-python",
   "name": "python",
   "nbconvert_exporter": "python",
   "pygments_lexer": "ipython3",
   "version": "3.7.4"
  }
 },
 "nbformat": 4,
 "nbformat_minor": 5
}
