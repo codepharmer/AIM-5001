{
 "cells": [
  {
   "cell_type": "markdown",
   "id": "motivated-representative",
   "metadata": {},
   "source": [
    "1. (10 Points) Write a Python/NumPy code block that finds the distinct/unique common items between these two\n",
    "arrays:\n",
    "a = np.array([1, 2, 3, 2, 3, 4, 3, 4, 5, 6])\n",
    "b = np.array([7, 2, 10, 2, 7, 4, 9, 4, 9, 8])\n",
    "Your output should contain only the distinct overlapping values. For example, if a 2 is found in both array a and array b,\n",
    "your output should contain only one 2 even if array a contains more than one 2 within it.\n"
   ]
  },
  {
   "cell_type": "code",
   "execution_count": 17,
   "id": "billion-revelation",
   "metadata": {},
   "outputs": [
    {
     "data": {
      "text/plain": [
       "array([2, 4])"
      ]
     },
     "execution_count": 17,
     "metadata": {},
     "output_type": "execute_result"
    }
   ],
   "source": [
    "import numpy as np\n",
    "a = np.array([1, 2, 3, 2, 3, 4, 3, 4, 5, 6])\n",
    "b = np.array([7, 2, 10, 2, 7, 4, 9, 4, 9, 8])\n",
    "np.intersect1d([1, 3, 4, 3], [3, 1, 2, 1])\n",
    "np.intersect1d(a,b)"
   ]
  },
  {
   "cell_type": "markdown",
   "id": "remarkable-patent",
   "metadata": {},
   "source": [
    "2. (10 Points) Create the following 5x3 array using knowledge you have of Python’s / NumPy’s sequencing functionality\n",
    "so that you do not need to explicitly key in every integer value.\n",
    "1 6 11\n",
    "2 7 12\n",
    "3 8 13\n",
    "4 9 14\n",
    "5 10 15\n"
   ]
  },
  {
   "cell_type": "code",
   "execution_count": 37,
   "id": "simple-domain",
   "metadata": {},
   "outputs": [
    {
     "name": "stdout",
     "output_type": "stream",
     "text": [
      "Create 1d array from 1-16:\n",
      "[ 1  2  3  4  5  6  7  8  9 10 11 12 13 14 15]\n",
      "Reshape matrix to get:\n",
      " [[ 1  2  3  4  5]\n",
      " [ 6  7  8  9 10]\n",
      " [11 12 13 14 15]]\n",
      "Transpose matrix to get:\n",
      " [[ 1  6 11]\n",
      " [ 2  7 12]\n",
      " [ 3  8 13]\n",
      " [ 4  9 14]\n",
      " [ 5 10 15]]\n"
     ]
    }
   ],
   "source": [
    "print('Create 1d array from 1-16:')\n",
    "arr = np.arange(1,16)\n",
    "print(arr)\n",
    "arr1 = np.reshape(arr, (3, 5))\n",
    "print('Reshape matrix to get:\\n', arr1)\n",
    "arr1 = arr1.T\n",
    "print('Transpose matrix to get:\\n', arr1)"
   ]
  },
  {
   "cell_type": "markdown",
   "id": "exact-hybrid",
   "metadata": {},
   "source": [
    "3. (10 Points) The process of transforming a multidimensional array into a unidimensional array is referred to as\n",
    "“flattening”. Transform the 5x3 array shown above in Problem 2 into a unidimensional array such that the sequence of\n",
    "values contained within the array is as follows: 1, 2, 3, 4, 5, 6, 7, 8, 9, 10, 11, 12, 13, 14, 15"
   ]
  },
  {
   "cell_type": "code",
   "execution_count": 41,
   "id": "ancient-graphic",
   "metadata": {},
   "outputs": [
    {
     "name": "stdout",
     "output_type": "stream",
     "text": [
      "We start with this:\n",
      " [[ 1  6 11]\n",
      " [ 2  7 12]\n",
      " [ 3  8 13]\n",
      " [ 4  9 14]\n",
      " [ 5 10 15]]\n",
      "Use flatten method from numpy ndarray on transpose to get:\n",
      " [ 1  2  3  4  5  6  7  8  9 10 11 12 13 14 15]\n"
     ]
    }
   ],
   "source": [
    "arr3 = arr1\n",
    "print('We start with this:\\n', arr3)\n",
    "arr_flattened = np.ndarray.flatten(arr3.T)\n",
    "# arr_flattened = np.ndarray.ravel(arr3.T)\n",
    "print('Use flatten method from numpy ndarray on transpose to get:\\n', arr_flattened)"
   ]
  },
  {
   "cell_type": "markdown",
   "id": "assured-cincinnati",
   "metadata": {},
   "source": [
    "4. (15 Points) Transform the 2-D array shown in Problem 2 into a 3 dimensional array such that the first column\n",
    "becomes the first dimension of the 3-D array, the second column becomes the second dimension of the 3-D array, and\n",
    "the third column becomes the third dimension of the 3-D array.\n"
   ]
  },
  {
   "cell_type": "code",
   "execution_count": 46,
   "id": "recent-canadian",
   "metadata": {},
   "outputs": [
    {
     "name": "stdout",
     "output_type": "stream",
     "text": [
      "[ 1  2  3  4  5  6  7  8  9 10 11 12 13 14 15]\n",
      "[ 1  6 11]\n",
      "[ 2  7 12]\n",
      "[ 3  8 13]\n",
      "[ 4  9 14]\n",
      "[ 5 10 15]\n"
     ]
    }
   ],
   "source": [
    "arr = np.arange(1,16)\n",
    "print(arr)\n",
    "arr1 = np.reshape(arr, (3, 5))\n",
    "# print('Reshape matrix to get:\\n', arr1)\n",
    "# arr1\n",
    "a3_0 = np.stack((arr1[0], arr1[1], arr1[2] ), axis=1)\n",
    "for item in a3_0:\n",
    "    print(item)"
   ]
  },
  {
   "cell_type": "markdown",
   "id": "corporate-latest",
   "metadata": {},
   "source": [
    "5. ..."
   ]
  },
  {
   "cell_type": "code",
   "execution_count": null,
   "id": "cardiac-sleeve",
   "metadata": {},
   "outputs": [],
   "source": []
  },
  {
   "cell_type": "markdown",
   "id": "specific-poland",
   "metadata": {},
   "source": [
    "6. (10 Points) You are given the following two arrays:\n",
    "a = np.array([12, 5, 7, 15, 3, 1, 8])\n",
    "b = np.array([14, 6, 3, 11, 19, 12, 5])\n",
    "Write a Python/Numpy code block that removes from array a any items that are also present in array b.\n"
   ]
  },
  {
   "cell_type": "code",
   "execution_count": 54,
   "id": "regulation-opera",
   "metadata": {},
   "outputs": [
    {
     "name": "stdout",
     "output_type": "stream",
     "text": [
      "A - (A intersect B):\n",
      " [ 1  7  8 15]\n"
     ]
    }
   ],
   "source": [
    "a = np.array([12, 5, 7, 15, 3, 1, 8])\n",
    "b = np.array([14, 6, 3, 11, 19, 12, 5])\n",
    "a = np.setdiff1d(a, np.intersect1d(a, b))\n",
    "print('A - (A intersect B):\\n', a)"
   ]
  }
 ],
 "metadata": {
  "kernelspec": {
   "display_name": "Python 3",
   "language": "python",
   "name": "python3"
  },
  "language_info": {
   "codemirror_mode": {
    "name": "ipython",
    "version": 3
   },
   "file_extension": ".py",
   "mimetype": "text/x-python",
   "name": "python",
   "nbconvert_exporter": "python",
   "pygments_lexer": "ipython3",
   "version": "3.7.4"
  }
 },
 "nbformat": 4,
 "nbformat_minor": 5
}
