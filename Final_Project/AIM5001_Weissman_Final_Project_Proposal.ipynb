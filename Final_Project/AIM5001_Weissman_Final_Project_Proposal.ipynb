{
 "cells": [
  {
   "cell_type": "markdown",
   "id": "light-logan",
   "metadata": {},
   "source": [
    "Nosson Weissman <br>\n",
    "Professor James Topor  <br>\n",
    "AIM 5001  <br>\n",
    "March 30, 2021  \n",
    "# AIM 5001 Final Project Proposal - Revised\n",
    "______ "
   ]
  },
  {
   "cell_type": "markdown",
   "id": "referenced-light",
   "metadata": {},
   "source": [
    "<span style=\"color: ashgrey; font-style: oblique; font-weight: bold;\">Intro - Research Question </span> <br>\n",
    "Creating an autonomous nurse-patient assignment system would be a unique way to demonstrate\n",
    "the potential of proper data management and machine learning. A quick google search yields\n",
    "research papers and even a long list of Git repos claiming to solve the nursing patient assignment \n",
    "problem. I will not be solving the nurse-patient assignment problem… But, on weekends I work at \n",
    "a group home for people with special needs. At the home, staff are assigned residents to work \n",
    "with and other tasks. These assignments are based on certifications completed as well as other \n",
    "specifics like years of experience, hours worked etc. Each shift, supervisors spend time figuring \n",
    "out a schedule (At the home, the paper with the staff-resident pairings is referred to as “the \n",
    "schedule” as it gives an outline for the schedule of the day) in which no one staff member is \n",
    "assigned a shift which is too difficult. While staff-resident assignments should involve questions\n",
    "similar to the nursing-patient assignment problem, the variables involved are generally different, \n",
    "and research is harder to come by. The long-term goal with this project is to modify the algorithms \n",
    "which exist for nurse-patient assignments to solve the staff-resident assignment problem. To \n",
    "begin, the current question, and one which even the nurse patient algorithms each answer \n",
    "differently, is <span style=\"color: ashgrey; font-style: oblique; font-weight: bold;\">“What makes a schedule a 'fair' schedule?”.</span> <br> "
   ]
  },
  {
   "cell_type": "markdown",
   "id": "according-cardiff",
   "metadata": {},
   "source": [
    "<span style=\"color: ashgrey; font-style: oblique; font-weight: bold;\">Data Being Used </span> <br>\n",
    "Data we are using to answer this question will include staff scheduling info and past staff-resident assignments. <br>\n",
    "<p style=\"margin-top: 1rem\">Staff Scheduling:</p>\n",
    "<p style=\"margin: 0, 2rem, 0, 2rem\">We will be gathering staff scheduling data from a webapp called WhenToWork, used by \n",
    "the home to track employee schedules. Data will be scraped using the Python Scraper \n",
    "Module which has already been implemented thanks to Github user <a href = \"https://github.com/mneps\">mneps</a>. This step \n",
    "shall fulfill the requirement the <em>\"Project includes at least one Python feature that we did not \n",
    "cover in class”</em> requirement.\n",
    "    </p>\n",
    "<p style=\"margin-top: 1rem\">Past Staff-Resident Assignments:</p>\n",
    "<p style=\"margin: 0, 2rem, 0, 2rem; \">Schedule data will be sourced directly from the group home in the form of paper \n",
    "schedules. These paper schedules (written and/or typed) will be entered to Postgres \n",
    "database either manually or using the Python Tesseract library.</p> <br>\n",
    "\n"
   ]
  },
  {
   "cell_type": "markdown",
   "id": "demographic-company",
   "metadata": {},
   "source": [
    "<span style=\"color: ashgrey; font-style: oblique; font-weight: bold;\">Loading The Data</span> <br>\n",
    "Schedule data will be loaded from the Postgres database into Pandas dataframes. WhenToWork\n",
    "data will be entered to Pandas dataframes and hours-worked will be used as a metric for \n",
    "employee aptitude/experience.\n",
    "In creating the schedule, many variables must be accounted for. Some of the residents require \n",
    "specific certifications to work with them and specific shift duties can only be assigned to people \n",
    "with proper training and certifications (administering meds, driving company van, etc.), but also \n",
    "will not be assigned to a staff who is working with specific residents."
   ]
  },
  {
   "cell_type": "markdown",
   "id": "unlimited-highway",
   "metadata": {},
   "source": [
    "<span style=\"color: ashgrey; font-style: oblique; font-weight: bold;\">Determining Fairness</span> <br>\n",
    "With difficulty ratings for each task and resident assigned, we will analyze the difficulty of each employees assignment for a given shift relative to other assignments on the same shift. Equipt with this data we will analyze variance in difficulty of shift assignment in addition to variance and stats on different kinds of assignments. Tasks assignments fall into different categories (ex \"resident\", \"house-chore\"), and analyzing summary stats on staff assignments for each category will help further improve difficulty rating accuracy. "
   ]
  },
  {
   "cell_type": "markdown",
   "id": "golden-penalty",
   "metadata": {},
   "source": [
    "<span style=\"color: ashgrey; font-style: oblique; font-weight: bold;\">Approach</span> <br>\n",
    "Data values for each part of the scheduling system will be broken down and analyzed, checking not only measures of \n",
    "central tendency (mean, median, mode etc.) but correlation between variables. We will use this \n",
    "data to deduce feature importance and the most important factors in creating a fair schedule. \n",
    "Visuals will be done using Mathplotlib.Pyplot. "
   ]
  },
  {
   "cell_type": "markdown",
   "id": "minus-anthropology",
   "metadata": {},
   "source": [
    "<span style=\"color: ashgrey; font-style: oblique; font-weight: bold;\">Current Progress</span> <br>\n",
    "I have been working on this project on my own \n",
    "and I currently have already completed:\n",
    "1. Schedule Data database (more comprehensive than the one seen in a previous project\n",
    "submission)\n",
    "2. API for scraping whentowork (using the Flask framework and [mneps’](https://github.com/mneps) whentowork \n",
    "scraping code). \n",
    "3. Python code for schedule data inserts to add new scheduling data to database\n",
    "4. Have tested Tesseract on the paper schedules. And results look promising.\n",
    "5. A clearly written outline of what needs to be done in preparation for this project (mainly \n",
    "having to do with data acquisition, but other things as well)\n",
    "<br>\n",
    "\n",
    "As such, although this would be complex to start from scratch, with the foundation in place, this \n",
    "project is quite reasonable as a personal project."
   ]
  },
  {
   "cell_type": "markdown",
   "id": "conscious-scotland",
   "metadata": {},
   "source": [
    "<span style=\"color: ashgrey; font-style: oblique; font-weight: bold;\">Summary </span> <br>\n",
    "The goal within the scope of “The Final Project” is to analyze existing schedule data and employee\n",
    "scheduling data to answer the question of what makes a fair schedule. Data will be collected from \n",
    "both the home and the employee scheduling system and analyzed using various Python libraries. \n",
    "We will focus on correlation of schedule attributes and feature importance. With a large part of \n",
    "the project foundation already built, the future of this project looks promising."
   ]
  }
 ],
 "metadata": {
  "kernelspec": {
   "display_name": "Python 3",
   "language": "python",
   "name": "python3"
  },
  "language_info": {
   "codemirror_mode": {
    "name": "ipython",
    "version": 3
   },
   "file_extension": ".py",
   "mimetype": "text/x-python",
   "name": "python",
   "nbconvert_exporter": "python",
   "pygments_lexer": "ipython3",
   "version": "3.7.4"
  }
 },
 "nbformat": 4,
 "nbformat_minor": 5
}
