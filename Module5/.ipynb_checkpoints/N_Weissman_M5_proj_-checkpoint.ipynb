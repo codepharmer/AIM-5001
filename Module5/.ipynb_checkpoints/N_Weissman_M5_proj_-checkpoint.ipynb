{
 "cells": [
  {
   "cell_type": "markdown",
   "id": "alternative-tension",
   "metadata": {},
   "source": [
    "## AIM 5001 Project 1 (M5) (100 Points)\n",
    "**Text Processing**\n",
    "**You may work in small groups of no more than three (3) people for this Project. **\n",
    "\n",
    "### Part 1: Regular Expressions (30 Points)\n",
    "Text data is often in need of “cleaning” and preparation before it can be effectively used for analysis purposes. Consider\n",
    "the following poorly formatted text string containing names and phone numbers of some residents of the town of\n",
    "Springfield:\n",
    "\"555-1239Dr. Anthony Fauci(636) 555-0113Hollingdorp, Donnatella555-6542Fitzgerald, F. Sco\n",
    "tt555 8904Rev. Martin Luther King636-555-3226Snodgrass, Theodore5553642Carlamina Scarfoni\n",
    "\"\n",
    "Use your Python regular expression (“regex”) skills to complete the following tasks:"
   ]
  },
  {
   "cell_type": "markdown",
   "id": "atlantic-temple",
   "metadata": {},
   "source": [
    "\n",
    "**1. (6 Points) Extract the names of each individual from the unformatted text string shown above and store them in a\n",
    "vector of some sort. When complete, your vector should contain the following entries:**\n",
    "\"Dr. Anthony Fauci\" \"Hollingdorp, Donnatella\" \"Fitzgerald, F. Scott\"\n",
    "\"Rev. Martin Luther King\" \"Snodgrass, Theodore\" \"Carlamina Scarfoni\""
   ]
  },
  {
   "cell_type": "code",
   "execution_count": 51,
   "id": "muslim-kingdom",
   "metadata": {},
   "outputs": [
    {
     "ename": "SyntaxError",
     "evalue": "EOF while scanning triple-quoted string literal (<ipython-input-51-5d8b96d86114>, line 1)",
     "output_type": "error",
     "traceback": [
      "\u001b[1;36m  File \u001b[1;32m\"<ipython-input-51-5d8b96d86114>\"\u001b[1;36m, line \u001b[1;32m1\u001b[0m\n\u001b[1;33m    str = '''\"555-1239Dr. Anthony Fauci(636) 555-0113Hollingdorp, Donnatella555-6542Fitzgerald, F. Sco tt555 8904Rev. Martin Luther King636-555-3226Snodgrass, Theodore5553642Carlamina Scarfoni \" Use your Python regular expression (“regex”) skills to complete the following tasks:''''''\u001b[0m\n\u001b[1;37m                                                                                                                                                                                                                                                                                             ^\u001b[0m\n\u001b[1;31mSyntaxError\u001b[0m\u001b[1;31m:\u001b[0m EOF while scanning triple-quoted string literal\n"
     ]
    }
   ],
   "source": [
    "str = '''\"555-1239Dr. Anthony Fauci(636) 555-0113Hollingdorp, Donnatella555-6542Fitzgerald, F. Sco tt555 8904Rev. Martin Luther King636-555-3226Snodgrass, Theodore5553642Carlamina Scarfoni \" Use your Python regular expression (“regex”) skills to complete the following tasks:''''''\n"
   ]
  },
  {
   "cell_type": "markdown",
   "id": "disturbed-toyota",
   "metadata": {},
   "source": [
    "\n",
    "**2. Using your new vector containing only the names of the six individuals, complete the following tasks:**"
   ]
  },
  {
   "cell_type": "markdown",
   "id": "minimal-contributor",
   "metadata": {},
   "source": [
    "**a. (4 Points)** Use your regex skills to rearrange the vector so that all elements conform to the standard\n",
    "“firstname lastname”, preserving any titles (e.g., “Rev.”, “Dr.”, etc) or middle/second names."
   ]
  },
  {
   "cell_type": "code",
   "execution_count": null,
   "id": "transparent-gambling",
   "metadata": {},
   "outputs": [],
   "source": []
  },
  {
   "cell_type": "markdown",
   "id": "beginning-dynamics",
   "metadata": {},
   "source": [
    "**b. (4 Points)** Using your regex skills, construct a logical vector indicating whether a character has a title (i.e.,\n",
    "Rev. and Dr.)."
   ]
  },
  {
   "cell_type": "code",
   "execution_count": null,
   "id": "anticipated-african",
   "metadata": {},
   "outputs": [],
   "source": []
  },
  {
   "cell_type": "markdown",
   "id": "protective-valuable",
   "metadata": {},
   "source": [
    "**c. (4 Points)** Using your regex skills, construct a logical vector indicating whether a character has a\n",
    "middle/second name."
   ]
  },
  {
   "cell_type": "code",
   "execution_count": null,
   "id": "breathing-salem",
   "metadata": {},
   "outputs": [],
   "source": []
  },
  {
   "cell_type": "markdown",
   "id": "headed-banking",
   "metadata": {},
   "source": [
    "**3. (6 Points) Consider the HTML string** \\<title\\>+++BREAKING NEWS+++\\<title\\>. We would like to extract the first HTML tag\n",
    "(i.e., “\\<title\\>”). To do so we write the regular expression “\\<.+\\>”. Explain why this fails and correct the expression."
   ]
  },
  {
   "cell_type": "code",
   "execution_count": null,
   "id": "directed-heading",
   "metadata": {},
   "outputs": [],
   "source": []
  },
  {
   "cell_type": "markdown",
   "id": "attempted-regression",
   "metadata": {},
   "source": [
    "**4. (6 Points)** Consider the string “(5-3)^2=5^2-2*5*3+3^2” conforms to the binomial theorem. We would like to extract\n",
    "the equation in its entirety from the string. To do so we write the regular expression “[^0-9=+*()]+”. Explain why this\n",
    "fails and correct the expression."
   ]
  },
  {
   "cell_type": "code",
   "execution_count": null,
   "id": "variable-suspension",
   "metadata": {},
   "outputs": [],
   "source": []
  },
  {
   "cell_type": "markdown",
   "id": "electric-admission",
   "metadata": {},
   "source": [
    "_______________________________________________\n",
    "### Part 2: Analyzing Chess Tournament Results (70 Points)\n",
    "\n",
    "**For Part 2 of Project 1, you’re given a text file (“Project1.txt”)** with chess tournament results where the information has\n",
    "some structure. <br>\n",
    "\n",
    "**Read in .txt**"
   ]
  },
  {
   "cell_type": "code",
   "execution_count": 185,
   "id": "novel-appendix",
   "metadata": {},
   "outputs": [],
   "source": [
    "import csv\n",
    "import re\n",
    "textfile = open('./Project1.txt', \"r\")\n",
    "regex_split_on_nl_char = re.compile('[^\\n^\\-]+\\n')\n",
    "txtfile_rows = regex_split_on_nl_char.findall(textfile.read())\n",
    "# print(txtfile_rows)\n",
    "# regex_for_likely_name = re.compile('[a-zA-Z]{2,} [a-zA-Z]')"
   ]
  },
  {
   "cell_type": "markdown",
   "id": "danish-uruguay",
   "metadata": {},
   "source": [
    "**Your job is to create a Jupyter Notebook that generates a .CSV file with the following information for\n",
    "each of the chess players:**\n",
    "Player’s Name, Player’s State, Total Number of Points, Player’s Pre-Rating, and Average Pre Tournament Chess Rating of\n",
    "Opponents"
   ]
  },
  {
   "cell_type": "markdown",
   "id": "japanese-basement",
   "metadata": {},
   "source": [
    "For the first player shown in the file excerpt below, that information would be: <br>\n",
    "_Gary Hua, ON, 6.0, 1794, 1605_ <br>"
   ]
  },
  {
   "cell_type": "markdown",
   "id": "distinguished-reset",
   "metadata": {},
   "source": [
    "His “Average Pre Tournament Chess Rating of Opponents” score of 1605 was calculated by using the pre-tournament\n",
    "opponents’ ratings of 1436, 1563, 1600, 1610, 1649, 1663, 1716, and dividing by the total number of games played."
   ]
  },
  {
   "cell_type": "markdown",
   "id": "political-description",
   "metadata": {},
   "source": [
    "**Your job is to create a Jupyter Notebook that generates a .CSV file with the following information for\n",
    "each of the chess players:**\n",
    "Player’s Name, Player’s State, Total Number of Points, Player’s Pre-Rating, and Average Pre Tournament Chess Rating of\n",
    "Opponents\n",
    "\n",
    "For the first player shown in the file excerpt below, that information would be: <br>\n",
    "_Gary Hua, ON, 6.0, 1794, 1605_ <br>\n",
    "\n",
    "His “Average Pre Tournament Chess Rating of Opponents” score of 1605 was calculated by using the pre-tournament\n",
    "opponents’ ratings of 1436, 1563, 1600, 1610, 1649, 1663, 1716, and dividing by the total number of games played.\n",
    "\n",
    "For each player we are provided with the total points they’ve won during the tournament and details on the results of\n",
    "their seven rounds of play. For each round we are given the unique ID of their opponent (an integer value) and an\n",
    "indicator of whether they won (‘W’), lost (‘L’), achieved a draw (‘D’), had a bye for that round (‘B’), or were unable to\n",
    "compete (‘U’).\n",
    "<br>\n",
    "<br>\n",
    "If you have questions about the meaning of the remainder of the data or the results, please post them in the weekly\n",
    "Discussion Forum. Data science, like chess, is a game of back and forth…\n",
    "The chess rating system (invented by a Minnesota statistician named Arpad Elo) has been used in many other contexts,\n",
    "including assessing the relative strength of employment candidates by human resource departments ([it has even been used by some online dating platforms to match up profiles](https://www.vox.com/2019/2/7/18210998/tinder-algorithm-swiping-tips-dating-app-science) ).\n",
    "<br>\n",
    "<br>\n",
    "Be sure to include some commentary in formatted Markdown cells explaining your approach to solving each of the\n",
    "individual problems. Save all of your work for this project within a single Jupyter Notebook upload / submit it within the\n",
    "provided Project 1 Canvas submission portal. Be sure to save your Notebook using the following nomenclature : first\n",
    "initial_last name_project1\" (e.g., J_Smith_project1). Small groups should identity all group members at the start\n",
    "of the Jupyter Notebook and each team member should submit their own copy of the team’s work within Canvas."
   ]
  },
  {
   "cell_type": "markdown",
   "id": "joint-batch",
   "metadata": {},
   "source": [
    "_______________________________________________\n",
    "### Part 2: Analyzing Chess Tournament Results (70 Points)\n",
    "\n",
    "**For Part 2 of Project 1, you’re given a text file (“Project1.txt”)** with chess tournament results where the information has\n",
    "some structure. <br>\n",
    "\n",
    "**Read in .txt**"
   ]
  },
  {
   "cell_type": "code",
   "execution_count": 183,
   "id": "collected-drive",
   "metadata": {},
   "outputs": [
    {
     "name": "stdout",
     "output_type": "stream",
     "text": [
      " GARY HUA                        |\n",
      "6.0\n",
      " DAKSHESH DARURI                 |\n",
      "6.0\n",
      " ADITYA BAJAJ                    |\n",
      "6.0\n",
      " PATRICK H SCHILLING             |\n",
      "5.5\n",
      " HANSHI ZUO                      |\n",
      "5.5\n",
      " HANSEN SONG                     |\n",
      "5.0\n",
      " GARY DEE SWATHELL               |\n",
      "5.0\n",
      " EZEKIEL HOUGHTON                |\n",
      "5.0\n",
      " STEFANO LEE                     |\n",
      "5.0\n",
      " ANVIT RAO                       |\n",
      "5.0\n",
      " CAMERON WILLIAM MC LEMAN        |\n",
      "4.5\n",
      " KENNETH J TACK                  |\n",
      "4.5\n",
      " TORRANCE HENRY JR               |\n",
      "4.5\n",
      " BRADLEY SHAW                    |\n",
      "4.5\n",
      " ZACHARY JAMES HOUGHTON          |\n",
      "4.5\n",
      " MIKE NIKITIN                    |\n",
      "4.0\n",
      " RONALD GRZEGORCZYK              |\n",
      "4.0\n",
      " DAVID SUNDEEN                   |\n",
      "4.0\n",
      " DIPANKAR ROY                    |\n",
      "4.0\n",
      " JASON ZHENG                     |\n",
      "4.0\n",
      " DINH DANG BUI                   |\n",
      "4.0\n",
      " EUGENE L MCCLURE                |\n",
      "4.0\n",
      " ALAN BUI                        |\n",
      "4.0\n",
      " MICHAEL R ALDRICH               |\n",
      "4.0\n",
      " LOREN SCHWIEBERT                |\n",
      "3.5\n",
      " MAX ZHU                         |\n",
      "3.5\n",
      " GAURAV GIDWANI                  |\n",
      "3.5\n",
      " CHIEDOZIE OKORIE                |\n",
      "3.5\n",
      " GEORGE AVERY JONES              |\n",
      "3.5\n",
      " RISHI SHETTY                    |\n",
      "3.5\n",
      " JOSHUA PHILIP MATHEWS           |\n",
      "3.5\n",
      " JADE GE                         |\n",
      "3.5\n",
      " MICHAEL JEFFERY THOMAS          |\n",
      "3.5\n",
      " JOSHUA DAVID LEE                |\n",
      "3.5\n",
      " SIDDHARTH JHA                   |\n",
      "3.5\n",
      " AMIYATOSH PWNANANDAM            |\n",
      "3.5\n",
      " BRIAN LIU                       |\n",
      "3.0\n",
      " JOEL R HENDON                   |\n",
      "3.0\n",
      " FOREST ZHANG                    |\n",
      "3.0\n",
      " KYLE WILLIAM MURPHY             |\n",
      "3.0\n",
      " JARED GE                        |\n",
      "3.0\n",
      " ROBERT GLEN VASEY               |\n",
      "3.0\n",
      " JUSTIN D SCHILLING              |\n",
      "3.0\n",
      " DEREK YAN                       |\n",
      "3.0\n",
      " JACOB ALEXANDER LAVALLEY        |\n",
      "3.0\n",
      " ERIC WRIGHT                     |\n",
      "2.5\n",
      " DANIEL KHAIN                    |\n",
      "2.5\n",
      " MICHAEL J MARTIN                |\n",
      "2.5\n",
      " SHIVAM JHA                      |\n",
      "2.5\n",
      " TEJAS AYYAGARI                  |\n",
      "2.5\n",
      " ETHAN GUO                       |\n",
      "2.5\n",
      " JOSE C YBARRA                   |\n",
      "2.0\n",
      " LARRY HODGE                     |\n",
      "2.0\n",
      " ALEX KONG                       |\n",
      "2.0\n",
      " MARISA RICCI                    |\n",
      "2.0\n",
      " MICHAEL LU                      |\n",
      "2.0\n",
      " VIRAJ MOHILE                    |\n",
      "2.0\n",
      " SEAN M MC CORMICK               |\n",
      "2.0\n",
      " JULIA SHEN                      |\n",
      "1.5\n",
      " JEZZEL FARKAS                   |\n",
      "1.5\n",
      " ASHWIN BALAJI                   |\n",
      "1.0\n",
      " THOMAS JOSEPH HOSMER            |\n",
      "1.0\n",
      " BEN LI                          |\n",
      "1.0\n"
     ]
    }
   ],
   "source": [
    "from colorama import Fore, Back, Style \n",
    "\n",
    "\n",
    "match_records = []\n",
    "regex_split_on_vert_bar = re.compile('[^\\|]+\\|')\n",
    "for i in range(0, len(txtfile_rows),2):\n",
    "    row = txtfile_rows[i]\n",
    "    list_of_vert_bar_delimited_items = regex_split_on_vert_bar.findall(row)\n",
    "    record = (list_of_vert_bar_delimited_items + regex_split_on_vert_bar.findall(txtfile_rows[i+1]))\n",
    "    match_records.append(record)\n",
    "    total_points_occurance = re.compile(r'(\\d+\\.\\d{,2})').findall(record[2])\n",
    "    if(len(total_points_occurance) > 0):\n",
    "        total_points = float(total_points_occurance[0])\n",
    "        print(record[1])\n",
    "        print(total_points)\n",
    "# for i in range(len(match_records)):\n",
    "#     row = match_records[i]\n",
    "# #     total_points_occurance = \n",
    "#     print('row: ',row, 'points: ', total_points_occurance)\n",
    "# for record in match_records:\n",
    "#     print(Back.GREEN+record[:len(record)-1])\n"
   ]
  },
  {
   "cell_type": "markdown",
   "id": "proper-albany",
   "metadata": {},
   "source": []
  },
  {
   "cell_type": "markdown",
   "id": "laughing-agreement",
   "metadata": {},
   "source": [
    "\n",
    "______________________________________\n",
    "### Part 2 Grading Rubric: \n",
    "**Up to 50 points** <br> \n",
    "If you successfully write the player name\n",
    "and total points into a pandas DataFrame, then into a .CSV file. \n",
    "<br><br>\n",
    "**Up to 60 points** <br>\n",
    "If you also successfully process the information from the second line for each player: state and\n",
    "pre-tournament rating. \n",
    "<br><br>\n",
    "**To get the full 70 points for Part 2** <br>\n",
    "You must successfully\n",
    "calculate and process the average pre-tournament rating for each player’s opponents."
   ]
  }
 ],
 "metadata": {
  "kernelspec": {
   "display_name": "Python 3",
   "language": "python",
   "name": "python3"
  },
  "language_info": {
   "codemirror_mode": {
    "name": "ipython",
    "version": 3
   },
   "file_extension": ".py",
   "mimetype": "text/x-python",
   "name": "python",
   "nbconvert_exporter": "python",
   "pygments_lexer": "ipython3",
   "version": "3.7.4"
  }
 },
 "nbformat": 4,
 "nbformat_minor": 5
}
