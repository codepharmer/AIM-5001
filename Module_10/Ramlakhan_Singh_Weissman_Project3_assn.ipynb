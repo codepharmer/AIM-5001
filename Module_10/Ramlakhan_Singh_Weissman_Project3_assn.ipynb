{
 "cells": [
  {
   "cell_type": "markdown",
   "id": "signal-burden",
   "metadata": {},
   "source": [
    "Atreish Ramlakhan, Aishwarya Singh, Nosson Weissman <br>\n",
    "Professor James Topor <br>\n",
    "AIM 5001 <br>\n",
    "April 4, 2021 \n",
    "\n",
    "__AIM 5001 Project 3 : Data Preparation & Feature Engineering__"
   ]
  },
  {
   "cell_type": "code",
   "execution_count": 1,
   "id": "excellent-literature",
   "metadata": {},
   "outputs": [],
   "source": [
    "import pandas as pd\n",
    "import numpy as np\n",
    "import matplotlib.pyplot as plt\n",
    "import seaborn as sns\n",
    "import sklearn.preprocessing as skp"
   ]
  },
  {
   "cell_type": "markdown",
   "id": "flexible-shirt",
   "metadata": {},
   "source": [
    "# Part 1 : Data Loading"
   ]
  },
  {
   "cell_type": "markdown",
   "id": "saving-perception",
   "metadata": {},
   "source": [
    "We create a list of attribute names in order, then load the cars data set from csv into pandas."
   ]
  },
  {
   "cell_type": "code",
   "execution_count": 2,
   "id": "enhanced-google",
   "metadata": {},
   "outputs": [
    {
     "data": {
      "text/html": [
       "<div>\n",
       "<style scoped>\n",
       "    .dataframe tbody tr th:only-of-type {\n",
       "        vertical-align: middle;\n",
       "    }\n",
       "\n",
       "    .dataframe tbody tr th {\n",
       "        vertical-align: top;\n",
       "    }\n",
       "\n",
       "    .dataframe thead th {\n",
       "        text-align: right;\n",
       "    }\n",
       "</style>\n",
       "<table border=\"1\" class=\"dataframe\">\n",
       "  <thead>\n",
       "    <tr style=\"text-align: right;\">\n",
       "      <th></th>\n",
       "      <th>symboling</th>\n",
       "      <th>normalized_losses</th>\n",
       "      <th>make</th>\n",
       "      <th>fuel_type</th>\n",
       "      <th>aspiration</th>\n",
       "      <th>num_of_doors</th>\n",
       "      <th>body_style</th>\n",
       "      <th>drive_wheels</th>\n",
       "      <th>engine_location</th>\n",
       "      <th>wheel_base</th>\n",
       "      <th>...</th>\n",
       "      <th>engine_size</th>\n",
       "      <th>fuel_system</th>\n",
       "      <th>bore</th>\n",
       "      <th>stroke</th>\n",
       "      <th>compression_ratio</th>\n",
       "      <th>horsepower</th>\n",
       "      <th>peak_rpm</th>\n",
       "      <th>city_mpg</th>\n",
       "      <th>highway_mpg</th>\n",
       "      <th>price</th>\n",
       "    </tr>\n",
       "  </thead>\n",
       "  <tbody>\n",
       "    <tr>\n",
       "      <th>0</th>\n",
       "      <td>3</td>\n",
       "      <td>?</td>\n",
       "      <td>alfa-romero</td>\n",
       "      <td>gas</td>\n",
       "      <td>std</td>\n",
       "      <td>two</td>\n",
       "      <td>convertible</td>\n",
       "      <td>rwd</td>\n",
       "      <td>front</td>\n",
       "      <td>88.6</td>\n",
       "      <td>...</td>\n",
       "      <td>130</td>\n",
       "      <td>mpfi</td>\n",
       "      <td>3.47</td>\n",
       "      <td>2.68</td>\n",
       "      <td>9.0</td>\n",
       "      <td>111</td>\n",
       "      <td>5000</td>\n",
       "      <td>21</td>\n",
       "      <td>27</td>\n",
       "      <td>13495</td>\n",
       "    </tr>\n",
       "    <tr>\n",
       "      <th>1</th>\n",
       "      <td>3</td>\n",
       "      <td>?</td>\n",
       "      <td>alfa-romero</td>\n",
       "      <td>gas</td>\n",
       "      <td>std</td>\n",
       "      <td>two</td>\n",
       "      <td>convertible</td>\n",
       "      <td>rwd</td>\n",
       "      <td>front</td>\n",
       "      <td>88.6</td>\n",
       "      <td>...</td>\n",
       "      <td>130</td>\n",
       "      <td>mpfi</td>\n",
       "      <td>3.47</td>\n",
       "      <td>2.68</td>\n",
       "      <td>9.0</td>\n",
       "      <td>111</td>\n",
       "      <td>5000</td>\n",
       "      <td>21</td>\n",
       "      <td>27</td>\n",
       "      <td>16500</td>\n",
       "    </tr>\n",
       "    <tr>\n",
       "      <th>2</th>\n",
       "      <td>1</td>\n",
       "      <td>?</td>\n",
       "      <td>alfa-romero</td>\n",
       "      <td>gas</td>\n",
       "      <td>std</td>\n",
       "      <td>two</td>\n",
       "      <td>hatchback</td>\n",
       "      <td>rwd</td>\n",
       "      <td>front</td>\n",
       "      <td>94.5</td>\n",
       "      <td>...</td>\n",
       "      <td>152</td>\n",
       "      <td>mpfi</td>\n",
       "      <td>2.68</td>\n",
       "      <td>3.47</td>\n",
       "      <td>9.0</td>\n",
       "      <td>154</td>\n",
       "      <td>5000</td>\n",
       "      <td>19</td>\n",
       "      <td>26</td>\n",
       "      <td>16500</td>\n",
       "    </tr>\n",
       "    <tr>\n",
       "      <th>3</th>\n",
       "      <td>2</td>\n",
       "      <td>164</td>\n",
       "      <td>audi</td>\n",
       "      <td>gas</td>\n",
       "      <td>std</td>\n",
       "      <td>four</td>\n",
       "      <td>sedan</td>\n",
       "      <td>fwd</td>\n",
       "      <td>front</td>\n",
       "      <td>99.8</td>\n",
       "      <td>...</td>\n",
       "      <td>109</td>\n",
       "      <td>mpfi</td>\n",
       "      <td>3.19</td>\n",
       "      <td>3.4</td>\n",
       "      <td>10.0</td>\n",
       "      <td>102</td>\n",
       "      <td>5500</td>\n",
       "      <td>24</td>\n",
       "      <td>30</td>\n",
       "      <td>13950</td>\n",
       "    </tr>\n",
       "    <tr>\n",
       "      <th>4</th>\n",
       "      <td>2</td>\n",
       "      <td>164</td>\n",
       "      <td>audi</td>\n",
       "      <td>gas</td>\n",
       "      <td>std</td>\n",
       "      <td>four</td>\n",
       "      <td>sedan</td>\n",
       "      <td>4wd</td>\n",
       "      <td>front</td>\n",
       "      <td>99.4</td>\n",
       "      <td>...</td>\n",
       "      <td>136</td>\n",
       "      <td>mpfi</td>\n",
       "      <td>3.19</td>\n",
       "      <td>3.4</td>\n",
       "      <td>8.0</td>\n",
       "      <td>115</td>\n",
       "      <td>5500</td>\n",
       "      <td>18</td>\n",
       "      <td>22</td>\n",
       "      <td>17450</td>\n",
       "    </tr>\n",
       "  </tbody>\n",
       "</table>\n",
       "<p>5 rows × 26 columns</p>\n",
       "</div>"
      ],
      "text/plain": [
       "   symboling normalized_losses         make fuel_type aspiration num_of_doors  \\\n",
       "0          3                 ?  alfa-romero       gas        std          two   \n",
       "1          3                 ?  alfa-romero       gas        std          two   \n",
       "2          1                 ?  alfa-romero       gas        std          two   \n",
       "3          2               164         audi       gas        std         four   \n",
       "4          2               164         audi       gas        std         four   \n",
       "\n",
       "    body_style drive_wheels engine_location  wheel_base  ...  engine_size  \\\n",
       "0  convertible          rwd           front        88.6  ...          130   \n",
       "1  convertible          rwd           front        88.6  ...          130   \n",
       "2    hatchback          rwd           front        94.5  ...          152   \n",
       "3        sedan          fwd           front        99.8  ...          109   \n",
       "4        sedan          4wd           front        99.4  ...          136   \n",
       "\n",
       "   fuel_system  bore  stroke compression_ratio horsepower  peak_rpm city_mpg  \\\n",
       "0         mpfi  3.47    2.68               9.0        111      5000       21   \n",
       "1         mpfi  3.47    2.68               9.0        111      5000       21   \n",
       "2         mpfi  2.68    3.47               9.0        154      5000       19   \n",
       "3         mpfi  3.19     3.4              10.0        102      5500       24   \n",
       "4         mpfi  3.19     3.4               8.0        115      5500       18   \n",
       "\n",
       "  highway_mpg  price  \n",
       "0          27  13495  \n",
       "1          27  16500  \n",
       "2          26  16500  \n",
       "3          30  13950  \n",
       "4          22  17450  \n",
       "\n",
       "[5 rows x 26 columns]"
      ]
     },
     "execution_count": 2,
     "metadata": {},
     "output_type": "execute_result"
    }
   ],
   "source": [
    "attributes =  ('symboling','normalized_losses',\n",
    "    'make','fuel_type','aspiration',\n",
    "    'num_of_doors','body_style',\n",
    "    'drive_wheels','engine_location',\n",
    "    'wheel_base','length',\n",
    "    'width','height',\n",
    "    'curb_weight','engine_type',\n",
    "    'num_of_cylinders','engine_size',\n",
    "    'fuel_system','bore','stroke',\n",
    "    'compression_ratio','horsepower',\n",
    "    'peak_rpm','city_mpg',\n",
    "    'highway_mpg','price')\n",
    "\n",
    "CarInfo = pd.read_csv('https://raw.githubusercontent.com/codepharmer/AIM-5001/main/Module_10/M10_Data.csv', names = attributes)\n",
    "\n",
    "CarInfo.head()"
   ]
  },
  {
   "cell_type": "code",
   "execution_count": 3,
   "id": "later-beijing",
   "metadata": {},
   "outputs": [
    {
     "data": {
      "text/html": [
       "<div>\n",
       "<style scoped>\n",
       "    .dataframe tbody tr th:only-of-type {\n",
       "        vertical-align: middle;\n",
       "    }\n",
       "\n",
       "    .dataframe tbody tr th {\n",
       "        vertical-align: top;\n",
       "    }\n",
       "\n",
       "    .dataframe thead th {\n",
       "        text-align: right;\n",
       "    }\n",
       "</style>\n",
       "<table border=\"1\" class=\"dataframe\">\n",
       "  <thead>\n",
       "    <tr style=\"text-align: right;\">\n",
       "      <th></th>\n",
       "      <th>symboling</th>\n",
       "      <th>wheel_base</th>\n",
       "      <th>length</th>\n",
       "      <th>width</th>\n",
       "      <th>height</th>\n",
       "      <th>curb_weight</th>\n",
       "      <th>engine_size</th>\n",
       "      <th>compression_ratio</th>\n",
       "      <th>city_mpg</th>\n",
       "      <th>highway_mpg</th>\n",
       "    </tr>\n",
       "  </thead>\n",
       "  <tbody>\n",
       "    <tr>\n",
       "      <th>count</th>\n",
       "      <td>205.000000</td>\n",
       "      <td>205.000000</td>\n",
       "      <td>205.000000</td>\n",
       "      <td>205.000000</td>\n",
       "      <td>205.000000</td>\n",
       "      <td>205.000000</td>\n",
       "      <td>205.000000</td>\n",
       "      <td>205.000000</td>\n",
       "      <td>205.000000</td>\n",
       "      <td>205.000000</td>\n",
       "    </tr>\n",
       "    <tr>\n",
       "      <th>mean</th>\n",
       "      <td>0.834146</td>\n",
       "      <td>98.756585</td>\n",
       "      <td>174.049268</td>\n",
       "      <td>65.907805</td>\n",
       "      <td>53.724878</td>\n",
       "      <td>2555.565854</td>\n",
       "      <td>126.907317</td>\n",
       "      <td>10.142537</td>\n",
       "      <td>25.219512</td>\n",
       "      <td>30.751220</td>\n",
       "    </tr>\n",
       "    <tr>\n",
       "      <th>std</th>\n",
       "      <td>1.245307</td>\n",
       "      <td>6.021776</td>\n",
       "      <td>12.337289</td>\n",
       "      <td>2.145204</td>\n",
       "      <td>2.443522</td>\n",
       "      <td>520.680204</td>\n",
       "      <td>41.642693</td>\n",
       "      <td>3.972040</td>\n",
       "      <td>6.542142</td>\n",
       "      <td>6.886443</td>\n",
       "    </tr>\n",
       "    <tr>\n",
       "      <th>min</th>\n",
       "      <td>-2.000000</td>\n",
       "      <td>86.600000</td>\n",
       "      <td>141.100000</td>\n",
       "      <td>60.300000</td>\n",
       "      <td>47.800000</td>\n",
       "      <td>1488.000000</td>\n",
       "      <td>61.000000</td>\n",
       "      <td>7.000000</td>\n",
       "      <td>13.000000</td>\n",
       "      <td>16.000000</td>\n",
       "    </tr>\n",
       "    <tr>\n",
       "      <th>25%</th>\n",
       "      <td>0.000000</td>\n",
       "      <td>94.500000</td>\n",
       "      <td>166.300000</td>\n",
       "      <td>64.100000</td>\n",
       "      <td>52.000000</td>\n",
       "      <td>2145.000000</td>\n",
       "      <td>97.000000</td>\n",
       "      <td>8.600000</td>\n",
       "      <td>19.000000</td>\n",
       "      <td>25.000000</td>\n",
       "    </tr>\n",
       "    <tr>\n",
       "      <th>50%</th>\n",
       "      <td>1.000000</td>\n",
       "      <td>97.000000</td>\n",
       "      <td>173.200000</td>\n",
       "      <td>65.500000</td>\n",
       "      <td>54.100000</td>\n",
       "      <td>2414.000000</td>\n",
       "      <td>120.000000</td>\n",
       "      <td>9.000000</td>\n",
       "      <td>24.000000</td>\n",
       "      <td>30.000000</td>\n",
       "    </tr>\n",
       "    <tr>\n",
       "      <th>75%</th>\n",
       "      <td>2.000000</td>\n",
       "      <td>102.400000</td>\n",
       "      <td>183.100000</td>\n",
       "      <td>66.900000</td>\n",
       "      <td>55.500000</td>\n",
       "      <td>2935.000000</td>\n",
       "      <td>141.000000</td>\n",
       "      <td>9.400000</td>\n",
       "      <td>30.000000</td>\n",
       "      <td>34.000000</td>\n",
       "    </tr>\n",
       "    <tr>\n",
       "      <th>max</th>\n",
       "      <td>3.000000</td>\n",
       "      <td>120.900000</td>\n",
       "      <td>208.100000</td>\n",
       "      <td>72.300000</td>\n",
       "      <td>59.800000</td>\n",
       "      <td>4066.000000</td>\n",
       "      <td>326.000000</td>\n",
       "      <td>23.000000</td>\n",
       "      <td>49.000000</td>\n",
       "      <td>54.000000</td>\n",
       "    </tr>\n",
       "  </tbody>\n",
       "</table>\n",
       "</div>"
      ],
      "text/plain": [
       "        symboling  wheel_base      length       width      height  \\\n",
       "count  205.000000  205.000000  205.000000  205.000000  205.000000   \n",
       "mean     0.834146   98.756585  174.049268   65.907805   53.724878   \n",
       "std      1.245307    6.021776   12.337289    2.145204    2.443522   \n",
       "min     -2.000000   86.600000  141.100000   60.300000   47.800000   \n",
       "25%      0.000000   94.500000  166.300000   64.100000   52.000000   \n",
       "50%      1.000000   97.000000  173.200000   65.500000   54.100000   \n",
       "75%      2.000000  102.400000  183.100000   66.900000   55.500000   \n",
       "max      3.000000  120.900000  208.100000   72.300000   59.800000   \n",
       "\n",
       "       curb_weight  engine_size  compression_ratio    city_mpg  highway_mpg  \n",
       "count   205.000000   205.000000         205.000000  205.000000   205.000000  \n",
       "mean   2555.565854   126.907317          10.142537   25.219512    30.751220  \n",
       "std     520.680204    41.642693           3.972040    6.542142     6.886443  \n",
       "min    1488.000000    61.000000           7.000000   13.000000    16.000000  \n",
       "25%    2145.000000    97.000000           8.600000   19.000000    25.000000  \n",
       "50%    2414.000000   120.000000           9.000000   24.000000    30.000000  \n",
       "75%    2935.000000   141.000000           9.400000   30.000000    34.000000  \n",
       "max    4066.000000   326.000000          23.000000   49.000000    54.000000  "
      ]
     },
     "execution_count": 3,
     "metadata": {},
     "output_type": "execute_result"
    }
   ],
   "source": [
    "CarInfo.describe()"
   ]
  },
  {
   "cell_type": "code",
   "execution_count": 4,
   "id": "empirical-miller",
   "metadata": {},
   "outputs": [
    {
     "data": {
      "text/plain": [
       "symboling              int64\n",
       "normalized_losses     object\n",
       "make                  object\n",
       "fuel_type             object\n",
       "aspiration            object\n",
       "num_of_doors          object\n",
       "body_style            object\n",
       "drive_wheels          object\n",
       "engine_location       object\n",
       "wheel_base           float64\n",
       "length               float64\n",
       "width                float64\n",
       "height               float64\n",
       "curb_weight            int64\n",
       "engine_type           object\n",
       "num_of_cylinders      object\n",
       "engine_size            int64\n",
       "fuel_system           object\n",
       "bore                  object\n",
       "stroke                object\n",
       "compression_ratio    float64\n",
       "horsepower            object\n",
       "peak_rpm              object\n",
       "city_mpg               int64\n",
       "highway_mpg            int64\n",
       "price                 object\n",
       "dtype: object"
      ]
     },
     "execution_count": 4,
     "metadata": {},
     "output_type": "execute_result"
    }
   ],
   "source": [
    "CarInfo.dtypes"
   ]
  },
  {
   "cell_type": "markdown",
   "id": "exact-luxembourg",
   "metadata": {},
   "source": [
    "Missing values in this data set are represented initially by '?' characters.\n",
    "We find out how many missing values, if any, each attribute has."
   ]
  },
  {
   "cell_type": "code",
   "execution_count": 5,
   "id": "compressed-needle",
   "metadata": {},
   "outputs": [
    {
     "name": "stdout",
     "output_type": "stream",
     "text": [
      "Missing Vals:\n",
      "\n",
      "normalized_losses :  41\n",
      "num_of_doors :  2\n",
      "bore :  4\n",
      "stroke :  4\n",
      "horsepower :  2\n",
      "peak_rpm :  2\n",
      "price :  4\n"
     ]
    }
   ],
   "source": [
    "print('Missing Vals:\\n')\n",
    "for attr in CarInfo: \n",
    "    c = CarInfo[CarInfo[attr] == '?']\n",
    "    if not c.empty:\n",
    "        print(attr, ': ', len(c))"
   ]
  },
  {
   "cell_type": "markdown",
   "id": "moved-detective",
   "metadata": {},
   "source": [
    "We replace the question marks with pandas NaN characters to represent missing values, \n",
    "then convert the numeric attributes that had been mischaracterized into appropriate data types."
   ]
  },
  {
   "cell_type": "code",
   "execution_count": 6,
   "id": "dangerous-shore",
   "metadata": {},
   "outputs": [],
   "source": [
    "CarInfo.replace('?', np.NaN, inplace = True)\n",
    "\n",
    "numerics = ('normalized_losses', 'bore', 'stroke', 'horsepower', 'peak_rpm', 'price')\n",
    "\n",
    "for i in numerics:\n",
    "    CarInfo[i] = pd.to_numeric(CarInfo[i])\n"
   ]
  },
  {
   "cell_type": "markdown",
   "id": "warming-pierre",
   "metadata": {},
   "source": [
    "The 'symboling' attribute is a categorical ordinal attribute which pandas had misidentified as numeric.\n",
    "We convert this into an object type before proceeding."
   ]
  },
  {
   "cell_type": "code",
   "execution_count": 7,
   "id": "convinced-emission",
   "metadata": {},
   "outputs": [
    {
     "data": {
      "text/plain": [
       "symboling             object\n",
       "normalized_losses    float64\n",
       "make                  object\n",
       "fuel_type             object\n",
       "aspiration            object\n",
       "num_of_doors          object\n",
       "body_style            object\n",
       "drive_wheels          object\n",
       "engine_location       object\n",
       "wheel_base           float64\n",
       "length               float64\n",
       "width                float64\n",
       "height               float64\n",
       "curb_weight            int64\n",
       "engine_type           object\n",
       "num_of_cylinders      object\n",
       "engine_size            int64\n",
       "fuel_system           object\n",
       "bore                 float64\n",
       "stroke               float64\n",
       "compression_ratio    float64\n",
       "horsepower           float64\n",
       "peak_rpm             float64\n",
       "city_mpg               int64\n",
       "highway_mpg            int64\n",
       "price                float64\n",
       "dtype: object"
      ]
     },
     "execution_count": 7,
     "metadata": {},
     "output_type": "execute_result"
    }
   ],
   "source": [
    "CarInfo.symboling = CarInfo.symboling.astype(object)\n",
    "\n",
    "CarInfo.dtypes"
   ]
  },
  {
   "cell_type": "markdown",
   "id": "imperial-kruger",
   "metadata": {},
   "source": [
    "# Part 2 : Exploratory Data Analysis"
   ]
  },
  {
   "cell_type": "markdown",
   "id": "silver-safety",
   "metadata": {},
   "source": [
    "## Numeric Attributes"
   ]
  },
  {
   "cell_type": "code",
   "execution_count": 8,
   "id": "opposed-cholesterol",
   "metadata": {},
   "outputs": [
    {
     "data": {
      "text/html": [
       "<div>\n",
       "<style scoped>\n",
       "    .dataframe tbody tr th:only-of-type {\n",
       "        vertical-align: middle;\n",
       "    }\n",
       "\n",
       "    .dataframe tbody tr th {\n",
       "        vertical-align: top;\n",
       "    }\n",
       "\n",
       "    .dataframe thead th {\n",
       "        text-align: right;\n",
       "    }\n",
       "</style>\n",
       "<table border=\"1\" class=\"dataframe\">\n",
       "  <thead>\n",
       "    <tr style=\"text-align: right;\">\n",
       "      <th></th>\n",
       "      <th>normalized_losses</th>\n",
       "      <th>wheel_base</th>\n",
       "      <th>length</th>\n",
       "      <th>width</th>\n",
       "      <th>height</th>\n",
       "      <th>curb_weight</th>\n",
       "      <th>engine_size</th>\n",
       "      <th>bore</th>\n",
       "      <th>stroke</th>\n",
       "      <th>compression_ratio</th>\n",
       "      <th>horsepower</th>\n",
       "      <th>peak_rpm</th>\n",
       "      <th>city_mpg</th>\n",
       "      <th>highway_mpg</th>\n",
       "      <th>price</th>\n",
       "    </tr>\n",
       "  </thead>\n",
       "  <tbody>\n",
       "    <tr>\n",
       "      <th>count</th>\n",
       "      <td>164.000000</td>\n",
       "      <td>205.000000</td>\n",
       "      <td>205.000000</td>\n",
       "      <td>205.000000</td>\n",
       "      <td>205.000000</td>\n",
       "      <td>205.000000</td>\n",
       "      <td>205.000000</td>\n",
       "      <td>201.000000</td>\n",
       "      <td>201.000000</td>\n",
       "      <td>205.000000</td>\n",
       "      <td>203.000000</td>\n",
       "      <td>203.000000</td>\n",
       "      <td>205.000000</td>\n",
       "      <td>205.000000</td>\n",
       "      <td>201.000000</td>\n",
       "    </tr>\n",
       "    <tr>\n",
       "      <th>mean</th>\n",
       "      <td>122.000000</td>\n",
       "      <td>98.756585</td>\n",
       "      <td>174.049268</td>\n",
       "      <td>65.907805</td>\n",
       "      <td>53.724878</td>\n",
       "      <td>2555.565854</td>\n",
       "      <td>126.907317</td>\n",
       "      <td>3.329751</td>\n",
       "      <td>3.255423</td>\n",
       "      <td>10.142537</td>\n",
       "      <td>104.256158</td>\n",
       "      <td>5125.369458</td>\n",
       "      <td>25.219512</td>\n",
       "      <td>30.751220</td>\n",
       "      <td>13207.129353</td>\n",
       "    </tr>\n",
       "    <tr>\n",
       "      <th>std</th>\n",
       "      <td>35.442168</td>\n",
       "      <td>6.021776</td>\n",
       "      <td>12.337289</td>\n",
       "      <td>2.145204</td>\n",
       "      <td>2.443522</td>\n",
       "      <td>520.680204</td>\n",
       "      <td>41.642693</td>\n",
       "      <td>0.273539</td>\n",
       "      <td>0.316717</td>\n",
       "      <td>3.972040</td>\n",
       "      <td>39.714369</td>\n",
       "      <td>479.334560</td>\n",
       "      <td>6.542142</td>\n",
       "      <td>6.886443</td>\n",
       "      <td>7947.066342</td>\n",
       "    </tr>\n",
       "    <tr>\n",
       "      <th>min</th>\n",
       "      <td>65.000000</td>\n",
       "      <td>86.600000</td>\n",
       "      <td>141.100000</td>\n",
       "      <td>60.300000</td>\n",
       "      <td>47.800000</td>\n",
       "      <td>1488.000000</td>\n",
       "      <td>61.000000</td>\n",
       "      <td>2.540000</td>\n",
       "      <td>2.070000</td>\n",
       "      <td>7.000000</td>\n",
       "      <td>48.000000</td>\n",
       "      <td>4150.000000</td>\n",
       "      <td>13.000000</td>\n",
       "      <td>16.000000</td>\n",
       "      <td>5118.000000</td>\n",
       "    </tr>\n",
       "    <tr>\n",
       "      <th>25%</th>\n",
       "      <td>94.000000</td>\n",
       "      <td>94.500000</td>\n",
       "      <td>166.300000</td>\n",
       "      <td>64.100000</td>\n",
       "      <td>52.000000</td>\n",
       "      <td>2145.000000</td>\n",
       "      <td>97.000000</td>\n",
       "      <td>3.150000</td>\n",
       "      <td>3.110000</td>\n",
       "      <td>8.600000</td>\n",
       "      <td>70.000000</td>\n",
       "      <td>4800.000000</td>\n",
       "      <td>19.000000</td>\n",
       "      <td>25.000000</td>\n",
       "      <td>7775.000000</td>\n",
       "    </tr>\n",
       "    <tr>\n",
       "      <th>50%</th>\n",
       "      <td>115.000000</td>\n",
       "      <td>97.000000</td>\n",
       "      <td>173.200000</td>\n",
       "      <td>65.500000</td>\n",
       "      <td>54.100000</td>\n",
       "      <td>2414.000000</td>\n",
       "      <td>120.000000</td>\n",
       "      <td>3.310000</td>\n",
       "      <td>3.290000</td>\n",
       "      <td>9.000000</td>\n",
       "      <td>95.000000</td>\n",
       "      <td>5200.000000</td>\n",
       "      <td>24.000000</td>\n",
       "      <td>30.000000</td>\n",
       "      <td>10295.000000</td>\n",
       "    </tr>\n",
       "    <tr>\n",
       "      <th>75%</th>\n",
       "      <td>150.000000</td>\n",
       "      <td>102.400000</td>\n",
       "      <td>183.100000</td>\n",
       "      <td>66.900000</td>\n",
       "      <td>55.500000</td>\n",
       "      <td>2935.000000</td>\n",
       "      <td>141.000000</td>\n",
       "      <td>3.590000</td>\n",
       "      <td>3.410000</td>\n",
       "      <td>9.400000</td>\n",
       "      <td>116.000000</td>\n",
       "      <td>5500.000000</td>\n",
       "      <td>30.000000</td>\n",
       "      <td>34.000000</td>\n",
       "      <td>16500.000000</td>\n",
       "    </tr>\n",
       "    <tr>\n",
       "      <th>max</th>\n",
       "      <td>256.000000</td>\n",
       "      <td>120.900000</td>\n",
       "      <td>208.100000</td>\n",
       "      <td>72.300000</td>\n",
       "      <td>59.800000</td>\n",
       "      <td>4066.000000</td>\n",
       "      <td>326.000000</td>\n",
       "      <td>3.940000</td>\n",
       "      <td>4.170000</td>\n",
       "      <td>23.000000</td>\n",
       "      <td>288.000000</td>\n",
       "      <td>6600.000000</td>\n",
       "      <td>49.000000</td>\n",
       "      <td>54.000000</td>\n",
       "      <td>45400.000000</td>\n",
       "    </tr>\n",
       "  </tbody>\n",
       "</table>\n",
       "</div>"
      ],
      "text/plain": [
       "       normalized_losses  wheel_base      length       width      height  \\\n",
       "count         164.000000  205.000000  205.000000  205.000000  205.000000   \n",
       "mean          122.000000   98.756585  174.049268   65.907805   53.724878   \n",
       "std            35.442168    6.021776   12.337289    2.145204    2.443522   \n",
       "min            65.000000   86.600000  141.100000   60.300000   47.800000   \n",
       "25%            94.000000   94.500000  166.300000   64.100000   52.000000   \n",
       "50%           115.000000   97.000000  173.200000   65.500000   54.100000   \n",
       "75%           150.000000  102.400000  183.100000   66.900000   55.500000   \n",
       "max           256.000000  120.900000  208.100000   72.300000   59.800000   \n",
       "\n",
       "       curb_weight  engine_size        bore      stroke  compression_ratio  \\\n",
       "count   205.000000   205.000000  201.000000  201.000000         205.000000   \n",
       "mean   2555.565854   126.907317    3.329751    3.255423          10.142537   \n",
       "std     520.680204    41.642693    0.273539    0.316717           3.972040   \n",
       "min    1488.000000    61.000000    2.540000    2.070000           7.000000   \n",
       "25%    2145.000000    97.000000    3.150000    3.110000           8.600000   \n",
       "50%    2414.000000   120.000000    3.310000    3.290000           9.000000   \n",
       "75%    2935.000000   141.000000    3.590000    3.410000           9.400000   \n",
       "max    4066.000000   326.000000    3.940000    4.170000          23.000000   \n",
       "\n",
       "       horsepower     peak_rpm    city_mpg  highway_mpg         price  \n",
       "count  203.000000   203.000000  205.000000   205.000000    201.000000  \n",
       "mean   104.256158  5125.369458   25.219512    30.751220  13207.129353  \n",
       "std     39.714369   479.334560    6.542142     6.886443   7947.066342  \n",
       "min     48.000000  4150.000000   13.000000    16.000000   5118.000000  \n",
       "25%     70.000000  4800.000000   19.000000    25.000000   7775.000000  \n",
       "50%     95.000000  5200.000000   24.000000    30.000000  10295.000000  \n",
       "75%    116.000000  5500.000000   30.000000    34.000000  16500.000000  \n",
       "max    288.000000  6600.000000   49.000000    54.000000  45400.000000  "
      ]
     },
     "execution_count": 8,
     "metadata": {},
     "output_type": "execute_result"
    }
   ],
   "source": [
    "CarInfo.describe()"
   ]
  },
  {
   "cell_type": "markdown",
   "id": "stuffed-student",
   "metadata": {},
   "source": [
    "We select 8 numeric attributes of interest to discuss: normalized losses, curb weight, wheelbase, engine size, horsepower, city and highway MPG, and price."
   ]
  },
  {
   "cell_type": "markdown",
   "id": "entire-trust",
   "metadata": {},
   "source": [
    "### Normalized Losses\n",
    "Normalized losses is an actuarial statistic representing the relative average loss payment per insured vehicle year."
   ]
  },
  {
   "cell_type": "code",
   "execution_count": 9,
   "id": "civilian-warning",
   "metadata": {},
   "outputs": [
    {
     "data": {
      "image/png": "[encoded data removed]",
      "text/plain": [
       "<Figure size 576x288 with 2 Axes>"
      ]
     },
     "metadata": {
      "needs_background": "light"
     },
     "output_type": "display_data"
    }
   ],
   "source": [
    "plt.figure(figsize = (8,4))\n",
    "plt.suptitle('Normalized Losses', size = 15)\n",
    "\n",
    "plt.subplot(1,2,1)\n",
    "plt.title('Histogram of Normalized Losses')\n",
    "sns.histplot(x = CarInfo.normalized_losses, kde = True)\n",
    "plt.subplot(1,2,2)\n",
    "plt.title('Box Plot of Normalized Losses')\n",
    "sns.boxenplot(x = CarInfo.normalized_losses)\n",
    "\n",
    "plt.tight_layout()"
   ]
  },
  {
   "cell_type": "markdown",
   "id": "fifty-ceramic",
   "metadata": {},
   "source": [
    "We see that the normalized losses attribute has a significantly skewed distribution.\n",
    "Thus we can see that using a mean or median value to fill in the missing values for this attribute would be problematic."
   ]
  },
  {
   "cell_type": "markdown",
   "id": "recovered-university",
   "metadata": {},
   "source": [
    "### Car Size Attributes\n",
    "Curb weight and wheelbase are selected as two dimensions representing the size of cars in our data set."
   ]
  },
  {
   "cell_type": "code",
   "execution_count": 10,
   "id": "peripheral-vacation",
   "metadata": {},
   "outputs": [
    {
     "data": {
      "image/png": "[encoded data removed]",
      "text/plain": [
       "<Figure size 576x432 with 4 Axes>"
      ]
     },
     "metadata": {
      "needs_background": "light"
     },
     "output_type": "display_data"
    }
   ],
   "source": [
    "plt.figure(figsize = (8,6))\n",
    "plt.suptitle('Car Size', size = 15)\n",
    "\n",
    "plt.subplot(2,2,1)\n",
    "plt.title('Histogram of Curb Weight')\n",
    "sns.histplot(x = CarInfo.curb_weight, kde = True)\n",
    "plt.subplot(2,2,2)\n",
    "plt.title('Box Plot of Curb Weight')\n",
    "sns.boxenplot(x = CarInfo.curb_weight)\n",
    "\n",
    "plt.subplot(2,2,3)\n",
    "plt.title('Histogram of Wheelbase')\n",
    "sns.histplot(x = CarInfo.wheel_base, kde = True)\n",
    "plt.subplot(2,2,4)\n",
    "plt.title('Box Plot of Wheelbase')\n",
    "sns.boxenplot(x = CarInfo.wheel_base)\n",
    "\n",
    "plt.tight_layout()"
   ]
  },
  {
   "cell_type": "markdown",
   "id": "banner-hardwood",
   "metadata": {},
   "source": [
    "We see that the distributions of both variables are skewed, but have different shapes.\n",
    "Curb weight has a broader interquartile range, while wheelbase has more significant tails."
   ]
  },
  {
   "cell_type": "markdown",
   "id": "intellectual-windsor",
   "metadata": {},
   "source": [
    "### Engine Size & Horsepower\n",
    "Attributes pertaining to the engines of the cars in our data set."
   ]
  },
  {
   "cell_type": "code",
   "execution_count": 11,
   "id": "imposed-darwin",
   "metadata": {},
   "outputs": [
    {
     "data": {
      "image/png": "[encoded data removed]",
      "text/plain": [
       "<Figure size 576x288 with 2 Axes>"
      ]
     },
     "metadata": {
      "needs_background": "light"
     },
     "output_type": "display_data"
    }
   ],
   "source": [
    "plt.figure(figsize = (8,4))\n",
    "plt.suptitle('Engine Size', size = 15)\n",
    "\n",
    "plt.subplot(1,2,1)\n",
    "plt.title('Histogram of Engine Size')\n",
    "sns.histplot(x = CarInfo.engine_size, kde = True)\n",
    "plt.subplot(1,2,2)\n",
    "plt.title('Box Plot of Engine Size')\n",
    "sns.boxenplot(x = CarInfo.engine_size)\n",
    "\n",
    "plt.tight_layout()"
   ]
  },
  {
   "cell_type": "markdown",
   "id": "sought-residence",
   "metadata": {},
   "source": [
    "Similar to our car size attributes, the engine size attribute displays a skew with a long right tail representing \n",
    "a small number of large vehicles in our data set."
   ]
  },
  {
   "cell_type": "code",
   "execution_count": 12,
   "id": "demanding-peoples",
   "metadata": {},
   "outputs": [
    {
     "data": {
      "image/png": "[encoded data removed]",
      "text/plain": [
       "<Figure size 576x288 with 2 Axes>"
      ]
     },
     "metadata": {
      "needs_background": "light"
     },
     "output_type": "display_data"
    }
   ],
   "source": [
    "plt.figure(figsize = (8,4))\n",
    "plt.suptitle('Horsepower', size = 15)\n",
    "\n",
    "plt.subplot(1,2,1)\n",
    "plt.title('Histogram of Horsepower')\n",
    "sns.histplot(x = CarInfo.horsepower, kde = True)\n",
    "plt.subplot(1,2,2)\n",
    "plt.title('Box Plot of Horsepower')\n",
    "sns.boxenplot(x = CarInfo.horsepower)\n",
    "\n",
    "plt.tight_layout()"
   ]
  },
  {
   "cell_type": "markdown",
   "id": "balanced-poetry",
   "metadata": {},
   "source": [
    "The horsepower attribute is again skewed, but has a distinct plateau around 150 hp."
   ]
  },
  {
   "cell_type": "markdown",
   "id": "considered-motorcycle",
   "metadata": {},
   "source": [
    "### Mileage\n",
    "Attributes defining how far a car travels on a mile of gas, in city conditions and on the highway."
   ]
  },
  {
   "cell_type": "code",
   "execution_count": 13,
   "id": "southwest-trial",
   "metadata": {},
   "outputs": [
    {
     "data": {
      "image/png": "[encoded data removed]",
      "text/plain": [
       "<Figure size 576x432 with 4 Axes>"
      ]
     },
     "metadata": {
      "needs_background": "light"
     },
     "output_type": "display_data"
    }
   ],
   "source": [
    "plt.figure(figsize = (8,6))\n",
    "plt.suptitle('Miles per Gallon', size = 15)\n",
    "\n",
    "plt.subplot(2,2,1)\n",
    "plt.title('Histogram of City MPG')\n",
    "sns.histplot(x = CarInfo.city_mpg, kde = True)\n",
    "plt.subplot(2,2,2)\n",
    "plt.title('Box Plot of City MPG')\n",
    "sns.boxenplot(x = CarInfo.city_mpg)\n",
    "\n",
    "plt.subplot(2,2,3)\n",
    "plt.title('Histogram of Highway MPG')\n",
    "sns.histplot(x = CarInfo.highway_mpg, kde = True)\n",
    "plt.subplot(2,2,4)\n",
    "plt.title('Box Plot of Highway MPG')\n",
    "sns.boxenplot(x = CarInfo.highway_mpg)\n",
    "\n",
    "plt.tight_layout()"
   ]
  },
  {
   "cell_type": "markdown",
   "id": "precious-result",
   "metadata": {},
   "source": [
    "Our miles-per-gallon attributes both have broad interquartile ranges and fairly narrow tails. Aside from small numbers of outliers to the right, these variables do not have a strong directional skew."
   ]
  },
  {
   "cell_type": "markdown",
   "id": "optional-backing",
   "metadata": {},
   "source": [
    "### Price"
   ]
  },
  {
   "cell_type": "code",
   "execution_count": 14,
   "id": "electoral-advice",
   "metadata": {},
   "outputs": [
    {
     "data": {
      "image/png": "[encoded data removed]",
      "text/plain": [
       "<Figure size 576x288 with 2 Axes>"
      ]
     },
     "metadata": {
      "needs_background": "light"
     },
     "output_type": "display_data"
    }
   ],
   "source": [
    "plt.figure(figsize = (8,4))\n",
    "plt.suptitle('Price', size = 15)\n",
    "\n",
    "plt.subplot(1,2,1)\n",
    "plt.title('Histogram of Price')\n",
    "sns.histplot(x = CarInfo.price, kde = True)\n",
    "plt.subplot(1,2,2)\n",
    "plt.title('Box Plot of Price')\n",
    "sns.boxenplot(x = CarInfo.price)\n",
    "\n",
    "plt.tight_layout()"
   ]
  },
  {
   "cell_type": "markdown",
   "id": "optical-meaning",
   "metadata": {},
   "source": [
    "The price attribute once again displays significant skew, implying a large number of \n",
    "cheap cars in our data set mixed with a smaller of number of significantly more expensive machines."
   ]
  },
  {
   "cell_type": "markdown",
   "id": "plastic-conditions",
   "metadata": {},
   "source": [
    "### Other Numeric Attributes"
   ]
  },
  {
   "cell_type": "code",
   "execution_count": 15,
   "id": "adequate-bridal",
   "metadata": {},
   "outputs": [
    {
     "data": {
      "image/png": "[encoded data removed]",
      "text/plain": [
       "<Figure size 576x1440 with 14 Axes>"
      ]
     },
     "metadata": {
      "needs_background": "light"
     },
     "output_type": "display_data"
    }
   ],
   "source": [
    "plt.figure(figsize = (8,20))\n",
    "\n",
    "plt.subplot(7,2,1)\n",
    "sns.histplot(x = CarInfo.length, kde = True)\n",
    "plt.subplot(7,2,2)\n",
    "sns.boxenplot(x = CarInfo.length)\n",
    "\n",
    "plt.subplot(7,2,3)\n",
    "sns.histplot(x = CarInfo.width, kde = True)\n",
    "plt.subplot(7,2,4)\n",
    "sns.boxenplot(x = CarInfo.width)\n",
    "\n",
    "plt.subplot(7,2,5)\n",
    "sns.histplot(x = CarInfo.height, kde = True)\n",
    "plt.subplot(7,2,6)\n",
    "sns.boxenplot(x = CarInfo.height)\n",
    "\n",
    "plt.subplot(7,2,7)\n",
    "sns.histplot(x = CarInfo.bore, kde = True)\n",
    "plt.subplot(7,2,8)\n",
    "sns.boxenplot(x = CarInfo.bore)\n",
    "\n",
    "plt.subplot(7,2,9)\n",
    "sns.histplot(x = CarInfo.stroke, kde = True)\n",
    "plt.subplot(7,2,10)\n",
    "sns.boxenplot(x = CarInfo.stroke)\n",
    "\n",
    "plt.subplot(7,2,11)\n",
    "sns.histplot(x = CarInfo.compression_ratio, kde = True)\n",
    "plt.subplot(7,2,12)\n",
    "sns.boxenplot(x = CarInfo.compression_ratio)\n",
    "\n",
    "plt.subplot(7,2,13)\n",
    "sns.histplot(x = CarInfo.peak_rpm, kde = True)\n",
    "plt.subplot(7,2,14)\n",
    "sns.boxenplot(x = CarInfo.peak_rpm)\n",
    "\n",
    "plt.tight_layout()"
   ]
  },
  {
   "cell_type": "markdown",
   "id": "atomic-scene",
   "metadata": {},
   "source": [
    "### Correlation Matrix"
   ]
  },
  {
   "cell_type": "code",
   "execution_count": 16,
   "id": "fantastic-bailey",
   "metadata": {},
   "outputs": [
    {
     "data": {
      "text/html": [
       "<div>\n",
       "<style scoped>\n",
       "    .dataframe tbody tr th:only-of-type {\n",
       "        vertical-align: middle;\n",
       "    }\n",
       "\n",
       "    .dataframe tbody tr th {\n",
       "        vertical-align: top;\n",
       "    }\n",
       "\n",
       "    .dataframe thead th {\n",
       "        text-align: right;\n",
       "    }\n",
       "</style>\n",
       "<table border=\"1\" class=\"dataframe\">\n",
       "  <thead>\n",
       "    <tr style=\"text-align: right;\">\n",
       "      <th></th>\n",
       "      <th>normalized_losses</th>\n",
       "      <th>wheel_base</th>\n",
       "      <th>length</th>\n",
       "      <th>width</th>\n",
       "      <th>height</th>\n",
       "      <th>curb_weight</th>\n",
       "      <th>engine_size</th>\n",
       "      <th>bore</th>\n",
       "      <th>stroke</th>\n",
       "      <th>compression_ratio</th>\n",
       "      <th>horsepower</th>\n",
       "      <th>peak_rpm</th>\n",
       "      <th>city_mpg</th>\n",
       "      <th>highway_mpg</th>\n",
       "      <th>price</th>\n",
       "    </tr>\n",
       "  </thead>\n",
       "  <tbody>\n",
       "    <tr>\n",
       "      <th>normalized_losses</th>\n",
       "      <td>1.000000</td>\n",
       "      <td>-0.074362</td>\n",
       "      <td>0.023220</td>\n",
       "      <td>0.105073</td>\n",
       "      <td>-0.432335</td>\n",
       "      <td>0.119893</td>\n",
       "      <td>0.167365</td>\n",
       "      <td>-0.036167</td>\n",
       "      <td>0.065627</td>\n",
       "      <td>-0.132654</td>\n",
       "      <td>0.295772</td>\n",
       "      <td>0.264597</td>\n",
       "      <td>-0.258502</td>\n",
       "      <td>-0.210768</td>\n",
       "      <td>0.203254</td>\n",
       "    </tr>\n",
       "    <tr>\n",
       "      <th>wheel_base</th>\n",
       "      <td>-0.074362</td>\n",
       "      <td>1.000000</td>\n",
       "      <td>0.874587</td>\n",
       "      <td>0.795144</td>\n",
       "      <td>0.589435</td>\n",
       "      <td>0.776386</td>\n",
       "      <td>0.569329</td>\n",
       "      <td>0.490378</td>\n",
       "      <td>0.161477</td>\n",
       "      <td>0.249786</td>\n",
       "      <td>0.352297</td>\n",
       "      <td>-0.361052</td>\n",
       "      <td>-0.470414</td>\n",
       "      <td>-0.544082</td>\n",
       "      <td>0.584642</td>\n",
       "    </tr>\n",
       "    <tr>\n",
       "      <th>length</th>\n",
       "      <td>0.023220</td>\n",
       "      <td>0.874587</td>\n",
       "      <td>1.000000</td>\n",
       "      <td>0.841118</td>\n",
       "      <td>0.491029</td>\n",
       "      <td>0.877728</td>\n",
       "      <td>0.683360</td>\n",
       "      <td>0.607480</td>\n",
       "      <td>0.129739</td>\n",
       "      <td>0.158414</td>\n",
       "      <td>0.555003</td>\n",
       "      <td>-0.287325</td>\n",
       "      <td>-0.670909</td>\n",
       "      <td>-0.704662</td>\n",
       "      <td>0.690628</td>\n",
       "    </tr>\n",
       "    <tr>\n",
       "      <th>width</th>\n",
       "      <td>0.105073</td>\n",
       "      <td>0.795144</td>\n",
       "      <td>0.841118</td>\n",
       "      <td>1.000000</td>\n",
       "      <td>0.279210</td>\n",
       "      <td>0.867032</td>\n",
       "      <td>0.735433</td>\n",
       "      <td>0.559204</td>\n",
       "      <td>0.182956</td>\n",
       "      <td>0.181129</td>\n",
       "      <td>0.642482</td>\n",
       "      <td>-0.219957</td>\n",
       "      <td>-0.642704</td>\n",
       "      <td>-0.677218</td>\n",
       "      <td>0.751265</td>\n",
       "    </tr>\n",
       "    <tr>\n",
       "      <th>height</th>\n",
       "      <td>-0.432335</td>\n",
       "      <td>0.589435</td>\n",
       "      <td>0.491029</td>\n",
       "      <td>0.279210</td>\n",
       "      <td>1.000000</td>\n",
       "      <td>0.295572</td>\n",
       "      <td>0.067149</td>\n",
       "      <td>0.176195</td>\n",
       "      <td>-0.056999</td>\n",
       "      <td>0.261214</td>\n",
       "      <td>-0.110711</td>\n",
       "      <td>-0.322272</td>\n",
       "      <td>-0.048640</td>\n",
       "      <td>-0.107358</td>\n",
       "      <td>0.135486</td>\n",
       "    </tr>\n",
       "    <tr>\n",
       "      <th>curb_weight</th>\n",
       "      <td>0.119893</td>\n",
       "      <td>0.776386</td>\n",
       "      <td>0.877728</td>\n",
       "      <td>0.867032</td>\n",
       "      <td>0.295572</td>\n",
       "      <td>1.000000</td>\n",
       "      <td>0.850594</td>\n",
       "      <td>0.649045</td>\n",
       "      <td>0.168929</td>\n",
       "      <td>0.151362</td>\n",
       "      <td>0.751034</td>\n",
       "      <td>-0.266306</td>\n",
       "      <td>-0.757414</td>\n",
       "      <td>-0.797465</td>\n",
       "      <td>0.834415</td>\n",
       "    </tr>\n",
       "    <tr>\n",
       "      <th>engine_size</th>\n",
       "      <td>0.167365</td>\n",
       "      <td>0.569329</td>\n",
       "      <td>0.683360</td>\n",
       "      <td>0.735433</td>\n",
       "      <td>0.067149</td>\n",
       "      <td>0.850594</td>\n",
       "      <td>1.000000</td>\n",
       "      <td>0.594090</td>\n",
       "      <td>0.206675</td>\n",
       "      <td>0.028971</td>\n",
       "      <td>0.810773</td>\n",
       "      <td>-0.244618</td>\n",
       "      <td>-0.653658</td>\n",
       "      <td>-0.677470</td>\n",
       "      <td>0.872335</td>\n",
       "    </tr>\n",
       "    <tr>\n",
       "      <th>bore</th>\n",
       "      <td>-0.036167</td>\n",
       "      <td>0.490378</td>\n",
       "      <td>0.607480</td>\n",
       "      <td>0.559204</td>\n",
       "      <td>0.176195</td>\n",
       "      <td>0.649045</td>\n",
       "      <td>0.594090</td>\n",
       "      <td>1.000000</td>\n",
       "      <td>-0.055909</td>\n",
       "      <td>0.005203</td>\n",
       "      <td>0.577273</td>\n",
       "      <td>-0.264269</td>\n",
       "      <td>-0.594584</td>\n",
       "      <td>-0.594572</td>\n",
       "      <td>0.543436</td>\n",
       "    </tr>\n",
       "    <tr>\n",
       "      <th>stroke</th>\n",
       "      <td>0.065627</td>\n",
       "      <td>0.161477</td>\n",
       "      <td>0.129739</td>\n",
       "      <td>0.182956</td>\n",
       "      <td>-0.056999</td>\n",
       "      <td>0.168929</td>\n",
       "      <td>0.206675</td>\n",
       "      <td>-0.055909</td>\n",
       "      <td>1.000000</td>\n",
       "      <td>0.186170</td>\n",
       "      <td>0.090254</td>\n",
       "      <td>-0.071493</td>\n",
       "      <td>-0.042906</td>\n",
       "      <td>-0.044528</td>\n",
       "      <td>0.082310</td>\n",
       "    </tr>\n",
       "    <tr>\n",
       "      <th>compression_ratio</th>\n",
       "      <td>-0.132654</td>\n",
       "      <td>0.249786</td>\n",
       "      <td>0.158414</td>\n",
       "      <td>0.181129</td>\n",
       "      <td>0.261214</td>\n",
       "      <td>0.151362</td>\n",
       "      <td>0.028971</td>\n",
       "      <td>0.005203</td>\n",
       "      <td>0.186170</td>\n",
       "      <td>1.000000</td>\n",
       "      <td>-0.205874</td>\n",
       "      <td>-0.436221</td>\n",
       "      <td>0.324701</td>\n",
       "      <td>0.265201</td>\n",
       "      <td>0.071107</td>\n",
       "    </tr>\n",
       "    <tr>\n",
       "      <th>horsepower</th>\n",
       "      <td>0.295772</td>\n",
       "      <td>0.352297</td>\n",
       "      <td>0.555003</td>\n",
       "      <td>0.642482</td>\n",
       "      <td>-0.110711</td>\n",
       "      <td>0.751034</td>\n",
       "      <td>0.810773</td>\n",
       "      <td>0.577273</td>\n",
       "      <td>0.090254</td>\n",
       "      <td>-0.205874</td>\n",
       "      <td>1.000000</td>\n",
       "      <td>0.130971</td>\n",
       "      <td>-0.803620</td>\n",
       "      <td>-0.770908</td>\n",
       "      <td>0.810533</td>\n",
       "    </tr>\n",
       "    <tr>\n",
       "      <th>peak_rpm</th>\n",
       "      <td>0.264597</td>\n",
       "      <td>-0.361052</td>\n",
       "      <td>-0.287325</td>\n",
       "      <td>-0.219957</td>\n",
       "      <td>-0.322272</td>\n",
       "      <td>-0.266306</td>\n",
       "      <td>-0.244618</td>\n",
       "      <td>-0.264269</td>\n",
       "      <td>-0.071493</td>\n",
       "      <td>-0.436221</td>\n",
       "      <td>0.130971</td>\n",
       "      <td>1.000000</td>\n",
       "      <td>-0.113788</td>\n",
       "      <td>-0.054257</td>\n",
       "      <td>-0.101649</td>\n",
       "    </tr>\n",
       "    <tr>\n",
       "      <th>city_mpg</th>\n",
       "      <td>-0.258502</td>\n",
       "      <td>-0.470414</td>\n",
       "      <td>-0.670909</td>\n",
       "      <td>-0.642704</td>\n",
       "      <td>-0.048640</td>\n",
       "      <td>-0.757414</td>\n",
       "      <td>-0.653658</td>\n",
       "      <td>-0.594584</td>\n",
       "      <td>-0.042906</td>\n",
       "      <td>0.324701</td>\n",
       "      <td>-0.803620</td>\n",
       "      <td>-0.113788</td>\n",
       "      <td>1.000000</td>\n",
       "      <td>0.971337</td>\n",
       "      <td>-0.686571</td>\n",
       "    </tr>\n",
       "    <tr>\n",
       "      <th>highway_mpg</th>\n",
       "      <td>-0.210768</td>\n",
       "      <td>-0.544082</td>\n",
       "      <td>-0.704662</td>\n",
       "      <td>-0.677218</td>\n",
       "      <td>-0.107358</td>\n",
       "      <td>-0.797465</td>\n",
       "      <td>-0.677470</td>\n",
       "      <td>-0.594572</td>\n",
       "      <td>-0.044528</td>\n",
       "      <td>0.265201</td>\n",
       "      <td>-0.770908</td>\n",
       "      <td>-0.054257</td>\n",
       "      <td>0.971337</td>\n",
       "      <td>1.000000</td>\n",
       "      <td>-0.704692</td>\n",
       "    </tr>\n",
       "    <tr>\n",
       "      <th>price</th>\n",
       "      <td>0.203254</td>\n",
       "      <td>0.584642</td>\n",
       "      <td>0.690628</td>\n",
       "      <td>0.751265</td>\n",
       "      <td>0.135486</td>\n",
       "      <td>0.834415</td>\n",
       "      <td>0.872335</td>\n",
       "      <td>0.543436</td>\n",
       "      <td>0.082310</td>\n",
       "      <td>0.071107</td>\n",
       "      <td>0.810533</td>\n",
       "      <td>-0.101649</td>\n",
       "      <td>-0.686571</td>\n",
       "      <td>-0.704692</td>\n",
       "      <td>1.000000</td>\n",
       "    </tr>\n",
       "  </tbody>\n",
       "</table>\n",
       "</div>"
      ],
      "text/plain": [
       "                   normalized_losses  wheel_base    length     width  \\\n",
       "normalized_losses           1.000000   -0.074362  0.023220  0.105073   \n",
       "wheel_base                 -0.074362    1.000000  0.874587  0.795144   \n",
       "length                      0.023220    0.874587  1.000000  0.841118   \n",
       "width                       0.105073    0.795144  0.841118  1.000000   \n",
       "height                     -0.432335    0.589435  0.491029  0.279210   \n",
       "curb_weight                 0.119893    0.776386  0.877728  0.867032   \n",
       "engine_size                 0.167365    0.569329  0.683360  0.735433   \n",
       "bore                       -0.036167    0.490378  0.607480  0.559204   \n",
       "stroke                      0.065627    0.161477  0.129739  0.182956   \n",
       "compression_ratio          -0.132654    0.249786  0.158414  0.181129   \n",
       "horsepower                  0.295772    0.352297  0.555003  0.642482   \n",
       "peak_rpm                    0.264597   -0.361052 -0.287325 -0.219957   \n",
       "city_mpg                   -0.258502   -0.470414 -0.670909 -0.642704   \n",
       "highway_mpg                -0.210768   -0.544082 -0.704662 -0.677218   \n",
       "price                       0.203254    0.584642  0.690628  0.751265   \n",
       "\n",
       "                     height  curb_weight  engine_size      bore    stroke  \\\n",
       "normalized_losses -0.432335     0.119893     0.167365 -0.036167  0.065627   \n",
       "wheel_base         0.589435     0.776386     0.569329  0.490378  0.161477   \n",
       "length             0.491029     0.877728     0.683360  0.607480  0.129739   \n",
       "width              0.279210     0.867032     0.735433  0.559204  0.182956   \n",
       "height             1.000000     0.295572     0.067149  0.176195 -0.056999   \n",
       "curb_weight        0.295572     1.000000     0.850594  0.649045  0.168929   \n",
       "engine_size        0.067149     0.850594     1.000000  0.594090  0.206675   \n",
       "bore               0.176195     0.649045     0.594090  1.000000 -0.055909   \n",
       "stroke            -0.056999     0.168929     0.206675 -0.055909  1.000000   \n",
       "compression_ratio  0.261214     0.151362     0.028971  0.005203  0.186170   \n",
       "horsepower        -0.110711     0.751034     0.810773  0.577273  0.090254   \n",
       "peak_rpm          -0.322272    -0.266306    -0.244618 -0.264269 -0.071493   \n",
       "city_mpg          -0.048640    -0.757414    -0.653658 -0.594584 -0.042906   \n",
       "highway_mpg       -0.107358    -0.797465    -0.677470 -0.594572 -0.044528   \n",
       "price              0.135486     0.834415     0.872335  0.543436  0.082310   \n",
       "\n",
       "                   compression_ratio  horsepower  peak_rpm  city_mpg  \\\n",
       "normalized_losses          -0.132654    0.295772  0.264597 -0.258502   \n",
       "wheel_base                  0.249786    0.352297 -0.361052 -0.470414   \n",
       "length                      0.158414    0.555003 -0.287325 -0.670909   \n",
       "width                       0.181129    0.642482 -0.219957 -0.642704   \n",
       "height                      0.261214   -0.110711 -0.322272 -0.048640   \n",
       "curb_weight                 0.151362    0.751034 -0.266306 -0.757414   \n",
       "engine_size                 0.028971    0.810773 -0.244618 -0.653658   \n",
       "bore                        0.005203    0.577273 -0.264269 -0.594584   \n",
       "stroke                      0.186170    0.090254 -0.071493 -0.042906   \n",
       "compression_ratio           1.000000   -0.205874 -0.436221  0.324701   \n",
       "horsepower                 -0.205874    1.000000  0.130971 -0.803620   \n",
       "peak_rpm                   -0.436221    0.130971  1.000000 -0.113788   \n",
       "city_mpg                    0.324701   -0.803620 -0.113788  1.000000   \n",
       "highway_mpg                 0.265201   -0.770908 -0.054257  0.971337   \n",
       "price                       0.071107    0.810533 -0.101649 -0.686571   \n",
       "\n",
       "                   highway_mpg     price  \n",
       "normalized_losses    -0.210768  0.203254  \n",
       "wheel_base           -0.544082  0.584642  \n",
       "length               -0.704662  0.690628  \n",
       "width                -0.677218  0.751265  \n",
       "height               -0.107358  0.135486  \n",
       "curb_weight          -0.797465  0.834415  \n",
       "engine_size          -0.677470  0.872335  \n",
       "bore                 -0.594572  0.543436  \n",
       "stroke               -0.044528  0.082310  \n",
       "compression_ratio     0.265201  0.071107  \n",
       "horsepower           -0.770908  0.810533  \n",
       "peak_rpm             -0.054257 -0.101649  \n",
       "city_mpg              0.971337 -0.686571  \n",
       "highway_mpg           1.000000 -0.704692  \n",
       "price                -0.704692  1.000000  "
      ]
     },
     "execution_count": 16,
     "metadata": {},
     "output_type": "execute_result"
    }
   ],
   "source": [
    "CarCorr = CarInfo.corr()\n",
    "\n",
    "CarCorr"
   ]
  },
  {
   "cell_type": "markdown",
   "id": "reverse-administration",
   "metadata": {},
   "source": [
    "Our correlation matrix is fairly large and hard to read, so we convert it into a triangular Seaborn heatmap."
   ]
  },
  {
   "cell_type": "code",
   "execution_count": 17,
   "id": "outdoor-prototype",
   "metadata": {},
   "outputs": [
    {
     "data": {
      "text/plain": [
       "<AxesSubplot:>"
      ]
     },
     "execution_count": 17,
     "metadata": {},
     "output_type": "execute_result"
    },
    {
     "data": {
      "image/png": "[encoded data removed]",
      "text/plain": [
       "<Figure size 792x648 with 2 Axes>"
      ]
     },
     "metadata": {
      "needs_background": "light"
     },
     "output_type": "display_data"
    }
   ],
   "source": [
    "# Upper triangular mask\n",
    "mask = np.triu(np.ones_like(CarCorr, dtype = bool))\n",
    "\n",
    "fig, axes = plt.subplots(figsize=(11, 9))\n",
    "\n",
    "# Diverging colormap\n",
    "cmap = sns.diverging_palette(0, 230, as_cmap = True)\n",
    "\n",
    "# Heatmap with mask and colormap applied\n",
    "sns.heatmap(CarCorr, mask = mask, cmap = cmap, center = 0, square = True)"
   ]
  },
  {
   "cell_type": "markdown",
   "id": "collected-steps",
   "metadata": {},
   "source": [
    "We see that our physical dimensions, wheelbase and curb weight attributes are positively correlated to each other, which \n",
    "is not surprising. Notably we see that city and highway mileage are positively correlated with each other, but negatively \n",
    "correlated with horsepower, weight and price. We can hypothesize a narrative of more expensive cars being larger, heavier and \n",
    "having more powerful engines which get worse mileage."
   ]
  },
  {
   "cell_type": "markdown",
   "id": "disabled-chancellor",
   "metadata": {},
   "source": [
    "## Categorical Attributes"
   ]
  },
  {
   "cell_type": "markdown",
   "id": "silver-monaco",
   "metadata": {},
   "source": [
    "### Car Counts by Manufacturer"
   ]
  },
  {
   "cell_type": "code",
   "execution_count": 18,
   "id": "discrete-monaco",
   "metadata": {},
   "outputs": [
    {
     "data": {
      "image/png": "[encoded data removed]",
      "text/plain": [
       "<Figure size 864x576 with 1 Axes>"
      ]
     },
     "metadata": {
      "needs_background": "light"
     },
     "output_type": "display_data"
    }
   ],
   "source": [
    "plt.figure(figsize = (12,8))\n",
    "sns.countplot(y = 'make', data = CarInfo)\n",
    "plt.xlabel('Count', size = 20)\n",
    "plt.ylabel('Manufacturer', size = 20)\n",
    "plt.xticks(size = 12)\n",
    "plt.yticks(size = 12)\n",
    "plt.show()"
   ]
  },
  {
   "cell_type": "markdown",
   "id": "concerned-physiology",
   "metadata": {},
   "source": [
    "### Car Counts by Chassis Attributes\n",
    "Body style, number of doors, engine placement, and driven wheels."
   ]
  },
  {
   "cell_type": "code",
   "execution_count": 19,
   "id": "tutorial-staff",
   "metadata": {},
   "outputs": [
    {
     "data": {
      "image/png": "[encoded data removed]",
      "text/plain": [
       "<Figure size 576x288 with 4 Axes>"
      ]
     },
     "metadata": {
      "needs_background": "light"
     },
     "output_type": "display_data"
    }
   ],
   "source": [
    "plt.figure(figsize = (8,4))\n",
    "plt.suptitle('Car Properties', size = 15)\n",
    "\n",
    "plt.subplot(1,4,1)\n",
    "plt.title('Body Style')\n",
    "sns.countplot(x = 'body_style', data = CarInfo)\n",
    "plt.xticks(rotation = 90)\n",
    "\n",
    "plt.subplot(1,4,2)\n",
    "plt.title('Doors')\n",
    "sns.countplot(x = 'num_of_doors', data = CarInfo)\n",
    "\n",
    "plt.subplot(1,4,3)\n",
    "plt.title('Engine Location')\n",
    "sns.countplot(x = 'engine_location', data = CarInfo)\n",
    "\n",
    "plt.subplot(1,4,4)\n",
    "plt.title('Drive Wheels')\n",
    "sns.countplot(x = 'drive_wheels', data = CarInfo)\n",
    "plt.xticks(rotation = 90)\n",
    "\n",
    "plt.tight_layout()"
   ]
  },
  {
   "cell_type": "markdown",
   "id": "champion-covering",
   "metadata": {},
   "source": [
    "### Car Counts by Engine Attributes\n",
    "Cylinder counts, aspiration (air intake) type, and fuel type. Some technical categorizations (camshaft types and fuel systems) are omitted for brevity."
   ]
  },
  {
   "cell_type": "code",
   "execution_count": 20,
   "id": "skilled-trauma",
   "metadata": {},
   "outputs": [
    {
     "data": {
      "image/png": "[encoded data removed]",
      "text/plain": [
       "<Figure size 576x288 with 3 Axes>"
      ]
     },
     "metadata": {
      "needs_background": "light"
     },
     "output_type": "display_data"
    }
   ],
   "source": [
    "plt.figure(figsize = (8,4))\n",
    "plt.suptitle('Engine Properties', size = 15)\n",
    "\n",
    "plt.subplot(1,3,1)\n",
    "plt.title('Cylinders')\n",
    "sns.countplot(x = 'num_of_cylinders', data = CarInfo, order = ('two','three','four','five','six','eight','twelve'))\n",
    "plt.xticks(rotation = 90)\n",
    "\n",
    "plt.subplot(1,3,2)\n",
    "plt.title('Aspiration')\n",
    "sns.countplot(x = 'aspiration', data = CarInfo)\n",
    "\n",
    "plt.subplot(1,3,3)\n",
    "plt.title('Fuel Type')\n",
    "sns.countplot(x = 'fuel_type', data = CarInfo)\n",
    "\n",
    "plt.tight_layout()"
   ]
  },
  {
   "cell_type": "markdown",
   "id": "legal-coffee",
   "metadata": {},
   "source": [
    "# Part 3 : Feature Engineering"
   ]
  },
  {
   "cell_type": "markdown",
   "id": "rotary-cowboy",
   "metadata": {},
   "source": [
    "## Question 1"
   ]
  },
  {
   "cell_type": "markdown",
   "id": "continuing-consistency",
   "metadata": {},
   "source": [
    "Most of the numeric variables in our data set require some kind of feature scaling for use in a machine learning algorithm. Broadly we can divide our numeric attributes into two groups: right-skewed and unskewed.\n",
    "\n",
    "The right-skewed variables evident from our earlier EDA work are: <br>\n",
    "_normalized_losses <br>\n",
    "wheel_base <br>\n",
    "curb_weight <br>\n",
    "engine_size <br>\n",
    "horsepower <br>\n",
    "price_\n",
    "\n",
    "These variables require either normalization, or a Box-Cox Transform followed by possible standardization, assuming our algorithm is dependent on Gaussian assumptions. The scales of these attributes are also very different, so using this data as-is may result in performance losses.\n",
    "\n",
    "The (relatively) unskewed attributes are: <br>\n",
    "_length, width, height<br>\n",
    "bore, stroke<br>\n",
    "peak_rpm<br>\n",
    "city_mpg, highway_mpg_\n",
    "\n",
    "The degree to which these unskewed variables actually approximate a Gaussian form varies significantly however, with some (_bore_, _peak_rpm_) being nearly bimodal while others (_stroke_) are closer to normal. As a result, a Box-Cox Transform applied to the entire data set may be useful for these attributes as well. Once again, these variables' scales differ heavily, so the use of standardization may be warranted.\n",
    "\n",
    "All of our numeric attributes in both groups are strictly positive, so no translation needs to be done prior to applying a Box-Cox Transform.\n",
    "\n",
    "Finally, there is one attribute which displays significant outliers: _compression_ratio_. There are enough outlying data points in a cluster to the far right that the outliers are likely valid, and represent diesel engines and/or turbo engines or some other actually relevant automotive detail. If our research question / model is not concerned with engine technical details however we can simply opt to leave this attribute out."
   ]
  },
  {
   "cell_type": "markdown",
   "id": "north-postage",
   "metadata": {},
   "source": [
    "## Question 2"
   ]
  },
  {
   "cell_type": "markdown",
   "id": "strange-internship",
   "metadata": {},
   "source": [
    "As we saw during Part 1 : Data Loading, the number of missing values for each attribute are as follows:\n",
    "<pre>\n",
    "Missing Vals:\n",
    "\n",
    "normalized_losses :  40\n",
    "<strong>num_of_doors :  2</strong>\n",
    "bore :  4\n",
    "stroke :  4\n",
    "horsepower :  2\n",
    "peak_rpm :  2\n",
    "<strong>price :  4</strong>\n",
    "</pre>\n",
    "\n",
    "Here, _num_of_doors_ is a categorical ordinal value while _price_ is numeric. We cannot use a mean, median or mode value to fill in missing values for price without altering the (highly skewed as we saw in EDA) distribution of the data. The most thorough approach to filling in these values would be to conduct a multivariate linear regression to project _price_ values and a logistic regression to project _num_of_doors_. However, since the number of values missing is very small, we can simply try to infer these values by analyzing the datapoints in question and comparing them manually to their peers."
   ]
  },
  {
   "cell_type": "code",
   "execution_count": 21,
   "id": "organizational-operation",
   "metadata": {},
   "outputs": [],
   "source": [
    "null_doors = CarInfo[CarInfo.num_of_doors.isnull()]\n",
    "null_price = CarInfo[CarInfo.price.isnull()]"
   ]
  },
  {
   "cell_type": "code",
   "execution_count": 22,
   "id": "divine-recorder",
   "metadata": {},
   "outputs": [
    {
     "data": {
      "text/html": [
       "<div>\n",
       "<style scoped>\n",
       "    .dataframe tbody tr th:only-of-type {\n",
       "        vertical-align: middle;\n",
       "    }\n",
       "\n",
       "    .dataframe tbody tr th {\n",
       "        vertical-align: top;\n",
       "    }\n",
       "\n",
       "    .dataframe thead th {\n",
       "        text-align: right;\n",
       "    }\n",
       "</style>\n",
       "<table border=\"1\" class=\"dataframe\">\n",
       "  <thead>\n",
       "    <tr style=\"text-align: right;\">\n",
       "      <th></th>\n",
       "      <th>symboling</th>\n",
       "      <th>normalized_losses</th>\n",
       "      <th>make</th>\n",
       "      <th>fuel_type</th>\n",
       "      <th>aspiration</th>\n",
       "      <th>num_of_doors</th>\n",
       "      <th>body_style</th>\n",
       "      <th>drive_wheels</th>\n",
       "      <th>engine_location</th>\n",
       "      <th>wheel_base</th>\n",
       "      <th>...</th>\n",
       "      <th>engine_size</th>\n",
       "      <th>fuel_system</th>\n",
       "      <th>bore</th>\n",
       "      <th>stroke</th>\n",
       "      <th>compression_ratio</th>\n",
       "      <th>horsepower</th>\n",
       "      <th>peak_rpm</th>\n",
       "      <th>city_mpg</th>\n",
       "      <th>highway_mpg</th>\n",
       "      <th>price</th>\n",
       "    </tr>\n",
       "  </thead>\n",
       "  <tbody>\n",
       "    <tr>\n",
       "      <th>27</th>\n",
       "      <td>1</td>\n",
       "      <td>148.0</td>\n",
       "      <td>dodge</td>\n",
       "      <td>gas</td>\n",
       "      <td>turbo</td>\n",
       "      <td>NaN</td>\n",
       "      <td>sedan</td>\n",
       "      <td>fwd</td>\n",
       "      <td>front</td>\n",
       "      <td>93.7</td>\n",
       "      <td>...</td>\n",
       "      <td>98</td>\n",
       "      <td>mpfi</td>\n",
       "      <td>3.03</td>\n",
       "      <td>3.39</td>\n",
       "      <td>7.6</td>\n",
       "      <td>102.0</td>\n",
       "      <td>5500.0</td>\n",
       "      <td>24</td>\n",
       "      <td>30</td>\n",
       "      <td>8558.0</td>\n",
       "    </tr>\n",
       "    <tr>\n",
       "      <th>63</th>\n",
       "      <td>0</td>\n",
       "      <td>NaN</td>\n",
       "      <td>mazda</td>\n",
       "      <td>diesel</td>\n",
       "      <td>std</td>\n",
       "      <td>NaN</td>\n",
       "      <td>sedan</td>\n",
       "      <td>fwd</td>\n",
       "      <td>front</td>\n",
       "      <td>98.8</td>\n",
       "      <td>...</td>\n",
       "      <td>122</td>\n",
       "      <td>idi</td>\n",
       "      <td>3.39</td>\n",
       "      <td>3.39</td>\n",
       "      <td>22.7</td>\n",
       "      <td>64.0</td>\n",
       "      <td>4650.0</td>\n",
       "      <td>36</td>\n",
       "      <td>42</td>\n",
       "      <td>10795.0</td>\n",
       "    </tr>\n",
       "  </tbody>\n",
       "</table>\n",
       "<p>2 rows × 26 columns</p>\n",
       "</div>"
      ],
      "text/plain": [
       "   symboling  normalized_losses   make fuel_type aspiration num_of_doors  \\\n",
       "27         1              148.0  dodge       gas      turbo          NaN   \n",
       "63         0                NaN  mazda    diesel        std          NaN   \n",
       "\n",
       "   body_style drive_wheels engine_location  wheel_base  ...  engine_size  \\\n",
       "27      sedan          fwd           front        93.7  ...           98   \n",
       "63      sedan          fwd           front        98.8  ...          122   \n",
       "\n",
       "    fuel_system  bore  stroke compression_ratio horsepower  peak_rpm city_mpg  \\\n",
       "27         mpfi  3.03    3.39               7.6      102.0    5500.0       24   \n",
       "63          idi  3.39    3.39              22.7       64.0    4650.0       36   \n",
       "\n",
       "    highway_mpg    price  \n",
       "27           30   8558.0  \n",
       "63           42  10795.0  \n",
       "\n",
       "[2 rows x 26 columns]"
      ]
     },
     "execution_count": 22,
     "metadata": {},
     "output_type": "execute_result"
    }
   ],
   "source": [
    "null_doors"
   ]
  },
  {
   "cell_type": "markdown",
   "id": "stuffed-salon",
   "metadata": {},
   "source": [
    "We see both cars with missing _num_of_doors_ values are front-engined fwd sedans. Domain knowledge tells us sedans are generally four-doored cars. We inspect further by looking at other such vehicles."
   ]
  },
  {
   "cell_type": "code",
   "execution_count": 23,
   "id": "valuable-float",
   "metadata": {},
   "outputs": [
    {
     "data": {
      "text/plain": [
       "57"
      ]
     },
     "execution_count": 23,
     "metadata": {},
     "output_type": "execute_result"
    }
   ],
   "source": [
    "fwdsedans = CarInfo[(CarInfo.body_style == 'sedan') & (CarInfo.drive_wheels == 'fwd') & (CarInfo.engine_location == 'front')]\n",
    "\n",
    "len(fwdsedans)"
   ]
  },
  {
   "cell_type": "markdown",
   "id": "measured-equipment",
   "metadata": {},
   "source": [
    "57 such vehicles are found (including the 2 with missing values). We now further condition based on manufacturer."
   ]
  },
  {
   "cell_type": "code",
   "execution_count": 24,
   "id": "seven-animation",
   "metadata": {},
   "outputs": [
    {
     "data": {
      "text/html": [
       "<div>\n",
       "<style scoped>\n",
       "    .dataframe tbody tr th:only-of-type {\n",
       "        vertical-align: middle;\n",
       "    }\n",
       "\n",
       "    .dataframe tbody tr th {\n",
       "        vertical-align: top;\n",
       "    }\n",
       "\n",
       "    .dataframe thead th {\n",
       "        text-align: right;\n",
       "    }\n",
       "</style>\n",
       "<table border=\"1\" class=\"dataframe\">\n",
       "  <thead>\n",
       "    <tr style=\"text-align: right;\">\n",
       "      <th></th>\n",
       "      <th>symboling</th>\n",
       "      <th>normalized_losses</th>\n",
       "      <th>make</th>\n",
       "      <th>fuel_type</th>\n",
       "      <th>aspiration</th>\n",
       "      <th>num_of_doors</th>\n",
       "      <th>body_style</th>\n",
       "      <th>drive_wheels</th>\n",
       "      <th>engine_location</th>\n",
       "      <th>wheel_base</th>\n",
       "      <th>...</th>\n",
       "      <th>engine_size</th>\n",
       "      <th>fuel_system</th>\n",
       "      <th>bore</th>\n",
       "      <th>stroke</th>\n",
       "      <th>compression_ratio</th>\n",
       "      <th>horsepower</th>\n",
       "      <th>peak_rpm</th>\n",
       "      <th>city_mpg</th>\n",
       "      <th>highway_mpg</th>\n",
       "      <th>price</th>\n",
       "    </tr>\n",
       "  </thead>\n",
       "  <tbody>\n",
       "    <tr>\n",
       "      <th>25</th>\n",
       "      <td>1</td>\n",
       "      <td>148.0</td>\n",
       "      <td>dodge</td>\n",
       "      <td>gas</td>\n",
       "      <td>std</td>\n",
       "      <td>four</td>\n",
       "      <td>sedan</td>\n",
       "      <td>fwd</td>\n",
       "      <td>front</td>\n",
       "      <td>93.7</td>\n",
       "      <td>...</td>\n",
       "      <td>90</td>\n",
       "      <td>2bbl</td>\n",
       "      <td>2.97</td>\n",
       "      <td>3.23</td>\n",
       "      <td>9.4</td>\n",
       "      <td>68.0</td>\n",
       "      <td>5500.0</td>\n",
       "      <td>31</td>\n",
       "      <td>38</td>\n",
       "      <td>6692.0</td>\n",
       "    </tr>\n",
       "    <tr>\n",
       "      <th>26</th>\n",
       "      <td>1</td>\n",
       "      <td>148.0</td>\n",
       "      <td>dodge</td>\n",
       "      <td>gas</td>\n",
       "      <td>std</td>\n",
       "      <td>four</td>\n",
       "      <td>sedan</td>\n",
       "      <td>fwd</td>\n",
       "      <td>front</td>\n",
       "      <td>93.7</td>\n",
       "      <td>...</td>\n",
       "      <td>90</td>\n",
       "      <td>2bbl</td>\n",
       "      <td>2.97</td>\n",
       "      <td>3.23</td>\n",
       "      <td>9.4</td>\n",
       "      <td>68.0</td>\n",
       "      <td>5500.0</td>\n",
       "      <td>31</td>\n",
       "      <td>38</td>\n",
       "      <td>7609.0</td>\n",
       "    </tr>\n",
       "    <tr>\n",
       "      <th>27</th>\n",
       "      <td>1</td>\n",
       "      <td>148.0</td>\n",
       "      <td>dodge</td>\n",
       "      <td>gas</td>\n",
       "      <td>turbo</td>\n",
       "      <td>NaN</td>\n",
       "      <td>sedan</td>\n",
       "      <td>fwd</td>\n",
       "      <td>front</td>\n",
       "      <td>93.7</td>\n",
       "      <td>...</td>\n",
       "      <td>98</td>\n",
       "      <td>mpfi</td>\n",
       "      <td>3.03</td>\n",
       "      <td>3.39</td>\n",
       "      <td>7.6</td>\n",
       "      <td>102.0</td>\n",
       "      <td>5500.0</td>\n",
       "      <td>24</td>\n",
       "      <td>30</td>\n",
       "      <td>8558.0</td>\n",
       "    </tr>\n",
       "  </tbody>\n",
       "</table>\n",
       "<p>3 rows × 26 columns</p>\n",
       "</div>"
      ],
      "text/plain": [
       "   symboling  normalized_losses   make fuel_type aspiration num_of_doors  \\\n",
       "25         1              148.0  dodge       gas        std         four   \n",
       "26         1              148.0  dodge       gas        std         four   \n",
       "27         1              148.0  dodge       gas      turbo          NaN   \n",
       "\n",
       "   body_style drive_wheels engine_location  wheel_base  ...  engine_size  \\\n",
       "25      sedan          fwd           front        93.7  ...           90   \n",
       "26      sedan          fwd           front        93.7  ...           90   \n",
       "27      sedan          fwd           front        93.7  ...           98   \n",
       "\n",
       "    fuel_system  bore  stroke compression_ratio horsepower  peak_rpm city_mpg  \\\n",
       "25         2bbl  2.97    3.23               9.4       68.0    5500.0       31   \n",
       "26         2bbl  2.97    3.23               9.4       68.0    5500.0       31   \n",
       "27         mpfi  3.03    3.39               7.6      102.0    5500.0       24   \n",
       "\n",
       "    highway_mpg   price  \n",
       "25           38  6692.0  \n",
       "26           38  7609.0  \n",
       "27           30  8558.0  \n",
       "\n",
       "[3 rows x 26 columns]"
      ]
     },
     "execution_count": 24,
     "metadata": {},
     "output_type": "execute_result"
    }
   ],
   "source": [
    "fwdsedans[fwdsedans.make == 'dodge']"
   ]
  },
  {
   "cell_type": "code",
   "execution_count": 25,
   "id": "pleasant-carnival",
   "metadata": {},
   "outputs": [
    {
     "data": {
      "text/html": [
       "<div>\n",
       "<style scoped>\n",
       "    .dataframe tbody tr th:only-of-type {\n",
       "        vertical-align: middle;\n",
       "    }\n",
       "\n",
       "    .dataframe tbody tr th {\n",
       "        vertical-align: top;\n",
       "    }\n",
       "\n",
       "    .dataframe thead th {\n",
       "        text-align: right;\n",
       "    }\n",
       "</style>\n",
       "<table border=\"1\" class=\"dataframe\">\n",
       "  <thead>\n",
       "    <tr style=\"text-align: right;\">\n",
       "      <th></th>\n",
       "      <th>symboling</th>\n",
       "      <th>normalized_losses</th>\n",
       "      <th>make</th>\n",
       "      <th>fuel_type</th>\n",
       "      <th>aspiration</th>\n",
       "      <th>num_of_doors</th>\n",
       "      <th>body_style</th>\n",
       "      <th>drive_wheels</th>\n",
       "      <th>engine_location</th>\n",
       "      <th>wheel_base</th>\n",
       "      <th>...</th>\n",
       "      <th>engine_size</th>\n",
       "      <th>fuel_system</th>\n",
       "      <th>bore</th>\n",
       "      <th>stroke</th>\n",
       "      <th>compression_ratio</th>\n",
       "      <th>horsepower</th>\n",
       "      <th>peak_rpm</th>\n",
       "      <th>city_mpg</th>\n",
       "      <th>highway_mpg</th>\n",
       "      <th>price</th>\n",
       "    </tr>\n",
       "  </thead>\n",
       "  <tbody>\n",
       "    <tr>\n",
       "      <th>53</th>\n",
       "      <td>1</td>\n",
       "      <td>113.0</td>\n",
       "      <td>mazda</td>\n",
       "      <td>gas</td>\n",
       "      <td>std</td>\n",
       "      <td>four</td>\n",
       "      <td>sedan</td>\n",
       "      <td>fwd</td>\n",
       "      <td>front</td>\n",
       "      <td>93.1</td>\n",
       "      <td>...</td>\n",
       "      <td>91</td>\n",
       "      <td>2bbl</td>\n",
       "      <td>3.03</td>\n",
       "      <td>3.15</td>\n",
       "      <td>9.0</td>\n",
       "      <td>68.0</td>\n",
       "      <td>5000.0</td>\n",
       "      <td>31</td>\n",
       "      <td>38</td>\n",
       "      <td>6695.0</td>\n",
       "    </tr>\n",
       "    <tr>\n",
       "      <th>54</th>\n",
       "      <td>1</td>\n",
       "      <td>113.0</td>\n",
       "      <td>mazda</td>\n",
       "      <td>gas</td>\n",
       "      <td>std</td>\n",
       "      <td>four</td>\n",
       "      <td>sedan</td>\n",
       "      <td>fwd</td>\n",
       "      <td>front</td>\n",
       "      <td>93.1</td>\n",
       "      <td>...</td>\n",
       "      <td>91</td>\n",
       "      <td>2bbl</td>\n",
       "      <td>3.08</td>\n",
       "      <td>3.15</td>\n",
       "      <td>9.0</td>\n",
       "      <td>68.0</td>\n",
       "      <td>5000.0</td>\n",
       "      <td>31</td>\n",
       "      <td>38</td>\n",
       "      <td>7395.0</td>\n",
       "    </tr>\n",
       "    <tr>\n",
       "      <th>60</th>\n",
       "      <td>0</td>\n",
       "      <td>115.0</td>\n",
       "      <td>mazda</td>\n",
       "      <td>gas</td>\n",
       "      <td>std</td>\n",
       "      <td>four</td>\n",
       "      <td>sedan</td>\n",
       "      <td>fwd</td>\n",
       "      <td>front</td>\n",
       "      <td>98.8</td>\n",
       "      <td>...</td>\n",
       "      <td>122</td>\n",
       "      <td>2bbl</td>\n",
       "      <td>3.39</td>\n",
       "      <td>3.39</td>\n",
       "      <td>8.6</td>\n",
       "      <td>84.0</td>\n",
       "      <td>4800.0</td>\n",
       "      <td>26</td>\n",
       "      <td>32</td>\n",
       "      <td>8495.0</td>\n",
       "    </tr>\n",
       "    <tr>\n",
       "      <th>62</th>\n",
       "      <td>0</td>\n",
       "      <td>115.0</td>\n",
       "      <td>mazda</td>\n",
       "      <td>gas</td>\n",
       "      <td>std</td>\n",
       "      <td>four</td>\n",
       "      <td>sedan</td>\n",
       "      <td>fwd</td>\n",
       "      <td>front</td>\n",
       "      <td>98.8</td>\n",
       "      <td>...</td>\n",
       "      <td>122</td>\n",
       "      <td>2bbl</td>\n",
       "      <td>3.39</td>\n",
       "      <td>3.39</td>\n",
       "      <td>8.6</td>\n",
       "      <td>84.0</td>\n",
       "      <td>4800.0</td>\n",
       "      <td>26</td>\n",
       "      <td>32</td>\n",
       "      <td>10245.0</td>\n",
       "    </tr>\n",
       "    <tr>\n",
       "      <th>63</th>\n",
       "      <td>0</td>\n",
       "      <td>NaN</td>\n",
       "      <td>mazda</td>\n",
       "      <td>diesel</td>\n",
       "      <td>std</td>\n",
       "      <td>NaN</td>\n",
       "      <td>sedan</td>\n",
       "      <td>fwd</td>\n",
       "      <td>front</td>\n",
       "      <td>98.8</td>\n",
       "      <td>...</td>\n",
       "      <td>122</td>\n",
       "      <td>idi</td>\n",
       "      <td>3.39</td>\n",
       "      <td>3.39</td>\n",
       "      <td>22.7</td>\n",
       "      <td>64.0</td>\n",
       "      <td>4650.0</td>\n",
       "      <td>36</td>\n",
       "      <td>42</td>\n",
       "      <td>10795.0</td>\n",
       "    </tr>\n",
       "  </tbody>\n",
       "</table>\n",
       "<p>5 rows × 26 columns</p>\n",
       "</div>"
      ],
      "text/plain": [
       "   symboling  normalized_losses   make fuel_type aspiration num_of_doors  \\\n",
       "53         1              113.0  mazda       gas        std         four   \n",
       "54         1              113.0  mazda       gas        std         four   \n",
       "60         0              115.0  mazda       gas        std         four   \n",
       "62         0              115.0  mazda       gas        std         four   \n",
       "63         0                NaN  mazda    diesel        std          NaN   \n",
       "\n",
       "   body_style drive_wheels engine_location  wheel_base  ...  engine_size  \\\n",
       "53      sedan          fwd           front        93.1  ...           91   \n",
       "54      sedan          fwd           front        93.1  ...           91   \n",
       "60      sedan          fwd           front        98.8  ...          122   \n",
       "62      sedan          fwd           front        98.8  ...          122   \n",
       "63      sedan          fwd           front        98.8  ...          122   \n",
       "\n",
       "    fuel_system  bore  stroke compression_ratio horsepower  peak_rpm city_mpg  \\\n",
       "53         2bbl  3.03    3.15               9.0       68.0    5000.0       31   \n",
       "54         2bbl  3.08    3.15               9.0       68.0    5000.0       31   \n",
       "60         2bbl  3.39    3.39               8.6       84.0    4800.0       26   \n",
       "62         2bbl  3.39    3.39               8.6       84.0    4800.0       26   \n",
       "63          idi  3.39    3.39              22.7       64.0    4650.0       36   \n",
       "\n",
       "    highway_mpg    price  \n",
       "53           38   6695.0  \n",
       "54           38   7395.0  \n",
       "60           32   8495.0  \n",
       "62           32  10245.0  \n",
       "63           42  10795.0  \n",
       "\n",
       "[5 rows x 26 columns]"
      ]
     },
     "execution_count": 25,
     "metadata": {},
     "output_type": "execute_result"
    }
   ],
   "source": [
    "fwdsedans[fwdsedans.make == 'mazda']"
   ]
  },
  {
   "cell_type": "markdown",
   "id": "honey-framework",
   "metadata": {},
   "source": [
    "We can see that our cars with missing values are a turbocharged variant of a Dodge sedan known to have four doors, and a diesel variant of a Mazda sedan known to have four doors. We thus enter the missing categorical values."
   ]
  },
  {
   "cell_type": "code",
   "execution_count": 26,
   "id": "instrumental-photographer",
   "metadata": {},
   "outputs": [],
   "source": [
    "CarInfo2 = CarInfo\n",
    "\n",
    "CarInfo2.num_of_doors.fillna('four', inplace = True)"
   ]
  },
  {
   "cell_type": "markdown",
   "id": "handed-packaging",
   "metadata": {},
   "source": [
    "Now we inspect the 4 cars which have missing _price_ values."
   ]
  },
  {
   "cell_type": "code",
   "execution_count": 27,
   "id": "differential-ordinary",
   "metadata": {},
   "outputs": [
    {
     "data": {
      "text/html": [
       "<div>\n",
       "<style scoped>\n",
       "    .dataframe tbody tr th:only-of-type {\n",
       "        vertical-align: middle;\n",
       "    }\n",
       "\n",
       "    .dataframe tbody tr th {\n",
       "        vertical-align: top;\n",
       "    }\n",
       "\n",
       "    .dataframe thead th {\n",
       "        text-align: right;\n",
       "    }\n",
       "</style>\n",
       "<table border=\"1\" class=\"dataframe\">\n",
       "  <thead>\n",
       "    <tr style=\"text-align: right;\">\n",
       "      <th></th>\n",
       "      <th>symboling</th>\n",
       "      <th>normalized_losses</th>\n",
       "      <th>make</th>\n",
       "      <th>fuel_type</th>\n",
       "      <th>aspiration</th>\n",
       "      <th>num_of_doors</th>\n",
       "      <th>body_style</th>\n",
       "      <th>drive_wheels</th>\n",
       "      <th>engine_location</th>\n",
       "      <th>wheel_base</th>\n",
       "      <th>...</th>\n",
       "      <th>engine_size</th>\n",
       "      <th>fuel_system</th>\n",
       "      <th>bore</th>\n",
       "      <th>stroke</th>\n",
       "      <th>compression_ratio</th>\n",
       "      <th>horsepower</th>\n",
       "      <th>peak_rpm</th>\n",
       "      <th>city_mpg</th>\n",
       "      <th>highway_mpg</th>\n",
       "      <th>price</th>\n",
       "    </tr>\n",
       "  </thead>\n",
       "  <tbody>\n",
       "    <tr>\n",
       "      <th>9</th>\n",
       "      <td>0</td>\n",
       "      <td>NaN</td>\n",
       "      <td>audi</td>\n",
       "      <td>gas</td>\n",
       "      <td>turbo</td>\n",
       "      <td>two</td>\n",
       "      <td>hatchback</td>\n",
       "      <td>4wd</td>\n",
       "      <td>front</td>\n",
       "      <td>99.5</td>\n",
       "      <td>...</td>\n",
       "      <td>131</td>\n",
       "      <td>mpfi</td>\n",
       "      <td>3.13</td>\n",
       "      <td>3.40</td>\n",
       "      <td>7.0</td>\n",
       "      <td>160.0</td>\n",
       "      <td>5500.0</td>\n",
       "      <td>16</td>\n",
       "      <td>22</td>\n",
       "      <td>NaN</td>\n",
       "    </tr>\n",
       "    <tr>\n",
       "      <th>44</th>\n",
       "      <td>1</td>\n",
       "      <td>NaN</td>\n",
       "      <td>isuzu</td>\n",
       "      <td>gas</td>\n",
       "      <td>std</td>\n",
       "      <td>two</td>\n",
       "      <td>sedan</td>\n",
       "      <td>fwd</td>\n",
       "      <td>front</td>\n",
       "      <td>94.5</td>\n",
       "      <td>...</td>\n",
       "      <td>90</td>\n",
       "      <td>2bbl</td>\n",
       "      <td>3.03</td>\n",
       "      <td>3.11</td>\n",
       "      <td>9.6</td>\n",
       "      <td>70.0</td>\n",
       "      <td>5400.0</td>\n",
       "      <td>38</td>\n",
       "      <td>43</td>\n",
       "      <td>NaN</td>\n",
       "    </tr>\n",
       "    <tr>\n",
       "      <th>45</th>\n",
       "      <td>0</td>\n",
       "      <td>NaN</td>\n",
       "      <td>isuzu</td>\n",
       "      <td>gas</td>\n",
       "      <td>std</td>\n",
       "      <td>four</td>\n",
       "      <td>sedan</td>\n",
       "      <td>fwd</td>\n",
       "      <td>front</td>\n",
       "      <td>94.5</td>\n",
       "      <td>...</td>\n",
       "      <td>90</td>\n",
       "      <td>2bbl</td>\n",
       "      <td>3.03</td>\n",
       "      <td>3.11</td>\n",
       "      <td>9.6</td>\n",
       "      <td>70.0</td>\n",
       "      <td>5400.0</td>\n",
       "      <td>38</td>\n",
       "      <td>43</td>\n",
       "      <td>NaN</td>\n",
       "    </tr>\n",
       "    <tr>\n",
       "      <th>129</th>\n",
       "      <td>1</td>\n",
       "      <td>NaN</td>\n",
       "      <td>porsche</td>\n",
       "      <td>gas</td>\n",
       "      <td>std</td>\n",
       "      <td>two</td>\n",
       "      <td>hatchback</td>\n",
       "      <td>rwd</td>\n",
       "      <td>front</td>\n",
       "      <td>98.4</td>\n",
       "      <td>...</td>\n",
       "      <td>203</td>\n",
       "      <td>mpfi</td>\n",
       "      <td>3.94</td>\n",
       "      <td>3.11</td>\n",
       "      <td>10.0</td>\n",
       "      <td>288.0</td>\n",
       "      <td>5750.0</td>\n",
       "      <td>17</td>\n",
       "      <td>28</td>\n",
       "      <td>NaN</td>\n",
       "    </tr>\n",
       "  </tbody>\n",
       "</table>\n",
       "<p>4 rows × 26 columns</p>\n",
       "</div>"
      ],
      "text/plain": [
       "    symboling  normalized_losses     make fuel_type aspiration num_of_doors  \\\n",
       "9           0                NaN     audi       gas      turbo          two   \n",
       "44          1                NaN    isuzu       gas        std          two   \n",
       "45          0                NaN    isuzu       gas        std         four   \n",
       "129         1                NaN  porsche       gas        std          two   \n",
       "\n",
       "    body_style drive_wheels engine_location  wheel_base  ...  engine_size  \\\n",
       "9    hatchback          4wd           front        99.5  ...          131   \n",
       "44       sedan          fwd           front        94.5  ...           90   \n",
       "45       sedan          fwd           front        94.5  ...           90   \n",
       "129  hatchback          rwd           front        98.4  ...          203   \n",
       "\n",
       "     fuel_system  bore  stroke compression_ratio horsepower  peak_rpm  \\\n",
       "9           mpfi  3.13    3.40               7.0      160.0    5500.0   \n",
       "44          2bbl  3.03    3.11               9.6       70.0    5400.0   \n",
       "45          2bbl  3.03    3.11               9.6       70.0    5400.0   \n",
       "129         mpfi  3.94    3.11              10.0      288.0    5750.0   \n",
       "\n",
       "    city_mpg  highway_mpg  price  \n",
       "9         16           22    NaN  \n",
       "44        38           43    NaN  \n",
       "45        38           43    NaN  \n",
       "129       17           28    NaN  \n",
       "\n",
       "[4 rows x 26 columns]"
      ]
     },
     "execution_count": 27,
     "metadata": {},
     "output_type": "execute_result"
    }
   ],
   "source": [
    "null_price"
   ]
  },
  {
   "cell_type": "markdown",
   "id": "vital-hungarian",
   "metadata": {},
   "source": [
    "We check if there are comparable cars in our data set for these entries."
   ]
  },
  {
   "cell_type": "code",
   "execution_count": 28,
   "id": "spectacular-baghdad",
   "metadata": {},
   "outputs": [
    {
     "name": "stdout",
     "output_type": "stream",
     "text": [
      "Comparable Cars: 1\n",
      "Comparable Cars: 3\n",
      "Comparable Cars: 3\n",
      "Comparable Cars: 1\n"
     ]
    }
   ],
   "source": [
    "for i in range(len(null_price)):\n",
    "    comparables = CarInfo[(CarInfo.make == null_price.iloc[i,].make) & (CarInfo.body_style == null_price.iloc[i,].body_style) & (CarInfo.num_of_cylinders == null_price.iloc[i,].num_of_cylinders)]\n",
    "    print('Comparable Cars:', len(comparables))"
   ]
  },
  {
   "cell_type": "markdown",
   "id": "plastic-letter",
   "metadata": {},
   "source": [
    "As there are insufficient comparable cars, we loosen our comparison criterion to just include manufacturer."
   ]
  },
  {
   "cell_type": "code",
   "execution_count": 29,
   "id": "offshore-robertson",
   "metadata": {},
   "outputs": [
    {
     "name": "stdout",
     "output_type": "stream",
     "text": [
      "Comparable Cars: 7\n",
      "Comparable Cars: 4\n",
      "Comparable Cars: 4\n",
      "Comparable Cars: 5\n"
     ]
    }
   ],
   "source": [
    "for i in range(len(null_price)):\n",
    "    comparables = CarInfo[(CarInfo.make == null_price.iloc[i,].make)]\n",
    "    print('Comparable Cars:', len(comparables))"
   ]
  },
  {
   "cell_type": "code",
   "execution_count": 30,
   "id": "correct-eclipse",
   "metadata": {},
   "outputs": [
    {
     "name": "stdout",
     "output_type": "stream",
     "text": [
      "All Cars: 10295.0\n",
      "Audi: 17580.0\n",
      "Isuzu: 8916.5\n",
      "Porsche: 33278.0\n"
     ]
    }
   ],
   "source": [
    "print('All Cars:', CarInfo.price.median())\n",
    "print('Audi:', CarInfo[CarInfo.make == 'audi'].price.median())\n",
    "print('Isuzu:', CarInfo[CarInfo.make == 'isuzu'].price.median())\n",
    "print('Porsche:', CarInfo[CarInfo.make == 'porsche'].price.median())"
   ]
  },
  {
   "cell_type": "markdown",
   "id": "pressing-swiss",
   "metadata": {},
   "source": [
    "We see that there is significant median price variation when conditioning by manufacturer. Thus we use the manufacturer-specific median prices as stand-ins for our missing values."
   ]
  },
  {
   "cell_type": "code",
   "execution_count": 31,
   "id": "oriented-trustee",
   "metadata": {},
   "outputs": [],
   "source": [
    "CarInfo2.price = CarInfo2.groupby(['make']).price.transform(lambda x: x.fillna(x.median()))"
   ]
  },
  {
   "cell_type": "markdown",
   "id": "surrounded-friendly",
   "metadata": {},
   "source": [
    "We make sure that the data set was transformed correctly."
   ]
  },
  {
   "cell_type": "code",
   "execution_count": 32,
   "id": "novel-robertson",
   "metadata": {},
   "outputs": [
    {
     "data": {
      "text/plain": [
       "33278.0"
      ]
     },
     "execution_count": 32,
     "metadata": {},
     "output_type": "execute_result"
    }
   ],
   "source": [
    "CarInfo2.loc[129].price"
   ]
  },
  {
   "cell_type": "code",
   "execution_count": 33,
   "id": "isolated-usage",
   "metadata": {},
   "outputs": [
    {
     "data": {
      "text/plain": [
       "0"
      ]
     },
     "execution_count": 33,
     "metadata": {},
     "output_type": "execute_result"
    }
   ],
   "source": [
    "len(CarInfo2[CarInfo2.num_of_doors.isnull()])"
   ]
  },
  {
   "cell_type": "code",
   "execution_count": 34,
   "id": "above-yorkshire",
   "metadata": {},
   "outputs": [
    {
     "data": {
      "text/plain": [
       "0"
      ]
     },
     "execution_count": 34,
     "metadata": {},
     "output_type": "execute_result"
    }
   ],
   "source": [
    "len(CarInfo2[CarInfo2.price.isnull()])"
   ]
  },
  {
   "cell_type": "markdown",
   "id": "configured-spain",
   "metadata": {},
   "source": [
    "Finally, we compare the resulting price distribution to the one seen in our original EDA."
   ]
  },
  {
   "cell_type": "code",
   "execution_count": 35,
   "id": "variable-earth",
   "metadata": {},
   "outputs": [
    {
     "data": {
      "image/png": "[encoded data removed]",
      "text/plain": [
       "<Figure size 432x432 with 4 Axes>"
      ]
     },
     "metadata": {
      "needs_background": "light"
     },
     "output_type": "display_data"
    }
   ],
   "source": [
    "plt.figure(figsize = (6,6))\n",
    "\n",
    "plt.subplot(2,2,1)\n",
    "plt.title('Old Histogram of Price')\n",
    "sns.histplot(x = CarInfo.price, kde = True)\n",
    "plt.subplot(2,2,2)\n",
    "plt.title('Old Box Plot of Price')\n",
    "sns.boxenplot(x = CarInfo.price)\n",
    "\n",
    "plt.subplot(2,2,3)\n",
    "plt.title('New Histogram of Price')\n",
    "sns.histplot(x = CarInfo2.price, kde = True)\n",
    "plt.subplot(2,2,4)\n",
    "plt.title('New Box Plot of Price')\n",
    "sns.boxenplot(x = CarInfo2.price)\n",
    "\n",
    "plt.tight_layout()"
   ]
  },
  {
   "cell_type": "markdown",
   "id": "charitable-seeking",
   "metadata": {},
   "source": [
    "Thus we see that the change to the price distribution's shape is imperceptible."
   ]
  },
  {
   "cell_type": "markdown",
   "id": "functioning-cartoon",
   "metadata": {},
   "source": [
    "## Question 3"
   ]
  },
  {
   "cell_type": "markdown",
   "id": "abstract-bosnia",
   "metadata": {},
   "source": [
    "The initial boxplots and histograms for _engine_size_ and _stroke_ are as seen in our EDA:"
   ]
  },
  {
   "cell_type": "code",
   "execution_count": 36,
   "id": "representative-beauty",
   "metadata": {},
   "outputs": [
    {
     "data": {
      "image/png": "[encoded data removed]",
      "text/plain": [
       "<Figure size 432x432 with 4 Axes>"
      ]
     },
     "metadata": {
      "needs_background": "light"
     },
     "output_type": "display_data"
    }
   ],
   "source": [
    "plt.figure(figsize = (6,6))\n",
    "\n",
    "plt.subplot(2,2,1)\n",
    "plt.title('Histogram of Engine Size')\n",
    "sns.histplot(x = CarInfo.engine_size, kde = True)\n",
    "plt.subplot(2,2,2)\n",
    "plt.title('Box Plot of Engine Size')\n",
    "sns.boxenplot(x = CarInfo.engine_size)\n",
    "\n",
    "plt.subplot(2,2,3)\n",
    "plt.title('Histogram of Stroke')\n",
    "sns.histplot(x = CarInfo.stroke, kde = True)\n",
    "plt.subplot(2,2,4)\n",
    "plt.title('Box Plot of Stroke')\n",
    "sns.boxenplot(x = CarInfo.stroke)\n",
    "\n",
    "plt.tight_layout()"
   ]
  },
  {
   "cell_type": "markdown",
   "id": "plastic-advertiser",
   "metadata": {},
   "source": [
    "As mentioned in Question 1, _engine_size_ is a right-skewed variable while _stroke_ is relatively unskewed. In order to make our data more Gaussian, we apply a Box-Cox Transform to the entire numeric component of our data set:"
   ]
  },
  {
   "cell_type": "code",
   "execution_count": 37,
   "id": "hawaiian-economy",
   "metadata": {},
   "outputs": [],
   "source": [
    "numerics = ['normalized_losses','wheel_base','length',\n",
    "    'width','height',\n",
    "    'curb_weight',\n",
    "    'engine_size',\n",
    "    'bore','stroke',\n",
    "    'compression_ratio','horsepower',\n",
    "    'peak_rpm',\n",
    "    'city_mpg','highway_mpg',\n",
    "    'price']\n",
    "\n",
    "CarInfo3 = CarInfo[numerics]\n",
    "\n",
    "CarInfo3 = skp.power_transform(CarInfo3, method = 'box-cox')"
   ]
  },
  {
   "cell_type": "markdown",
   "id": "broad-complement",
   "metadata": {},
   "source": [
    "The scikit-learn Box-Cox Transform generates a numpy array which we convert back into a pandas dataframe."
   ]
  },
  {
   "cell_type": "code",
   "execution_count": 38,
   "id": "ethical-liability",
   "metadata": {},
   "outputs": [
    {
     "data": {
      "text/plain": [
       "numpy.ndarray"
      ]
     },
     "execution_count": 38,
     "metadata": {},
     "output_type": "execute_result"
    }
   ],
   "source": [
    "type(CarInfo3)"
   ]
  },
  {
   "cell_type": "code",
   "execution_count": 39,
   "id": "durable-interest",
   "metadata": {},
   "outputs": [
    {
     "data": {
      "text/plain": [
       "(205, 15)"
      ]
     },
     "execution_count": 39,
     "metadata": {},
     "output_type": "execute_result"
    }
   ],
   "source": [
    "np.shape(CarInfo3)"
   ]
  },
  {
   "cell_type": "code",
   "execution_count": 40,
   "id": "wooden-oasis",
   "metadata": {},
   "outputs": [
    {
     "data": {
      "text/html": [
       "<div>\n",
       "<style scoped>\n",
       "    .dataframe tbody tr th:only-of-type {\n",
       "        vertical-align: middle;\n",
       "    }\n",
       "\n",
       "    .dataframe tbody tr th {\n",
       "        vertical-align: top;\n",
       "    }\n",
       "\n",
       "    .dataframe thead th {\n",
       "        text-align: right;\n",
       "    }\n",
       "</style>\n",
       "<table border=\"1\" class=\"dataframe\">\n",
       "  <thead>\n",
       "    <tr style=\"text-align: right;\">\n",
       "      <th></th>\n",
       "      <th>normalized_losses</th>\n",
       "      <th>wheel_base</th>\n",
       "      <th>length</th>\n",
       "      <th>width</th>\n",
       "      <th>height</th>\n",
       "      <th>curb_weight</th>\n",
       "      <th>engine_size</th>\n",
       "      <th>bore</th>\n",
       "      <th>stroke</th>\n",
       "      <th>compression_ratio</th>\n",
       "      <th>horsepower</th>\n",
       "      <th>peak_rpm</th>\n",
       "      <th>city_mpg</th>\n",
       "      <th>highway_mpg</th>\n",
       "      <th>price</th>\n",
       "    </tr>\n",
       "  </thead>\n",
       "  <tbody>\n",
       "    <tr>\n",
       "      <th>0</th>\n",
       "      <td>NaN</td>\n",
       "      <td>-2.403020</td>\n",
       "      <td>-0.404364</td>\n",
       "      <td>-1.15564</td>\n",
       "      <td>-2.067648</td>\n",
       "      <td>0.144825</td>\n",
       "      <td>0.380116</td>\n",
       "      <td>0.521155</td>\n",
       "      <td>-1.716468</td>\n",
       "      <td>-0.011717</td>\n",
       "      <td>0.461111</td>\n",
       "      <td>-0.250310</td>\n",
       "      <td>-0.585903</td>\n",
       "      <td>-0.487064</td>\n",
       "      <td>0.468055</td>\n",
       "    </tr>\n",
       "    <tr>\n",
       "      <th>1</th>\n",
       "      <td>NaN</td>\n",
       "      <td>-2.403020</td>\n",
       "      <td>-0.404364</td>\n",
       "      <td>-1.15564</td>\n",
       "      <td>-2.067648</td>\n",
       "      <td>0.144825</td>\n",
       "      <td>0.380116</td>\n",
       "      <td>0.521155</td>\n",
       "      <td>-1.716468</td>\n",
       "      <td>-0.011717</td>\n",
       "      <td>0.461111</td>\n",
       "      <td>-0.250310</td>\n",
       "      <td>-0.585903</td>\n",
       "      <td>-0.487064</td>\n",
       "      <td>0.826506</td>\n",
       "    </tr>\n",
       "    <tr>\n",
       "      <th>2</th>\n",
       "      <td>NaN</td>\n",
       "      <td>-0.699775</td>\n",
       "      <td>-0.205728</td>\n",
       "      <td>-1.15564</td>\n",
       "      <td>-0.533347</td>\n",
       "      <td>0.647094</td>\n",
       "      <td>0.890038</td>\n",
       "      <td>-2.431948</td>\n",
       "      <td>0.663547</td>\n",
       "      <td>-0.011717</td>\n",
       "      <td>1.278866</td>\n",
       "      <td>-0.250310</td>\n",
       "      <td>-0.976694</td>\n",
       "      <td>-0.652136</td>\n",
       "      <td>0.826506</td>\n",
       "    </tr>\n",
       "    <tr>\n",
       "      <th>3</th>\n",
       "      <td>1.179875</td>\n",
       "      <td>0.365053</td>\n",
       "      <td>0.233457</td>\n",
       "      <td>-0.57782</td>\n",
       "      <td>0.249523</td>\n",
       "      <td>-0.303496</td>\n",
       "      <td>-0.294328</td>\n",
       "      <td>-0.504463</td>\n",
       "      <td>0.414798</td>\n",
       "      <td>0.635359</td>\n",
       "      <td>0.222674</td>\n",
       "      <td>0.788042</td>\n",
       "      <td>-0.064805</td>\n",
       "      <td>-0.020144</td>\n",
       "      <td>0.530349</td>\n",
       "    </tr>\n",
       "    <tr>\n",
       "      <th>4</th>\n",
       "      <td>1.179875</td>\n",
       "      <td>0.296326</td>\n",
       "      <td>0.233457</td>\n",
       "      <td>-0.57782</td>\n",
       "      <td>0.249523</td>\n",
       "      <td>0.648777</td>\n",
       "      <td>0.535227</td>\n",
       "      <td>-0.504463</td>\n",
       "      <td>0.414798</td>\n",
       "      <td>-1.031703</td>\n",
       "      <td>0.557422</td>\n",
       "      <td>0.788042</td>\n",
       "      <td>-1.187887</td>\n",
       "      <td>-1.369271</td>\n",
       "      <td>0.918497</td>\n",
       "    </tr>\n",
       "  </tbody>\n",
       "</table>\n",
       "</div>"
      ],
      "text/plain": [
       "   normalized_losses  wheel_base    length    width    height  curb_weight  \\\n",
       "0                NaN   -2.403020 -0.404364 -1.15564 -2.067648     0.144825   \n",
       "1                NaN   -2.403020 -0.404364 -1.15564 -2.067648     0.144825   \n",
       "2                NaN   -0.699775 -0.205728 -1.15564 -0.533347     0.647094   \n",
       "3           1.179875    0.365053  0.233457 -0.57782  0.249523    -0.303496   \n",
       "4           1.179875    0.296326  0.233457 -0.57782  0.249523     0.648777   \n",
       "\n",
       "   engine_size      bore    stroke  compression_ratio  horsepower  peak_rpm  \\\n",
       "0     0.380116  0.521155 -1.716468          -0.011717    0.461111 -0.250310   \n",
       "1     0.380116  0.521155 -1.716468          -0.011717    0.461111 -0.250310   \n",
       "2     0.890038 -2.431948  0.663547          -0.011717    1.278866 -0.250310   \n",
       "3    -0.294328 -0.504463  0.414798           0.635359    0.222674  0.788042   \n",
       "4     0.535227 -0.504463  0.414798          -1.031703    0.557422  0.788042   \n",
       "\n",
       "   city_mpg  highway_mpg     price  \n",
       "0 -0.585903    -0.487064  0.468055  \n",
       "1 -0.585903    -0.487064  0.826506  \n",
       "2 -0.976694    -0.652136  0.826506  \n",
       "3 -0.064805    -0.020144  0.530349  \n",
       "4 -1.187887    -1.369271  0.918497  "
      ]
     },
     "execution_count": 40,
     "metadata": {},
     "output_type": "execute_result"
    }
   ],
   "source": [
    "CarInfo3 = pd.DataFrame(CarInfo3, columns = numerics)\n",
    "\n",
    "CarInfo3.head()"
   ]
  },
  {
   "cell_type": "markdown",
   "id": "federal-miniature",
   "metadata": {},
   "source": [
    "Immediately we can see that the data has been shifted, as all our attributes were strictly positive prior to the transform but now negative values exist.\n",
    "\n",
    "We proceed to create new histograms and box plots of our transformed data."
   ]
  },
  {
   "cell_type": "code",
   "execution_count": 41,
   "id": "chinese-track",
   "metadata": {},
   "outputs": [
    {
     "data": {
      "image/png": "[encoded data removed]",
      "text/plain": [
       "<Figure size 432x432 with 4 Axes>"
      ]
     },
     "metadata": {
      "needs_background": "light"
     },
     "output_type": "display_data"
    }
   ],
   "source": [
    "plt.figure(figsize = (6,6))\n",
    "\n",
    "plt.subplot(2,2,1)\n",
    "plt.title('New Histogram of Engine Size')\n",
    "sns.histplot(x = CarInfo3.engine_size, kde = True)\n",
    "plt.subplot(2,2,2)\n",
    "plt.title('New Box Plot of Engine Size')\n",
    "sns.boxenplot(x = CarInfo3.engine_size)\n",
    "\n",
    "plt.subplot(2,2,3)\n",
    "plt.title('New Histogram of Stroke')\n",
    "sns.histplot(x = CarInfo3.stroke, kde = True)\n",
    "plt.subplot(2,2,4)\n",
    "plt.title('New Box Plot of Stroke')\n",
    "sns.boxenplot(x = CarInfo3.stroke)\n",
    "\n",
    "plt.tight_layout()"
   ]
  },
  {
   "cell_type": "markdown",
   "id": "transsexual-debate",
   "metadata": {},
   "source": [
    "We see that our previously skewed variable (_engine_size_) has been shifted significantly, turning its leftmost values into deliberate outliers to warp the distribution into a somewhat Gaussian form. The unskewed variable _stroke_ however, maintains essentially the same distribution shape as before.\n",
    "\n",
    "Also of note is that the data has been rescaled, and the variables which were previously on very different scales are now on a similar one. We check to see if standardization has been achieved."
   ]
  },
  {
   "cell_type": "code",
   "execution_count": 42,
   "id": "beneficial-click",
   "metadata": {},
   "outputs": [
    {
     "name": "stdout",
     "output_type": "stream",
     "text": [
      "Mean of Engine Size: 4.469974526023734e-14\n",
      "Standard Deviation of Engine Size: 1.0024479840791305\n",
      "Mean of Stroke: -5.382648445259776e-16\n",
      "Standard Deviation of Stroke: 1.0024968827881706\n"
     ]
    }
   ],
   "source": [
    "print('Mean of Engine Size:', CarInfo3.engine_size.mean())\n",
    "print('Standard Deviation of Engine Size:', CarInfo3.engine_size.std())\n",
    "print('Mean of Stroke:', CarInfo3.stroke.mean())\n",
    "print('Standard Deviation of Stroke:', CarInfo3.stroke.std())"
   ]
  },
  {
   "cell_type": "markdown",
   "id": "indonesian-chart",
   "metadata": {},
   "source": [
    "Both variables have a mean of (effectively) 0 and standard deviation of 1. Thus we see that the scikit-learn Box-Cox Transform has not only reshaped the data into approximately Gaussian form, but also standardized it."
   ]
  },
  {
   "cell_type": "markdown",
   "id": "indie-thermal",
   "metadata": {},
   "source": [
    "## Question 4"
   ]
  },
  {
   "cell_type": "markdown",
   "id": "competent-haven",
   "metadata": {},
   "source": [
    "#### Part A\n",
    "* **symboling** : Categorical Ordinal <br>\n",
    "_symboling_ is described as having a ranking order in its possible values, with 3 being the most risky and -3 the least. <br><br>\n",
    "\n",
    "* **make** : Categorical Nominal <br>\n",
    "_make_ is a nominal value, as the manufacturers are not ranked in any way. <br><br>\n",
    "\n",
    "* **engine_type** : Categorical Nominal <br>\n",
    "_engine_type_ is another nominal value, as none of the camshaft configurations are described as being better or worse than any others."
   ]
  },
  {
   "cell_type": "markdown",
   "id": "looking-sister",
   "metadata": {},
   "source": [
    "#### Part B\n",
    "The 3 variables here are all categorical, so all of them would need to be converted into dummy variables for use in a machine learning model (even the ordinal one). This can be done easily using pandas' get_dummies() function."
   ]
  },
  {
   "cell_type": "markdown",
   "id": "eligible-shaft",
   "metadata": {},
   "source": [
    "#### Part C"
   ]
  },
  {
   "cell_type": "code",
   "execution_count": 43,
   "id": "equipped-bottle",
   "metadata": {},
   "outputs": [
    {
     "data": {
      "text/html": [
       "<div>\n",
       "<style scoped>\n",
       "    .dataframe tbody tr th:only-of-type {\n",
       "        vertical-align: middle;\n",
       "    }\n",
       "\n",
       "    .dataframe tbody tr th {\n",
       "        vertical-align: top;\n",
       "    }\n",
       "\n",
       "    .dataframe thead th {\n",
       "        text-align: right;\n",
       "    }\n",
       "</style>\n",
       "<table border=\"1\" class=\"dataframe\">\n",
       "  <thead>\n",
       "    <tr style=\"text-align: right;\">\n",
       "      <th></th>\n",
       "      <th>sym_-2</th>\n",
       "      <th>sym_-1</th>\n",
       "      <th>sym_0</th>\n",
       "      <th>sym_1</th>\n",
       "      <th>sym_2</th>\n",
       "      <th>sym_3</th>\n",
       "    </tr>\n",
       "  </thead>\n",
       "  <tbody>\n",
       "    <tr>\n",
       "      <th>0</th>\n",
       "      <td>0</td>\n",
       "      <td>0</td>\n",
       "      <td>0</td>\n",
       "      <td>0</td>\n",
       "      <td>0</td>\n",
       "      <td>1</td>\n",
       "    </tr>\n",
       "    <tr>\n",
       "      <th>1</th>\n",
       "      <td>0</td>\n",
       "      <td>0</td>\n",
       "      <td>0</td>\n",
       "      <td>0</td>\n",
       "      <td>0</td>\n",
       "      <td>1</td>\n",
       "    </tr>\n",
       "    <tr>\n",
       "      <th>2</th>\n",
       "      <td>0</td>\n",
       "      <td>0</td>\n",
       "      <td>0</td>\n",
       "      <td>1</td>\n",
       "      <td>0</td>\n",
       "      <td>0</td>\n",
       "    </tr>\n",
       "    <tr>\n",
       "      <th>3</th>\n",
       "      <td>0</td>\n",
       "      <td>0</td>\n",
       "      <td>0</td>\n",
       "      <td>0</td>\n",
       "      <td>1</td>\n",
       "      <td>0</td>\n",
       "    </tr>\n",
       "    <tr>\n",
       "      <th>4</th>\n",
       "      <td>0</td>\n",
       "      <td>0</td>\n",
       "      <td>0</td>\n",
       "      <td>0</td>\n",
       "      <td>1</td>\n",
       "      <td>0</td>\n",
       "    </tr>\n",
       "  </tbody>\n",
       "</table>\n",
       "</div>"
      ],
      "text/plain": [
       "   sym_-2  sym_-1  sym_0  sym_1  sym_2  sym_3\n",
       "0       0       0      0      0      0      1\n",
       "1       0       0      0      0      0      1\n",
       "2       0       0      0      1      0      0\n",
       "3       0       0      0      0      1      0\n",
       "4       0       0      0      0      1      0"
      ]
     },
     "execution_count": 43,
     "metadata": {},
     "output_type": "execute_result"
    }
   ],
   "source": [
    "symboling = pd.get_dummies(CarInfo.symboling, prefix = 'sym')\n",
    "\n",
    "symboling.head()"
   ]
  },
  {
   "cell_type": "code",
   "execution_count": 44,
   "id": "expanded-sitting",
   "metadata": {},
   "outputs": [
    {
     "data": {
      "text/html": [
       "<div>\n",
       "<style scoped>\n",
       "    .dataframe tbody tr th:only-of-type {\n",
       "        vertical-align: middle;\n",
       "    }\n",
       "\n",
       "    .dataframe tbody tr th {\n",
       "        vertical-align: top;\n",
       "    }\n",
       "\n",
       "    .dataframe thead th {\n",
       "        text-align: right;\n",
       "    }\n",
       "</style>\n",
       "<table border=\"1\" class=\"dataframe\">\n",
       "  <thead>\n",
       "    <tr style=\"text-align: right;\">\n",
       "      <th></th>\n",
       "      <th>make_alfa-romero</th>\n",
       "      <th>make_audi</th>\n",
       "      <th>make_bmw</th>\n",
       "      <th>make_chevrolet</th>\n",
       "      <th>make_dodge</th>\n",
       "      <th>make_honda</th>\n",
       "      <th>make_isuzu</th>\n",
       "      <th>make_jaguar</th>\n",
       "      <th>make_mazda</th>\n",
       "      <th>make_mercedes-benz</th>\n",
       "      <th>...</th>\n",
       "      <th>make_nissan</th>\n",
       "      <th>make_peugot</th>\n",
       "      <th>make_plymouth</th>\n",
       "      <th>make_porsche</th>\n",
       "      <th>make_renault</th>\n",
       "      <th>make_saab</th>\n",
       "      <th>make_subaru</th>\n",
       "      <th>make_toyota</th>\n",
       "      <th>make_volkswagen</th>\n",
       "      <th>make_volvo</th>\n",
       "    </tr>\n",
       "  </thead>\n",
       "  <tbody>\n",
       "    <tr>\n",
       "      <th>0</th>\n",
       "      <td>1</td>\n",
       "      <td>0</td>\n",
       "      <td>0</td>\n",
       "      <td>0</td>\n",
       "      <td>0</td>\n",
       "      <td>0</td>\n",
       "      <td>0</td>\n",
       "      <td>0</td>\n",
       "      <td>0</td>\n",
       "      <td>0</td>\n",
       "      <td>...</td>\n",
       "      <td>0</td>\n",
       "      <td>0</td>\n",
       "      <td>0</td>\n",
       "      <td>0</td>\n",
       "      <td>0</td>\n",
       "      <td>0</td>\n",
       "      <td>0</td>\n",
       "      <td>0</td>\n",
       "      <td>0</td>\n",
       "      <td>0</td>\n",
       "    </tr>\n",
       "    <tr>\n",
       "      <th>1</th>\n",
       "      <td>1</td>\n",
       "      <td>0</td>\n",
       "      <td>0</td>\n",
       "      <td>0</td>\n",
       "      <td>0</td>\n",
       "      <td>0</td>\n",
       "      <td>0</td>\n",
       "      <td>0</td>\n",
       "      <td>0</td>\n",
       "      <td>0</td>\n",
       "      <td>...</td>\n",
       "      <td>0</td>\n",
       "      <td>0</td>\n",
       "      <td>0</td>\n",
       "      <td>0</td>\n",
       "      <td>0</td>\n",
       "      <td>0</td>\n",
       "      <td>0</td>\n",
       "      <td>0</td>\n",
       "      <td>0</td>\n",
       "      <td>0</td>\n",
       "    </tr>\n",
       "    <tr>\n",
       "      <th>2</th>\n",
       "      <td>1</td>\n",
       "      <td>0</td>\n",
       "      <td>0</td>\n",
       "      <td>0</td>\n",
       "      <td>0</td>\n",
       "      <td>0</td>\n",
       "      <td>0</td>\n",
       "      <td>0</td>\n",
       "      <td>0</td>\n",
       "      <td>0</td>\n",
       "      <td>...</td>\n",
       "      <td>0</td>\n",
       "      <td>0</td>\n",
       "      <td>0</td>\n",
       "      <td>0</td>\n",
       "      <td>0</td>\n",
       "      <td>0</td>\n",
       "      <td>0</td>\n",
       "      <td>0</td>\n",
       "      <td>0</td>\n",
       "      <td>0</td>\n",
       "    </tr>\n",
       "    <tr>\n",
       "      <th>3</th>\n",
       "      <td>0</td>\n",
       "      <td>1</td>\n",
       "      <td>0</td>\n",
       "      <td>0</td>\n",
       "      <td>0</td>\n",
       "      <td>0</td>\n",
       "      <td>0</td>\n",
       "      <td>0</td>\n",
       "      <td>0</td>\n",
       "      <td>0</td>\n",
       "      <td>...</td>\n",
       "      <td>0</td>\n",
       "      <td>0</td>\n",
       "      <td>0</td>\n",
       "      <td>0</td>\n",
       "      <td>0</td>\n",
       "      <td>0</td>\n",
       "      <td>0</td>\n",
       "      <td>0</td>\n",
       "      <td>0</td>\n",
       "      <td>0</td>\n",
       "    </tr>\n",
       "    <tr>\n",
       "      <th>4</th>\n",
       "      <td>0</td>\n",
       "      <td>1</td>\n",
       "      <td>0</td>\n",
       "      <td>0</td>\n",
       "      <td>0</td>\n",
       "      <td>0</td>\n",
       "      <td>0</td>\n",
       "      <td>0</td>\n",
       "      <td>0</td>\n",
       "      <td>0</td>\n",
       "      <td>...</td>\n",
       "      <td>0</td>\n",
       "      <td>0</td>\n",
       "      <td>0</td>\n",
       "      <td>0</td>\n",
       "      <td>0</td>\n",
       "      <td>0</td>\n",
       "      <td>0</td>\n",
       "      <td>0</td>\n",
       "      <td>0</td>\n",
       "      <td>0</td>\n",
       "    </tr>\n",
       "  </tbody>\n",
       "</table>\n",
       "<p>5 rows × 22 columns</p>\n",
       "</div>"
      ],
      "text/plain": [
       "   make_alfa-romero  make_audi  make_bmw  make_chevrolet  make_dodge  \\\n",
       "0                 1          0         0               0           0   \n",
       "1                 1          0         0               0           0   \n",
       "2                 1          0         0               0           0   \n",
       "3                 0          1         0               0           0   \n",
       "4                 0          1         0               0           0   \n",
       "\n",
       "   make_honda  make_isuzu  make_jaguar  make_mazda  make_mercedes-benz  ...  \\\n",
       "0           0           0            0           0                   0  ...   \n",
       "1           0           0            0           0                   0  ...   \n",
       "2           0           0            0           0                   0  ...   \n",
       "3           0           0            0           0                   0  ...   \n",
       "4           0           0            0           0                   0  ...   \n",
       "\n",
       "   make_nissan  make_peugot  make_plymouth  make_porsche  make_renault  \\\n",
       "0            0            0              0             0             0   \n",
       "1            0            0              0             0             0   \n",
       "2            0            0              0             0             0   \n",
       "3            0            0              0             0             0   \n",
       "4            0            0              0             0             0   \n",
       "\n",
       "   make_saab  make_subaru  make_toyota  make_volkswagen  make_volvo  \n",
       "0          0            0            0                0           0  \n",
       "1          0            0            0                0           0  \n",
       "2          0            0            0                0           0  \n",
       "3          0            0            0                0           0  \n",
       "4          0            0            0                0           0  \n",
       "\n",
       "[5 rows x 22 columns]"
      ]
     },
     "execution_count": 44,
     "metadata": {},
     "output_type": "execute_result"
    }
   ],
   "source": [
    "make = pd.get_dummies(CarInfo.make, prefix = 'make')\n",
    "\n",
    "make.head()"
   ]
  },
  {
   "cell_type": "code",
   "execution_count": 45,
   "id": "introductory-blanket",
   "metadata": {},
   "outputs": [
    {
     "data": {
      "text/html": [
       "<div>\n",
       "<style scoped>\n",
       "    .dataframe tbody tr th:only-of-type {\n",
       "        vertical-align: middle;\n",
       "    }\n",
       "\n",
       "    .dataframe tbody tr th {\n",
       "        vertical-align: top;\n",
       "    }\n",
       "\n",
       "    .dataframe thead th {\n",
       "        text-align: right;\n",
       "    }\n",
       "</style>\n",
       "<table border=\"1\" class=\"dataframe\">\n",
       "  <thead>\n",
       "    <tr style=\"text-align: right;\">\n",
       "      <th></th>\n",
       "      <th>etype_dohc</th>\n",
       "      <th>etype_dohcv</th>\n",
       "      <th>etype_l</th>\n",
       "      <th>etype_ohc</th>\n",
       "      <th>etype_ohcf</th>\n",
       "      <th>etype_ohcv</th>\n",
       "      <th>etype_rotor</th>\n",
       "    </tr>\n",
       "  </thead>\n",
       "  <tbody>\n",
       "    <tr>\n",
       "      <th>0</th>\n",
       "      <td>1</td>\n",
       "      <td>0</td>\n",
       "      <td>0</td>\n",
       "      <td>0</td>\n",
       "      <td>0</td>\n",
       "      <td>0</td>\n",
       "      <td>0</td>\n",
       "    </tr>\n",
       "    <tr>\n",
       "      <th>1</th>\n",
       "      <td>1</td>\n",
       "      <td>0</td>\n",
       "      <td>0</td>\n",
       "      <td>0</td>\n",
       "      <td>0</td>\n",
       "      <td>0</td>\n",
       "      <td>0</td>\n",
       "    </tr>\n",
       "    <tr>\n",
       "      <th>2</th>\n",
       "      <td>0</td>\n",
       "      <td>0</td>\n",
       "      <td>0</td>\n",
       "      <td>0</td>\n",
       "      <td>0</td>\n",
       "      <td>1</td>\n",
       "      <td>0</td>\n",
       "    </tr>\n",
       "    <tr>\n",
       "      <th>3</th>\n",
       "      <td>0</td>\n",
       "      <td>0</td>\n",
       "      <td>0</td>\n",
       "      <td>1</td>\n",
       "      <td>0</td>\n",
       "      <td>0</td>\n",
       "      <td>0</td>\n",
       "    </tr>\n",
       "    <tr>\n",
       "      <th>4</th>\n",
       "      <td>0</td>\n",
       "      <td>0</td>\n",
       "      <td>0</td>\n",
       "      <td>1</td>\n",
       "      <td>0</td>\n",
       "      <td>0</td>\n",
       "      <td>0</td>\n",
       "    </tr>\n",
       "  </tbody>\n",
       "</table>\n",
       "</div>"
      ],
      "text/plain": [
       "   etype_dohc  etype_dohcv  etype_l  etype_ohc  etype_ohcf  etype_ohcv  \\\n",
       "0           1            0        0          0           0           0   \n",
       "1           1            0        0          0           0           0   \n",
       "2           0            0        0          0           0           1   \n",
       "3           0            0        0          1           0           0   \n",
       "4           0            0        0          1           0           0   \n",
       "\n",
       "   etype_rotor  \n",
       "0            0  \n",
       "1            0  \n",
       "2            0  \n",
       "3            0  \n",
       "4            0  "
      ]
     },
     "execution_count": 45,
     "metadata": {},
     "output_type": "execute_result"
    }
   ],
   "source": [
    "engine_type = pd.get_dummies(CarInfo.engine_type, prefix = 'etype')\n",
    "\n",
    "engine_type.head()"
   ]
  },
  {
   "cell_type": "markdown",
   "id": "discrete-album",
   "metadata": {},
   "source": [
    "## Question 5"
   ]
  },
  {
   "cell_type": "markdown",
   "id": "ahead-disclaimer",
   "metadata": {},
   "source": [
    "We are now seeking to reduce some of our features that have strictly numeric data. To do this we will have to apply a dimension reduction technique, in this case Principal Component Analysis, which is appropriate for numeric data. First we obtain a dataframe for all the required numeric data that we wish to reduce dimensionality."
   ]
  },
  {
   "cell_type": "code",
   "execution_count": 46,
   "id": "external-seeking",
   "metadata": {},
   "outputs": [
    {
     "data": {
      "text/html": [
       "<div>\n",
       "<style scoped>\n",
       "    .dataframe tbody tr th:only-of-type {\n",
       "        vertical-align: middle;\n",
       "    }\n",
       "\n",
       "    .dataframe tbody tr th {\n",
       "        vertical-align: top;\n",
       "    }\n",
       "\n",
       "    .dataframe thead th {\n",
       "        text-align: right;\n",
       "    }\n",
       "</style>\n",
       "<table border=\"1\" class=\"dataframe\">\n",
       "  <thead>\n",
       "    <tr style=\"text-align: right;\">\n",
       "      <th></th>\n",
       "      <th>wheel_base</th>\n",
       "      <th>length</th>\n",
       "      <th>width</th>\n",
       "      <th>height</th>\n",
       "      <th>curb_weight</th>\n",
       "      <th>engine_size</th>\n",
       "      <th>compression_ratio</th>\n",
       "      <th>horsepower</th>\n",
       "      <th>peak_rpm</th>\n",
       "      <th>city_mpg</th>\n",
       "    </tr>\n",
       "  </thead>\n",
       "  <tbody>\n",
       "    <tr>\n",
       "      <th>0</th>\n",
       "      <td>88.6</td>\n",
       "      <td>168.8</td>\n",
       "      <td>64.1</td>\n",
       "      <td>48.8</td>\n",
       "      <td>2548</td>\n",
       "      <td>130</td>\n",
       "      <td>9.0</td>\n",
       "      <td>111.0</td>\n",
       "      <td>5000.0</td>\n",
       "      <td>21</td>\n",
       "    </tr>\n",
       "    <tr>\n",
       "      <th>1</th>\n",
       "      <td>88.6</td>\n",
       "      <td>168.8</td>\n",
       "      <td>64.1</td>\n",
       "      <td>48.8</td>\n",
       "      <td>2548</td>\n",
       "      <td>130</td>\n",
       "      <td>9.0</td>\n",
       "      <td>111.0</td>\n",
       "      <td>5000.0</td>\n",
       "      <td>21</td>\n",
       "    </tr>\n",
       "    <tr>\n",
       "      <th>2</th>\n",
       "      <td>94.5</td>\n",
       "      <td>171.2</td>\n",
       "      <td>65.5</td>\n",
       "      <td>52.4</td>\n",
       "      <td>2823</td>\n",
       "      <td>152</td>\n",
       "      <td>9.0</td>\n",
       "      <td>154.0</td>\n",
       "      <td>5000.0</td>\n",
       "      <td>19</td>\n",
       "    </tr>\n",
       "    <tr>\n",
       "      <th>3</th>\n",
       "      <td>99.8</td>\n",
       "      <td>176.6</td>\n",
       "      <td>66.2</td>\n",
       "      <td>54.3</td>\n",
       "      <td>2337</td>\n",
       "      <td>109</td>\n",
       "      <td>10.0</td>\n",
       "      <td>102.0</td>\n",
       "      <td>5500.0</td>\n",
       "      <td>24</td>\n",
       "    </tr>\n",
       "    <tr>\n",
       "      <th>4</th>\n",
       "      <td>99.4</td>\n",
       "      <td>176.6</td>\n",
       "      <td>66.4</td>\n",
       "      <td>54.3</td>\n",
       "      <td>2824</td>\n",
       "      <td>136</td>\n",
       "      <td>8.0</td>\n",
       "      <td>115.0</td>\n",
       "      <td>5500.0</td>\n",
       "      <td>18</td>\n",
       "    </tr>\n",
       "    <tr>\n",
       "      <th>...</th>\n",
       "      <td>...</td>\n",
       "      <td>...</td>\n",
       "      <td>...</td>\n",
       "      <td>...</td>\n",
       "      <td>...</td>\n",
       "      <td>...</td>\n",
       "      <td>...</td>\n",
       "      <td>...</td>\n",
       "      <td>...</td>\n",
       "      <td>...</td>\n",
       "    </tr>\n",
       "    <tr>\n",
       "      <th>200</th>\n",
       "      <td>109.1</td>\n",
       "      <td>188.8</td>\n",
       "      <td>68.9</td>\n",
       "      <td>55.5</td>\n",
       "      <td>2952</td>\n",
       "      <td>141</td>\n",
       "      <td>9.5</td>\n",
       "      <td>114.0</td>\n",
       "      <td>5400.0</td>\n",
       "      <td>23</td>\n",
       "    </tr>\n",
       "    <tr>\n",
       "      <th>201</th>\n",
       "      <td>109.1</td>\n",
       "      <td>188.8</td>\n",
       "      <td>68.8</td>\n",
       "      <td>55.5</td>\n",
       "      <td>3049</td>\n",
       "      <td>141</td>\n",
       "      <td>8.7</td>\n",
       "      <td>160.0</td>\n",
       "      <td>5300.0</td>\n",
       "      <td>19</td>\n",
       "    </tr>\n",
       "    <tr>\n",
       "      <th>202</th>\n",
       "      <td>109.1</td>\n",
       "      <td>188.8</td>\n",
       "      <td>68.9</td>\n",
       "      <td>55.5</td>\n",
       "      <td>3012</td>\n",
       "      <td>173</td>\n",
       "      <td>8.8</td>\n",
       "      <td>134.0</td>\n",
       "      <td>5500.0</td>\n",
       "      <td>18</td>\n",
       "    </tr>\n",
       "    <tr>\n",
       "      <th>203</th>\n",
       "      <td>109.1</td>\n",
       "      <td>188.8</td>\n",
       "      <td>68.9</td>\n",
       "      <td>55.5</td>\n",
       "      <td>3217</td>\n",
       "      <td>145</td>\n",
       "      <td>23.0</td>\n",
       "      <td>106.0</td>\n",
       "      <td>4800.0</td>\n",
       "      <td>26</td>\n",
       "    </tr>\n",
       "    <tr>\n",
       "      <th>204</th>\n",
       "      <td>109.1</td>\n",
       "      <td>188.8</td>\n",
       "      <td>68.9</td>\n",
       "      <td>55.5</td>\n",
       "      <td>3062</td>\n",
       "      <td>141</td>\n",
       "      <td>9.5</td>\n",
       "      <td>114.0</td>\n",
       "      <td>5400.0</td>\n",
       "      <td>19</td>\n",
       "    </tr>\n",
       "  </tbody>\n",
       "</table>\n",
       "<p>205 rows × 10 columns</p>\n",
       "</div>"
      ],
      "text/plain": [
       "     wheel_base  length  width  height  curb_weight  engine_size  \\\n",
       "0          88.6   168.8   64.1    48.8         2548          130   \n",
       "1          88.6   168.8   64.1    48.8         2548          130   \n",
       "2          94.5   171.2   65.5    52.4         2823          152   \n",
       "3          99.8   176.6   66.2    54.3         2337          109   \n",
       "4          99.4   176.6   66.4    54.3         2824          136   \n",
       "..          ...     ...    ...     ...          ...          ...   \n",
       "200       109.1   188.8   68.9    55.5         2952          141   \n",
       "201       109.1   188.8   68.8    55.5         3049          141   \n",
       "202       109.1   188.8   68.9    55.5         3012          173   \n",
       "203       109.1   188.8   68.9    55.5         3217          145   \n",
       "204       109.1   188.8   68.9    55.5         3062          141   \n",
       "\n",
       "     compression_ratio  horsepower  peak_rpm  city_mpg  \n",
       "0                  9.0       111.0    5000.0        21  \n",
       "1                  9.0       111.0    5000.0        21  \n",
       "2                  9.0       154.0    5000.0        19  \n",
       "3                 10.0       102.0    5500.0        24  \n",
       "4                  8.0       115.0    5500.0        18  \n",
       "..                 ...         ...       ...       ...  \n",
       "200                9.5       114.0    5400.0        23  \n",
       "201                8.7       160.0    5300.0        19  \n",
       "202                8.8       134.0    5500.0        18  \n",
       "203               23.0       106.0    4800.0        26  \n",
       "204                9.5       114.0    5400.0        19  \n",
       "\n",
       "[205 rows x 10 columns]"
      ]
     },
     "execution_count": 46,
     "metadata": {},
     "output_type": "execute_result"
    }
   ],
   "source": [
    "numerics2 = ['wheel_base','length','width','height','curb_weight','engine_size',\n",
    "             'compression_ratio','horsepower','peak_rpm','city_mpg']\n",
    "\n",
    "CarInfo5 = CarInfo[numerics2]\n",
    "CarInfo5"
   ]
  },
  {
   "cell_type": "markdown",
   "id": "endless-moore",
   "metadata": {},
   "source": [
    "Notice that there are NaN values. Let us determine how many we have on our current data set."
   ]
  },
  {
   "cell_type": "code",
   "execution_count": 47,
   "id": "arbitrary-limit",
   "metadata": {},
   "outputs": [
    {
     "data": {
      "text/plain": [
       "wheel_base           0\n",
       "length               0\n",
       "width                0\n",
       "height               0\n",
       "curb_weight          0\n",
       "engine_size          0\n",
       "compression_ratio    0\n",
       "horsepower           2\n",
       "peak_rpm             2\n",
       "city_mpg             0\n",
       "dtype: int64"
      ]
     },
     "execution_count": 47,
     "metadata": {},
     "output_type": "execute_result"
    }
   ],
   "source": [
    "CarInfo5.isna().sum()"
   ]
  },
  {
   "cell_type": "markdown",
   "id": "drawn-chrome",
   "metadata": {},
   "source": [
    "With the preceding result we have to decide what to do with the NaN values for each feature."
   ]
  },
  {
   "cell_type": "code",
   "execution_count": 48,
   "id": "competent-stomach",
   "metadata": {},
   "outputs": [],
   "source": [
    "null_horsepower = CarInfo5[CarInfo.horsepower.isnull()]\n",
    "null_peak_rpm = CarInfo5[CarInfo.peak_rpm.isnull()]"
   ]
  },
  {
   "cell_type": "code",
   "execution_count": 49,
   "id": "ambient-organization",
   "metadata": {},
   "outputs": [
    {
     "data": {
      "text/html": [
       "<div>\n",
       "<style scoped>\n",
       "    .dataframe tbody tr th:only-of-type {\n",
       "        vertical-align: middle;\n",
       "    }\n",
       "\n",
       "    .dataframe tbody tr th {\n",
       "        vertical-align: top;\n",
       "    }\n",
       "\n",
       "    .dataframe thead th {\n",
       "        text-align: right;\n",
       "    }\n",
       "</style>\n",
       "<table border=\"1\" class=\"dataframe\">\n",
       "  <thead>\n",
       "    <tr style=\"text-align: right;\">\n",
       "      <th></th>\n",
       "      <th>wheel_base</th>\n",
       "      <th>length</th>\n",
       "      <th>width</th>\n",
       "      <th>height</th>\n",
       "      <th>curb_weight</th>\n",
       "      <th>engine_size</th>\n",
       "      <th>compression_ratio</th>\n",
       "      <th>horsepower</th>\n",
       "      <th>peak_rpm</th>\n",
       "      <th>city_mpg</th>\n",
       "    </tr>\n",
       "  </thead>\n",
       "  <tbody>\n",
       "    <tr>\n",
       "      <th>130</th>\n",
       "      <td>96.1</td>\n",
       "      <td>181.5</td>\n",
       "      <td>66.5</td>\n",
       "      <td>55.2</td>\n",
       "      <td>2579</td>\n",
       "      <td>132</td>\n",
       "      <td>8.7</td>\n",
       "      <td>NaN</td>\n",
       "      <td>NaN</td>\n",
       "      <td>23</td>\n",
       "    </tr>\n",
       "    <tr>\n",
       "      <th>131</th>\n",
       "      <td>96.1</td>\n",
       "      <td>176.8</td>\n",
       "      <td>66.6</td>\n",
       "      <td>50.5</td>\n",
       "      <td>2460</td>\n",
       "      <td>132</td>\n",
       "      <td>8.7</td>\n",
       "      <td>NaN</td>\n",
       "      <td>NaN</td>\n",
       "      <td>23</td>\n",
       "    </tr>\n",
       "  </tbody>\n",
       "</table>\n",
       "</div>"
      ],
      "text/plain": [
       "     wheel_base  length  width  height  curb_weight  engine_size  \\\n",
       "130        96.1   181.5   66.5    55.2         2579          132   \n",
       "131        96.1   176.8   66.6    50.5         2460          132   \n",
       "\n",
       "     compression_ratio  horsepower  peak_rpm  city_mpg  \n",
       "130                8.7         NaN       NaN        23  \n",
       "131                8.7         NaN       NaN        23  "
      ]
     },
     "execution_count": 49,
     "metadata": {},
     "output_type": "execute_result"
    }
   ],
   "source": [
    "null_horsepower"
   ]
  },
  {
   "cell_type": "markdown",
   "id": "agreed-forty",
   "metadata": {},
   "source": [
    "Notice that we have the same 2 instances of the car 130 and 131 for missing values of _horsepower_ and for _peak_rpm_. So we can determine what those values are by looking at similar cars and fill them.\n",
    "\n",
    "Let us look for comparable attributes for the missing _horsepower_ and _peak_rpm_ missing values. Since we determined that _make_ was the best to use for Question 2, we will use _make_."
   ]
  },
  {
   "cell_type": "code",
   "execution_count": 50,
   "id": "fatty-abortion",
   "metadata": {},
   "outputs": [
    {
     "data": {
      "text/html": [
       "<div>\n",
       "<style scoped>\n",
       "    .dataframe tbody tr th:only-of-type {\n",
       "        vertical-align: middle;\n",
       "    }\n",
       "\n",
       "    .dataframe tbody tr th {\n",
       "        vertical-align: top;\n",
       "    }\n",
       "\n",
       "    .dataframe thead th {\n",
       "        text-align: right;\n",
       "    }\n",
       "</style>\n",
       "<table border=\"1\" class=\"dataframe\">\n",
       "  <thead>\n",
       "    <tr style=\"text-align: right;\">\n",
       "      <th></th>\n",
       "      <th>symboling</th>\n",
       "      <th>normalized_losses</th>\n",
       "      <th>make</th>\n",
       "      <th>fuel_type</th>\n",
       "      <th>aspiration</th>\n",
       "      <th>num_of_doors</th>\n",
       "      <th>body_style</th>\n",
       "      <th>drive_wheels</th>\n",
       "      <th>engine_location</th>\n",
       "      <th>wheel_base</th>\n",
       "      <th>...</th>\n",
       "      <th>engine_size</th>\n",
       "      <th>fuel_system</th>\n",
       "      <th>bore</th>\n",
       "      <th>stroke</th>\n",
       "      <th>compression_ratio</th>\n",
       "      <th>horsepower</th>\n",
       "      <th>peak_rpm</th>\n",
       "      <th>city_mpg</th>\n",
       "      <th>highway_mpg</th>\n",
       "      <th>price</th>\n",
       "    </tr>\n",
       "  </thead>\n",
       "  <tbody>\n",
       "    <tr>\n",
       "      <th>130</th>\n",
       "      <td>0</td>\n",
       "      <td>NaN</td>\n",
       "      <td>renault</td>\n",
       "      <td>gas</td>\n",
       "      <td>std</td>\n",
       "      <td>four</td>\n",
       "      <td>wagon</td>\n",
       "      <td>fwd</td>\n",
       "      <td>front</td>\n",
       "      <td>96.1</td>\n",
       "      <td>...</td>\n",
       "      <td>132</td>\n",
       "      <td>mpfi</td>\n",
       "      <td>3.46</td>\n",
       "      <td>3.9</td>\n",
       "      <td>8.7</td>\n",
       "      <td>NaN</td>\n",
       "      <td>NaN</td>\n",
       "      <td>23</td>\n",
       "      <td>31</td>\n",
       "      <td>9295.0</td>\n",
       "    </tr>\n",
       "    <tr>\n",
       "      <th>131</th>\n",
       "      <td>2</td>\n",
       "      <td>NaN</td>\n",
       "      <td>renault</td>\n",
       "      <td>gas</td>\n",
       "      <td>std</td>\n",
       "      <td>two</td>\n",
       "      <td>hatchback</td>\n",
       "      <td>fwd</td>\n",
       "      <td>front</td>\n",
       "      <td>96.1</td>\n",
       "      <td>...</td>\n",
       "      <td>132</td>\n",
       "      <td>mpfi</td>\n",
       "      <td>3.46</td>\n",
       "      <td>3.9</td>\n",
       "      <td>8.7</td>\n",
       "      <td>NaN</td>\n",
       "      <td>NaN</td>\n",
       "      <td>23</td>\n",
       "      <td>31</td>\n",
       "      <td>9895.0</td>\n",
       "    </tr>\n",
       "  </tbody>\n",
       "</table>\n",
       "<p>2 rows × 26 columns</p>\n",
       "</div>"
      ],
      "text/plain": [
       "    symboling  normalized_losses     make fuel_type aspiration num_of_doors  \\\n",
       "130         0                NaN  renault       gas        std         four   \n",
       "131         2                NaN  renault       gas        std          two   \n",
       "\n",
       "    body_style drive_wheels engine_location  wheel_base  ...  engine_size  \\\n",
       "130      wagon          fwd           front        96.1  ...          132   \n",
       "131  hatchback          fwd           front        96.1  ...          132   \n",
       "\n",
       "     fuel_system  bore  stroke compression_ratio horsepower  peak_rpm  \\\n",
       "130         mpfi  3.46     3.9               8.7        NaN       NaN   \n",
       "131         mpfi  3.46     3.9               8.7        NaN       NaN   \n",
       "\n",
       "    city_mpg  highway_mpg   price  \n",
       "130       23           31  9295.0  \n",
       "131       23           31  9895.0  \n",
       "\n",
       "[2 rows x 26 columns]"
      ]
     },
     "execution_count": 50,
     "metadata": {},
     "output_type": "execute_result"
    }
   ],
   "source": [
    "# Since it is the same 2 rows we will use one query\n",
    "null_horsepower2 = CarInfo[CarInfo.horsepower.isnull()]\n",
    "null_horsepower2"
   ]
  },
  {
   "cell_type": "code",
   "execution_count": 51,
   "id": "cheap-boxing",
   "metadata": {},
   "outputs": [
    {
     "data": {
      "text/html": [
       "<div>\n",
       "<style scoped>\n",
       "    .dataframe tbody tr th:only-of-type {\n",
       "        vertical-align: middle;\n",
       "    }\n",
       "\n",
       "    .dataframe tbody tr th {\n",
       "        vertical-align: top;\n",
       "    }\n",
       "\n",
       "    .dataframe thead th {\n",
       "        text-align: right;\n",
       "    }\n",
       "</style>\n",
       "<table border=\"1\" class=\"dataframe\">\n",
       "  <thead>\n",
       "    <tr style=\"text-align: right;\">\n",
       "      <th></th>\n",
       "      <th>symboling</th>\n",
       "      <th>normalized_losses</th>\n",
       "      <th>make</th>\n",
       "      <th>fuel_type</th>\n",
       "      <th>aspiration</th>\n",
       "      <th>num_of_doors</th>\n",
       "      <th>body_style</th>\n",
       "      <th>drive_wheels</th>\n",
       "      <th>engine_location</th>\n",
       "      <th>wheel_base</th>\n",
       "      <th>...</th>\n",
       "      <th>engine_size</th>\n",
       "      <th>fuel_system</th>\n",
       "      <th>bore</th>\n",
       "      <th>stroke</th>\n",
       "      <th>compression_ratio</th>\n",
       "      <th>horsepower</th>\n",
       "      <th>peak_rpm</th>\n",
       "      <th>city_mpg</th>\n",
       "      <th>highway_mpg</th>\n",
       "      <th>price</th>\n",
       "    </tr>\n",
       "  </thead>\n",
       "  <tbody>\n",
       "    <tr>\n",
       "      <th>130</th>\n",
       "      <td>0</td>\n",
       "      <td>NaN</td>\n",
       "      <td>renault</td>\n",
       "      <td>gas</td>\n",
       "      <td>std</td>\n",
       "      <td>four</td>\n",
       "      <td>wagon</td>\n",
       "      <td>fwd</td>\n",
       "      <td>front</td>\n",
       "      <td>96.1</td>\n",
       "      <td>...</td>\n",
       "      <td>132</td>\n",
       "      <td>mpfi</td>\n",
       "      <td>3.46</td>\n",
       "      <td>3.9</td>\n",
       "      <td>8.7</td>\n",
       "      <td>NaN</td>\n",
       "      <td>NaN</td>\n",
       "      <td>23</td>\n",
       "      <td>31</td>\n",
       "      <td>9295.0</td>\n",
       "    </tr>\n",
       "    <tr>\n",
       "      <th>131</th>\n",
       "      <td>2</td>\n",
       "      <td>NaN</td>\n",
       "      <td>renault</td>\n",
       "      <td>gas</td>\n",
       "      <td>std</td>\n",
       "      <td>two</td>\n",
       "      <td>hatchback</td>\n",
       "      <td>fwd</td>\n",
       "      <td>front</td>\n",
       "      <td>96.1</td>\n",
       "      <td>...</td>\n",
       "      <td>132</td>\n",
       "      <td>mpfi</td>\n",
       "      <td>3.46</td>\n",
       "      <td>3.9</td>\n",
       "      <td>8.7</td>\n",
       "      <td>NaN</td>\n",
       "      <td>NaN</td>\n",
       "      <td>23</td>\n",
       "      <td>31</td>\n",
       "      <td>9895.0</td>\n",
       "    </tr>\n",
       "  </tbody>\n",
       "</table>\n",
       "<p>2 rows × 26 columns</p>\n",
       "</div>"
      ],
      "text/plain": [
       "    symboling  normalized_losses     make fuel_type aspiration num_of_doors  \\\n",
       "130         0                NaN  renault       gas        std         four   \n",
       "131         2                NaN  renault       gas        std          two   \n",
       "\n",
       "    body_style drive_wheels engine_location  wheel_base  ...  engine_size  \\\n",
       "130      wagon          fwd           front        96.1  ...          132   \n",
       "131  hatchback          fwd           front        96.1  ...          132   \n",
       "\n",
       "     fuel_system  bore  stroke compression_ratio horsepower  peak_rpm  \\\n",
       "130         mpfi  3.46     3.9               8.7        NaN       NaN   \n",
       "131         mpfi  3.46     3.9               8.7        NaN       NaN   \n",
       "\n",
       "    city_mpg  highway_mpg   price  \n",
       "130       23           31  9295.0  \n",
       "131       23           31  9895.0  \n",
       "\n",
       "[2 rows x 26 columns]"
      ]
     },
     "execution_count": 51,
     "metadata": {},
     "output_type": "execute_result"
    }
   ],
   "source": [
    "CarInfo[CarInfo.make == 'renault']"
   ]
  },
  {
   "cell_type": "markdown",
   "id": "fifth-easter",
   "metadata": {},
   "source": [
    "Interesting to note that make is not a good feature to groupby because they are the only two instances in our entire data frame. Let us now look at _engine_size_ = 132."
   ]
  },
  {
   "cell_type": "code",
   "execution_count": 52,
   "id": "guilty-contractor",
   "metadata": {},
   "outputs": [
    {
     "data": {
      "text/html": [
       "<div>\n",
       "<style scoped>\n",
       "    .dataframe tbody tr th:only-of-type {\n",
       "        vertical-align: middle;\n",
       "    }\n",
       "\n",
       "    .dataframe tbody tr th {\n",
       "        vertical-align: top;\n",
       "    }\n",
       "\n",
       "    .dataframe thead th {\n",
       "        text-align: right;\n",
       "    }\n",
       "</style>\n",
       "<table border=\"1\" class=\"dataframe\">\n",
       "  <thead>\n",
       "    <tr style=\"text-align: right;\">\n",
       "      <th></th>\n",
       "      <th>symboling</th>\n",
       "      <th>normalized_losses</th>\n",
       "      <th>make</th>\n",
       "      <th>fuel_type</th>\n",
       "      <th>aspiration</th>\n",
       "      <th>num_of_doors</th>\n",
       "      <th>body_style</th>\n",
       "      <th>drive_wheels</th>\n",
       "      <th>engine_location</th>\n",
       "      <th>wheel_base</th>\n",
       "      <th>...</th>\n",
       "      <th>engine_size</th>\n",
       "      <th>fuel_system</th>\n",
       "      <th>bore</th>\n",
       "      <th>stroke</th>\n",
       "      <th>compression_ratio</th>\n",
       "      <th>horsepower</th>\n",
       "      <th>peak_rpm</th>\n",
       "      <th>city_mpg</th>\n",
       "      <th>highway_mpg</th>\n",
       "      <th>price</th>\n",
       "    </tr>\n",
       "  </thead>\n",
       "  <tbody>\n",
       "    <tr>\n",
       "      <th>130</th>\n",
       "      <td>0</td>\n",
       "      <td>NaN</td>\n",
       "      <td>renault</td>\n",
       "      <td>gas</td>\n",
       "      <td>std</td>\n",
       "      <td>four</td>\n",
       "      <td>wagon</td>\n",
       "      <td>fwd</td>\n",
       "      <td>front</td>\n",
       "      <td>96.1</td>\n",
       "      <td>...</td>\n",
       "      <td>132</td>\n",
       "      <td>mpfi</td>\n",
       "      <td>3.46</td>\n",
       "      <td>3.9</td>\n",
       "      <td>8.7</td>\n",
       "      <td>NaN</td>\n",
       "      <td>NaN</td>\n",
       "      <td>23</td>\n",
       "      <td>31</td>\n",
       "      <td>9295.0</td>\n",
       "    </tr>\n",
       "    <tr>\n",
       "      <th>131</th>\n",
       "      <td>2</td>\n",
       "      <td>NaN</td>\n",
       "      <td>renault</td>\n",
       "      <td>gas</td>\n",
       "      <td>std</td>\n",
       "      <td>two</td>\n",
       "      <td>hatchback</td>\n",
       "      <td>fwd</td>\n",
       "      <td>front</td>\n",
       "      <td>96.1</td>\n",
       "      <td>...</td>\n",
       "      <td>132</td>\n",
       "      <td>mpfi</td>\n",
       "      <td>3.46</td>\n",
       "      <td>3.9</td>\n",
       "      <td>8.7</td>\n",
       "      <td>NaN</td>\n",
       "      <td>NaN</td>\n",
       "      <td>23</td>\n",
       "      <td>31</td>\n",
       "      <td>9895.0</td>\n",
       "    </tr>\n",
       "  </tbody>\n",
       "</table>\n",
       "<p>2 rows × 26 columns</p>\n",
       "</div>"
      ],
      "text/plain": [
       "    symboling  normalized_losses     make fuel_type aspiration num_of_doors  \\\n",
       "130         0                NaN  renault       gas        std         four   \n",
       "131         2                NaN  renault       gas        std          two   \n",
       "\n",
       "    body_style drive_wheels engine_location  wheel_base  ...  engine_size  \\\n",
       "130      wagon          fwd           front        96.1  ...          132   \n",
       "131  hatchback          fwd           front        96.1  ...          132   \n",
       "\n",
       "     fuel_system  bore  stroke compression_ratio horsepower  peak_rpm  \\\n",
       "130         mpfi  3.46     3.9               8.7        NaN       NaN   \n",
       "131         mpfi  3.46     3.9               8.7        NaN       NaN   \n",
       "\n",
       "    city_mpg  highway_mpg   price  \n",
       "130       23           31  9295.0  \n",
       "131       23           31  9895.0  \n",
       "\n",
       "[2 rows x 26 columns]"
      ]
     },
     "execution_count": 52,
     "metadata": {},
     "output_type": "execute_result"
    }
   ],
   "source": [
    "CarInfo[CarInfo.engine_size == 132]"
   ]
  },
  {
   "cell_type": "markdown",
   "id": "hidden-frost",
   "metadata": {},
   "source": [
    "Since we are getting the same 130 and 131 as isolated cases for multiple attributes both numeric and categorical. The best course of action before we apply PCA, is to remove entirely from dataset."
   ]
  },
  {
   "cell_type": "code",
   "execution_count": 53,
   "id": "tired-maine",
   "metadata": {},
   "outputs": [
    {
     "data": {
      "text/html": [
       "<div>\n",
       "<style scoped>\n",
       "    .dataframe tbody tr th:only-of-type {\n",
       "        vertical-align: middle;\n",
       "    }\n",
       "\n",
       "    .dataframe tbody tr th {\n",
       "        vertical-align: top;\n",
       "    }\n",
       "\n",
       "    .dataframe thead th {\n",
       "        text-align: right;\n",
       "    }\n",
       "</style>\n",
       "<table border=\"1\" class=\"dataframe\">\n",
       "  <thead>\n",
       "    <tr style=\"text-align: right;\">\n",
       "      <th></th>\n",
       "      <th>wheel_base</th>\n",
       "      <th>length</th>\n",
       "      <th>width</th>\n",
       "      <th>height</th>\n",
       "      <th>curb_weight</th>\n",
       "      <th>engine_size</th>\n",
       "      <th>compression_ratio</th>\n",
       "      <th>horsepower</th>\n",
       "      <th>peak_rpm</th>\n",
       "      <th>city_mpg</th>\n",
       "    </tr>\n",
       "  </thead>\n",
       "  <tbody>\n",
       "    <tr>\n",
       "      <th>0</th>\n",
       "      <td>88.6</td>\n",
       "      <td>168.8</td>\n",
       "      <td>64.1</td>\n",
       "      <td>48.8</td>\n",
       "      <td>2548</td>\n",
       "      <td>130</td>\n",
       "      <td>9.0</td>\n",
       "      <td>111.0</td>\n",
       "      <td>5000.0</td>\n",
       "      <td>21</td>\n",
       "    </tr>\n",
       "    <tr>\n",
       "      <th>1</th>\n",
       "      <td>88.6</td>\n",
       "      <td>168.8</td>\n",
       "      <td>64.1</td>\n",
       "      <td>48.8</td>\n",
       "      <td>2548</td>\n",
       "      <td>130</td>\n",
       "      <td>9.0</td>\n",
       "      <td>111.0</td>\n",
       "      <td>5000.0</td>\n",
       "      <td>21</td>\n",
       "    </tr>\n",
       "    <tr>\n",
       "      <th>2</th>\n",
       "      <td>94.5</td>\n",
       "      <td>171.2</td>\n",
       "      <td>65.5</td>\n",
       "      <td>52.4</td>\n",
       "      <td>2823</td>\n",
       "      <td>152</td>\n",
       "      <td>9.0</td>\n",
       "      <td>154.0</td>\n",
       "      <td>5000.0</td>\n",
       "      <td>19</td>\n",
       "    </tr>\n",
       "    <tr>\n",
       "      <th>3</th>\n",
       "      <td>99.8</td>\n",
       "      <td>176.6</td>\n",
       "      <td>66.2</td>\n",
       "      <td>54.3</td>\n",
       "      <td>2337</td>\n",
       "      <td>109</td>\n",
       "      <td>10.0</td>\n",
       "      <td>102.0</td>\n",
       "      <td>5500.0</td>\n",
       "      <td>24</td>\n",
       "    </tr>\n",
       "    <tr>\n",
       "      <th>4</th>\n",
       "      <td>99.4</td>\n",
       "      <td>176.6</td>\n",
       "      <td>66.4</td>\n",
       "      <td>54.3</td>\n",
       "      <td>2824</td>\n",
       "      <td>136</td>\n",
       "      <td>8.0</td>\n",
       "      <td>115.0</td>\n",
       "      <td>5500.0</td>\n",
       "      <td>18</td>\n",
       "    </tr>\n",
       "  </tbody>\n",
       "</table>\n",
       "</div>"
      ],
      "text/plain": [
       "   wheel_base  length  width  height  curb_weight  engine_size  \\\n",
       "0        88.6   168.8   64.1    48.8         2548          130   \n",
       "1        88.6   168.8   64.1    48.8         2548          130   \n",
       "2        94.5   171.2   65.5    52.4         2823          152   \n",
       "3        99.8   176.6   66.2    54.3         2337          109   \n",
       "4        99.4   176.6   66.4    54.3         2824          136   \n",
       "\n",
       "   compression_ratio  horsepower  peak_rpm  city_mpg  \n",
       "0                9.0       111.0    5000.0        21  \n",
       "1                9.0       111.0    5000.0        21  \n",
       "2                9.0       154.0    5000.0        19  \n",
       "3               10.0       102.0    5500.0        24  \n",
       "4                8.0       115.0    5500.0        18  "
      ]
     },
     "execution_count": 53,
     "metadata": {},
     "output_type": "execute_result"
    }
   ],
   "source": [
    "CarInfo6 = CarInfo5.drop(labels=[130, 131], axis = 0)\n",
    "\n",
    "CarInfo6.head()"
   ]
  },
  {
   "cell_type": "code",
   "execution_count": 54,
   "id": "educational-franklin",
   "metadata": {},
   "outputs": [
    {
     "data": {
      "text/plain": [
       "wheel_base           0\n",
       "length               0\n",
       "width                0\n",
       "height               0\n",
       "curb_weight          0\n",
       "engine_size          0\n",
       "compression_ratio    0\n",
       "horsepower           0\n",
       "peak_rpm             0\n",
       "city_mpg             0\n",
       "dtype: int64"
      ]
     },
     "execution_count": 54,
     "metadata": {},
     "output_type": "execute_result"
    }
   ],
   "source": [
    "CarInfo6.isna().sum()"
   ]
  },
  {
   "cell_type": "code",
   "execution_count": 55,
   "id": "governing-campus",
   "metadata": {},
   "outputs": [
    {
     "data": {
      "text/plain": [
       "(203, 10)"
      ]
     },
     "execution_count": 55,
     "metadata": {},
     "output_type": "execute_result"
    }
   ],
   "source": [
    "CarInfo6.shape"
   ]
  },
  {
   "cell_type": "markdown",
   "id": "gross-entrepreneur",
   "metadata": {},
   "source": [
    "Now we can begin our process of Principal Component Analysis\n",
    "\n",
    "Since the range of our values is quite large from feature to feature, we must first standardize all of our data so that we can have optimal output from our model."
   ]
  },
  {
   "cell_type": "code",
   "execution_count": 56,
   "id": "indirect-stanley",
   "metadata": {},
   "outputs": [],
   "source": [
    "x = CarInfo6.loc[:, numerics2].values\n",
    "x = skp.StandardScaler().fit_transform(x)"
   ]
  },
  {
   "cell_type": "markdown",
   "id": "governmental-static",
   "metadata": {},
   "source": [
    "Now we have a matrix of values that is mean = 0 and variance = 1 for each feature. Notice there are negative values when none existed prior, this is because the data is now approximately standard normal."
   ]
  },
  {
   "cell_type": "code",
   "execution_count": 57,
   "id": "higher-tonight",
   "metadata": {},
   "outputs": [
    {
     "data": {
      "text/plain": [
       "array([[-1.68846721, -0.4208036 , -0.83808333, ...,  0.17022842,\n",
       "        -0.26219556, -0.64709448],\n",
       "       [-1.68846721, -0.4208036 , -0.83808333, ...,  0.17022842,\n",
       "        -0.26219556, -0.64709448],\n",
       "       [-0.71015113, -0.22654975, -0.18677547, ...,  1.25563669,\n",
       "        -0.26219556, -0.95222847],\n",
       "       ...,\n",
       "       [ 1.71076665,  1.19797849,  1.39497216, ...,  0.75079564,\n",
       "         0.78349598, -1.10479546],\n",
       "       [ 1.71076665,  1.19797849,  1.39497216, ...,  0.04401816,\n",
       "        -0.68047218,  0.11574048],\n",
       "       [ 1.71076665,  1.19797849,  1.39497216, ...,  0.24595458,\n",
       "         0.57435767, -0.95222847]])"
      ]
     },
     "execution_count": 57,
     "metadata": {},
     "output_type": "execute_result"
    }
   ],
   "source": [
    "x"
   ]
  },
  {
   "cell_type": "code",
   "execution_count": 58,
   "id": "moving-disco",
   "metadata": {},
   "outputs": [
    {
     "data": {
      "text/plain": [
       "(203, 10)"
      ]
     },
     "execution_count": 58,
     "metadata": {},
     "output_type": "execute_result"
    }
   ],
   "source": [
    "x.shape # The same shape of our DataFrame in use."
   ]
  },
  {
   "cell_type": "code",
   "execution_count": 59,
   "id": "freelance-start",
   "metadata": {},
   "outputs": [
    {
     "data": {
      "text/plain": [
       "dtype('float64')"
      ]
     },
     "execution_count": 59,
     "metadata": {},
     "output_type": "execute_result"
    }
   ],
   "source": [
    "x.dtype"
   ]
  },
  {
   "cell_type": "markdown",
   "id": "expensive-shame",
   "metadata": {},
   "source": [
    "Now that we have a standardized \"matrix\" we will find it's covariance and the preceeding Eigenvectors and Eigenvalues, which are intrigal to PCA. Note that the Eigenvectors are in fact the principal components."
   ]
  },
  {
   "cell_type": "code",
   "execution_count": 60,
   "id": "sealed-george",
   "metadata": {},
   "outputs": [
    {
     "data": {
      "text/plain": [
       "array([[ 1.0049505 ,  0.88248576,  0.80152406,  0.5944315 ,  0.78074681,\n",
       "         0.57327893,  0.24983214,  0.35404096, -0.36283915, -0.4749598 ],\n",
       "       [ 0.88248576,  1.0049505 ,  0.84533757,  0.49620529,  0.88312636,\n",
       "         0.68699444,  0.16096179,  0.5577503 , -0.28874734, -0.67390856],\n",
       "       [ 0.80152406,  0.84533757,  1.0049505 ,  0.28347466,  0.87202303,\n",
       "         0.73909453,  0.18330852,  0.64566284, -0.22104631, -0.64553145],\n",
       "       [ 0.5944315 ,  0.49620529,  0.28347466,  1.0049505 ,  0.29727181,\n",
       "         0.06827564,  0.26274587, -0.1112588 , -0.32386722, -0.05037861],\n",
       "       [ 0.78074681,  0.88312636,  0.87202303,  0.29727181,  1.0049505 ,\n",
       "         0.85502756,  0.15197335,  0.75475227, -0.26762468, -0.76189823],\n",
       "       [ 0.57327893,  0.68699444,  0.73909453,  0.06827564,  0.85502756,\n",
       "         1.0049505 ,  0.02957819,  0.81478628, -0.2458285 , -0.65690404],\n",
       "       [ 0.24983214,  0.16096179,  0.18330852,  0.26274587,  0.15197335,\n",
       "         0.02957819,  1.0049505 , -0.20689332, -0.43838029,  0.32548092],\n",
       "       [ 0.35404096,  0.5577503 ,  0.64566284, -0.1112588 ,  0.75475227,\n",
       "         0.81478628, -0.20689332,  1.0049505 ,  0.13161917, -0.80759848],\n",
       "       [-0.36283915, -0.28874734, -0.22104631, -0.32386722, -0.26762468,\n",
       "        -0.2458285 , -0.43838029,  0.13161917,  1.0049505 , -0.11435101],\n",
       "       [-0.4749598 , -0.67390856, -0.64553145, -0.05037861, -0.76189823,\n",
       "        -0.65690404,  0.32548092, -0.80759848, -0.11435101,  1.0049505 ]])"
      ]
     },
     "execution_count": 60,
     "metadata": {},
     "output_type": "execute_result"
    }
   ],
   "source": [
    "covariance_matrix = np.cov(x.T)\n",
    "covariance_matrix"
   ]
  },
  {
   "cell_type": "code",
   "execution_count": 61,
   "id": "ready-flashing",
   "metadata": {},
   "outputs": [
    {
     "name": "stdout",
     "output_type": "stream",
     "text": [
      "Eigenvector: \n",
      "\n",
      " [[-0.36003156  0.24504604  0.23646693  0.04769425 -0.38088719 -0.2752946\n",
      "   0.35567787  0.16267402  0.38122272  0.48267571]\n",
      " [-0.39799196  0.10747845  0.17644219  0.03594234 -0.1847366   0.14148872\n",
      "   0.2996542   0.09572111 -0.79148478 -0.13445108]\n",
      " [-0.39123735  0.02666037 -0.04805978  0.19857745 -0.39739661 -0.2263982\n",
      "  -0.73457161  0.04361362  0.01739632 -0.2312993 ]\n",
      " [-0.15643036  0.43107841  0.61961315 -0.04575068  0.58207983 -0.03111793\n",
      "  -0.23257258  0.02235965  0.05939645 -0.07605405]\n",
      " [-0.41538236 -0.0152025  -0.09103859  0.03566025  0.06905035  0.12244927\n",
      "   0.13122734 -0.86912993  0.14825883 -0.05759154]\n",
      " [-0.36589019 -0.13079477 -0.32741543 -0.14769669  0.34406622 -0.478021\n",
      "   0.29227711  0.26281058  0.13904116 -0.44641744]\n",
      " [-0.04856304  0.50171359 -0.45033227  0.62382493  0.17310067  0.29279398\n",
      "   0.06887276  0.16566682  0.07794289  0.00349157]\n",
      " [-0.3202009  -0.37913323 -0.18614204  0.06679881  0.40810707 -0.02185586\n",
      "  -0.23451289  0.09495547 -0.21759558  0.66047612]\n",
      " [ 0.1169255  -0.46344741  0.3874413   0.72825216  0.05521954 -0.19630365\n",
      "   0.1652037  -0.04229518  0.03086335 -0.1395168 ]\n",
      " [ 0.33085624  0.33805477 -0.15386253  0.08860286  0.03663886 -0.69550725\n",
      "  -0.01834721 -0.31506406 -0.35875048  0.17706591]] \n",
      "\n",
      "Eigenvalues: \n",
      "\n",
      " [5.49601934 2.16523223 0.92382301 0.58640159 0.30682278 0.22963806\n",
      " 0.13443863 0.05096067 0.08125724 0.07491138] \n",
      "\n"
     ]
    }
   ],
   "source": [
    "eigen_values, eigen_vectors = np.linalg.eig(covariance_matrix)\n",
    "print(\"Eigenvector: \\n\\n\", eigen_vectors,\"\\n\")\n",
    "print(\"Eigenvalues: \\n\\n\", eigen_values, \"\\n\")"
   ]
  },
  {
   "cell_type": "markdown",
   "id": "sapphire-spray",
   "metadata": {},
   "source": [
    "The following code will allow us to see the \"weight\" of the energy of the eigenvalues in relation to the variance it explains. They are listed in descending order."
   ]
  },
  {
   "cell_type": "code",
   "execution_count": 62,
   "id": "european-princeton",
   "metadata": {},
   "outputs": [
    {
     "name": "stdout",
     "output_type": "stream",
     "text": [
      "[54.689453578633895, 21.545660584478007, 9.192721607165748, 5.835129166835626, 3.053113426487982, 2.2850683652257344, 1.33776369499986, 0.5070963381386253, 0.8085696065062418, 0.7454236315282983]\n"
     ]
    }
   ],
   "source": [
    "var = []\n",
    "\n",
    "for i in eigen_values:\n",
    "     var.append((i/sum(eigen_values))*100)\n",
    "\n",
    "print(var)"
   ]
  },
  {
   "cell_type": "markdown",
   "id": "following-croatia",
   "metadata": {},
   "source": [
    "We can easily see that the first 4 eigenvalues explain over 90% of the variance of our data. So we can easily use 4 components instead of 10, which is a significant reduction."
   ]
  },
  {
   "cell_type": "code",
   "execution_count": 63,
   "id": "spiritual-adobe",
   "metadata": {},
   "outputs": [
    {
     "name": "stdout",
     "output_type": "stream",
     "text": [
      "[ 54.68945358  76.23511416  85.42783577  91.26296494  94.31607836\n",
      "  96.60114673  97.93891042  98.44600676  99.25457637 100.        ]\n"
     ]
    }
   ],
   "source": [
    "cumvar = np.cumsum(var)\n",
    "print(cumvar)"
   ]
  },
  {
   "cell_type": "markdown",
   "id": "mechanical-journalist",
   "metadata": {},
   "source": [
    "Let us now re-do the above with the scikit-learn PCA method."
   ]
  },
  {
   "cell_type": "code",
   "execution_count": 64,
   "id": "coastal-panic",
   "metadata": {},
   "outputs": [
    {
     "data": {
      "text/plain": [
       "PCA(n_components=4)"
      ]
     },
     "execution_count": 64,
     "metadata": {},
     "output_type": "execute_result"
    }
   ],
   "source": [
    "from sklearn.decomposition import PCA\n",
    "pca = PCA(n_components = 4)\n",
    "pca.fit(x)"
   ]
  },
  {
   "cell_type": "markdown",
   "id": "medical-table",
   "metadata": {},
   "source": [
    "Now we have a matrix that is comprised of 4 components that explains over 90% of the variance of our data, from the numeric features that were chosen for Question 5."
   ]
  },
  {
   "cell_type": "code",
   "execution_count": 65,
   "id": "related-garlic",
   "metadata": {},
   "outputs": [
    {
     "data": {
      "text/plain": [
       "(203, 4)"
      ]
     },
     "execution_count": 65,
     "metadata": {},
     "output_type": "execute_result"
    }
   ],
   "source": [
    "x_pca = pca.transform(x)\n",
    "x_pca.shape"
   ]
  }
 ],
 "metadata": {
  "kernelspec": {
   "display_name": "Python 3",
   "language": "python",
   "name": "python3"
  },
  "language_info": {
   "codemirror_mode": {
    "name": "ipython",
    "version": 3
   },
   "file_extension": ".py",
   "mimetype": "text/x-python",
   "name": "python",
   "nbconvert_exporter": "python",
   "pygments_lexer": "ipython3",
   "version": "3.7.4"
  }
 },
 "nbformat": 4,
 "nbformat_minor": 5
}
