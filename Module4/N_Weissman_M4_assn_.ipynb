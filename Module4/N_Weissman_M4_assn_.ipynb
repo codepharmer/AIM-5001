{
 "cells": [
  {
   "cell_type": "markdown",
   "id": "personalized-poultry",
   "metadata": {},
   "source": [
    "### AIM 5001 Module 4 Assignment (100 Points)\n",
    "This assignment will extend the work you started in Module 3 with the cars-sample35.txt data set to encompass list\n",
    "comprehensions, some additional Python data structures (e.g., dict objects), and user-defined functions.\n",
    "Start by reading the cars-sample35.txt file and re-creating the seven distinct lists of automobile attributes (i.e., Price,\n",
    "Maintenance Cost, Number of Doors, Number of Passengers, Luggage Capacity, Safety Rating, Classification of Vehicle)\n",
    "we worked with last week. You should be able to do this via a simple cut + paste of your code from last week. Then, complete the following six tasks:\n",
    "________________________________________________________\n",
    "#### List Comprehensions\n",
    "1. (10 Points) Find the list index values of each automobile having a price rating of \"med using a list comprehension instead of a basic for or while loop. The list comprehension should create a new list containing your result. Be sure to print your results to the screen. <br>\n",
    "\n",
    "2. (10 Points) Find the \"number of passengers\" value for each auto having a \"price\" value of \"med\" using a list comprehension instead of a basic for or while loop. The list comprehension should create a new list containing your findings. Be sure to print your results to the screen.<br>\n",
    "\n",
    "3. (10 Points) Find the index value for each automobile having a price value of \"high\" and a maintenance value that is not \"low\" using a list comprehension. The list comprehension should create a new list containing your findings. Be sure to print your results to the screen.\n",
    "___________________________________________________________\n",
    "#### Nested List Comprehensions\n",
    "Consider the following list of lists:\n",
    "nlist = [ [1, 2, 3], [‘A’, ‘B’, ‘C’], [4, 5], [‘D’, ‘E’] ]\n",
    "If we wanted to extract each individual element of the component lists contained within nlist and add them to a new\n",
    "list, we could use a nested for loop similar to this:\n",
    "```\n",
    "flist = []\n",
    "for x in nlist:\n",
    "    for y in x:\n",
    "        flist.append(y)\n",
    "print(flist)\n",
    "```\n",
    "4. (20 Points) Implement this nested for loop logic shown above using a list comprehension. Apply your list comprehension to the nlist list of lists shown above. Be sure to print your newly created list to the screen. \n",
    "_____________________________________________\n",
    "\n",
    "#### Write a Function That Converts a List to a Dict Object\n",
    "5. (35 Points) Your fifth task is to create a user defined function that accepts as input one of the seven automobile attribute lists as well as an integer value and returns a Python dict object. Remember: a Python dict object is comprised of ‘key/value’ pairs. The integer value accepted as a parameter by your function will represent the exact number of items you are to use from the list for purposes of creating the new dict object. So for example, if your function was defined as:\n",
    "```\n",
    "def makedict(mylist, x):\n",
    "    newdict = {}\n",
    "    # your code goes here\n",
    "    return(newdict)\n",
    "```\n",
    "you would take the first x items from mylist to create the new dict object. The key values you assign to the elements of\n",
    "the dict object should all be comprised of a combination of the letter ‘A’ and the alphanumeric representation of the\n",
    "index value corresponding to the location of the item in the mylist object. So if you had 3 dict elements in total, the key\n",
    "values for those elements would be (‘A0’, ‘A1’, ‘A2’). If we apply this concept to the first 5 elements of our “Luggage” list\n",
    "we’d have a dict object that looks like this: <br>\n",
    "#### First five elements of luggage list:\n",
    "['med', 'small', 'big', 'big', 'med']\n",
    "\n",
    "#### New dict Object:\n",
    "{‘A0’ : ‘med’, ‘A1’: ‘small’, ‘A2’: ‘big’, ‘A3’:‘big’, ‘A4’:’med’}\n",
    "_Be sure to check that the integer value passed into your function does not exceed the length of the list parameter!_\n",
    "__________________________________________________\n",
    "\n",
    "#### Using Your New Function\n",
    "6. (15 Points) Now that you have your reusable user-defined function, use it to create two new dict objects containing\n",
    "the first seven elements of the ‘Price’ and ‘Luggage’ lists, respectively. Then, use these dict objects to tell us the\n",
    "price and luggage capacity of the auto identified by the ‘A4’ key value. <br> <br>\n",
    "\n",
    "Be sure to include some commentary explaining your approach to solving each of the individual problems. Save your\n",
    "work to a Jupyter Notebook and upload / submit it within the provided M4 Assignment Canvas submission portal. Be\n",
    "sure to save your Notebook using the nomenclature we‘ve been using, i.e., first initial_last name_M4_assn\" (e.g.,\n",
    "J_Smith_M4_assn_)"
   ]
  },
  {
   "cell_type": "markdown",
   "id": "provincial-williams",
   "metadata": {},
   "source": [
    "## Assignment starts here\n",
    "_______________________________________________\n",
    "*Start by reading the cars-sample35.txt file and re-creating the seven distinct lists of automobile attributes (i.e., Price, Maintenance Cost, Number of Doors, Number of Passengers, Luggage Capacity, Safety Rating, Classification of Vehicle) we worked with last week. You should be able to do this via a simple cut + paste of your code from last week.*"
   ]
  },
  {
   "cell_type": "code",
   "execution_count": 3,
   "id": "funded-librarian",
   "metadata": {},
   "outputs": [],
   "source": [
    "#read in text files\n",
    "import csv\n",
    "csvfile = open('C:\\\\Users\\\\Wesso\\\\Desktop\\\\YU School Stuff\\\\Data Acquisition\\\\cars-sample35.txt', \"r\")\n",
    "readCSV = csv.reader(csvfile)\n",
    "#creat empty list for each one of the car value\n",
    "car_prices = []\n",
    "car_maintenance_costs = []\n",
    "car_doorcounts = []\n",
    "car_passenger_capacities = []\n",
    "car_luggage_capacities = []\n",
    "car_safety_ratings = []\n",
    "car_vehicle_classes = []\n",
    "\n",
    "#store car info in arrays\n",
    "for row in readCSV:\n",
    "    (price, m_cost, door_count, max_pass, max_lugg, s_r, v_class) = row\n",
    "    car_prices.append(price)\n",
    "    car_maintenance_costs.append(m_cost)\n",
    "    car_doorcounts.append(door_count)\n",
    "    car_passenger_capacities.append(max_pass)\n",
    "    car_luggage_capacities.append(max_lugg)\n",
    "    car_safety_ratings.append(s_r)\n",
    "    car_vehicle_classes.append(v_class)"
   ]
  },
  {
   "cell_type": "markdown",
   "id": "naval-contrast",
   "metadata": {},
   "source": [
    "_________________________________________________________________________________________\n",
    "**1. (10 Points) Find the list index values of each automobile having a price rating of \"med\" using a list comprehension instead of a basic for or while loop. The list comprehension should create a new list containing your result. Be sure to print your results to the screen.** <br>\n"
   ]
  },
  {
   "cell_type": "code",
   "execution_count": 4,
   "id": "alternative-warehouse",
   "metadata": {},
   "outputs": [
    {
     "name": "stdout",
     "output_type": "stream",
     "text": [
      "Indices for average priced cars:  [6, 16, 20, 23, 26, 29]\n"
     ]
    }
   ],
   "source": [
    "avg_priced_car_indices = [i for i in range(len(car_prices)) if car_prices[i] == 'med']\n",
    "# has the same effect as\n",
    "# avg_priced_cars = []\n",
    "# for i, price in enumerate(car_prices):\n",
    "#     if price == 'med':\n",
    "#         avg_priced_cars.append(i)\n",
    "\n",
    "print('Indices for average priced cars: ', avg_priced_car_indices)"
   ]
  },
  {
   "cell_type": "markdown",
   "id": "atomic-quilt",
   "metadata": {},
   "source": [
    "**2. (10 Points) Find the \"number of passengers\" value for each auto having a \"price\" value of \"med\" using a list comprehension instead of a basic for or while loop. The list comprehension should create a new list containing your findings. Be sure to print your results to the screen.**"
   ]
  },
  {
   "cell_type": "code",
   "execution_count": 5,
   "id": "right-report",
   "metadata": {},
   "outputs": [
    {
     "name": "stdout",
     "output_type": "stream",
     "text": [
      "passenger capacity for avg priced cars ['more', '2', '2', '2', '4', '2']\n"
     ]
    }
   ],
   "source": [
    "passenger_capacity_for_avg_priced_cars = \\\n",
    "    [car_passenger_capacities[i] \n",
    "     for i in range(len(car_prices))\n",
    "     if car_prices[i] == 'med']\n",
    "# has the same effect as\n",
    "# passenger_capacity_for_avg_priced_cars = []\n",
    "# for i, price in enumerate(car_prices):\n",
    "#     if price == 'med':\n",
    "#         passenger_capacity_for_avg_priced_cars.append(car_passenger_capacities[i])\n",
    "\n",
    "print('passenger capacity for avg priced cars', passenger_capacity_for_avg_priced_cars)"
   ]
  },
  {
   "cell_type": "markdown",
   "id": "mysterious-colon",
   "metadata": {},
   "source": [
    "**3. (10 Points) Find the index value for each automobile having a price value of \"high\" and a maintenance value that is not \"low\" using a list comprehension. The list comprehension should create a new list containing your findings. Be sure to print your results to the screen.**"
   ]
  },
  {
   "cell_type": "code",
   "execution_count": 6,
   "id": "current-drinking",
   "metadata": {},
   "outputs": [
    {
     "name": "stdout",
     "output_type": "stream",
     "text": [
      "expensive_car_indices [0, 1, 2, 27, 31]\n"
     ]
    }
   ],
   "source": [
    "expensive_car_indices = \\\n",
    "    [i \n",
    "     for i in range(len(car_prices))\n",
    "     if car_prices[i] == 'high' and\n",
    "     car_maintenance_costs[i] != 'low']\n",
    "# has the same effect as\n",
    "# expensive_car_indices = []\n",
    "# for i in range(len(car_prices)):\n",
    "#     if car_prices[i] == 'high' and car_maintenance_costs[i] != 'low':\n",
    "#        expensive_car_indices.append(i)\n",
    "print('expensive_car_indices', expensive_car_indices)"
   ]
  },
  {
   "cell_type": "markdown",
   "id": "quiet-runner",
   "metadata": {},
   "source": [
    "_____________________________________________\n",
    "Consider the following list of lists: nlist = [ [1, 2, 3], [‘A’, ‘B’, ‘C’], [4, 5], [‘D’, ‘E’] ] If we wanted to extract each individual element of the component lists contained within nlist and add them to a new list, we could use a nested for loop similar to this:\n",
    "```\n",
    "flist = []\n",
    "for x in nlist:\n",
    "    for y in x:\n",
    "        flist.append(y)\n",
    "print(flist)\n",
    "```\n",
    "**4. (20 Points) Implement this nested for loop logic shown above using a list comprehension. Apply your list comprehension to the nlist list of lists shown above. Be sure to print your newly created list to the screen.**"
   ]
  },
  {
   "cell_type": "code",
   "execution_count": 7,
   "id": "proper-exhaust",
   "metadata": {},
   "outputs": [
    {
     "name": "stdout",
     "output_type": "stream",
     "text": [
      "unnested list:  [1, 2, 3, 'A', 'B', 'C', 4, 5, 'D', 'E']\n"
     ]
    }
   ],
   "source": [
    "flist = [ [1, 2, 3], ['A', 'B', 'C'], [4, 5], ['D', 'E'] ] \n",
    "#To make code more readable, I've formatted the nested comprehension to  \n",
    "#look similar to a regular nested for loop \n",
    "unnested_list = [item \n",
    "                 for inner_list in flist\n",
    "                     for item in inner_list\n",
    "                ]\n",
    "# has the same effect as\n",
    "# nlist = [ [1, 2, 3], ['A', 'B', 'C'], [4, 5], ['D', 'E'] ] \n",
    "# flist = []\n",
    "# for x in nlist:\n",
    "#     for y in x:\n",
    "#         flist.append(y)\n",
    "        \n",
    "print ('unnested list: ',unnested_list)"
   ]
  },
  {
   "cell_type": "markdown",
   "id": "unlimited-glance",
   "metadata": {},
   "source": [
    "**5. (35 Points) Your fifth task is to create a user defined function that accepts as input one of the seven automobile attribute lists as well as an integer value and returns a Python dict object. Remember: a Python dict object is comprised of ‘key/value’ pairs. The integer value accepted as a parameter by your function will represent the exact number of items you are to use from the list for purposes of creating the new dict object. So for example, if your function was defined as:**\n",
    "```\n",
    "def makedict(mylist, x):\n",
    "    newdict = {}\n",
    "    #your code goes here\n",
    "    return(newdict)\n",
    " ```"
   ]
  },
  {
   "cell_type": "code",
   "execution_count": 8,
   "id": "friendly-gossip",
   "metadata": {},
   "outputs": [],
   "source": [
    "#another possible header\n",
    "# def makedict(mylist, x = None):\n",
    "#if no int value is passed in, x will become len(mylist)\n",
    "#     if x == None:\n",
    "#         x = len(mylist)\n",
    "\n",
    "def makedict(mylist, x):\n",
    "#    input validation\n",
    "    if x > len(mylist):\n",
    "        raise Exception('Cannot grab more items than contained in list')\n",
    "        \n",
    "    newdict = {} #   instantiate dict\n",
    "    \n",
    "    for i in range(x):#     fill dict with relavant data from relevant indices\n",
    "#         we use %i to insert the char to the string (we also could use str(i))\n",
    "        newdict['A%i'%(i)] = mylist[i]\n",
    "    return(newdict)"
   ]
  },
  {
   "cell_type": "code",
   "execution_count": 9,
   "id": "adopted-bones",
   "metadata": {},
   "outputs": [
    {
     "ename": "Exception",
     "evalue": "Cannot grab more items than contained in list",
     "output_type": "error",
     "traceback": [
      "\u001b[1;31m---------------------------------------------------------------------------\u001b[0m",
      "\u001b[1;31mException\u001b[0m                                 Traceback (most recent call last)",
      "\u001b[1;32m<ipython-input-9-caab310903ca>\u001b[0m in \u001b[0;36m<module>\u001b[1;34m\u001b[0m\n\u001b[0;32m      1\u001b[0m \u001b[1;31m#test error checking\u001b[0m\u001b[1;33m\u001b[0m\u001b[1;33m\u001b[0m\u001b[1;33m\u001b[0m\u001b[0m\n\u001b[1;32m----> 2\u001b[1;33m \u001b[0md1\u001b[0m \u001b[1;33m=\u001b[0m \u001b[1;33m[\u001b[0m\u001b[0mmakedict\u001b[0m\u001b[1;33m(\u001b[0m\u001b[1;33m[\u001b[0m\u001b[0mstr\u001b[0m\u001b[1;33m(\u001b[0m\u001b[0mi\u001b[0m\u001b[1;33m)\u001b[0m \u001b[1;32mfor\u001b[0m \u001b[0mi\u001b[0m \u001b[1;32min\u001b[0m \u001b[0mrange\u001b[0m\u001b[1;33m(\u001b[0m\u001b[1;36m34\u001b[0m\u001b[1;33m,\u001b[0m \u001b[1;36m111\u001b[0m\u001b[1;33m)\u001b[0m\u001b[1;33m]\u001b[0m\u001b[1;33m,\u001b[0m \u001b[1;36m1111\u001b[0m\u001b[1;33m)\u001b[0m\u001b[1;33m]\u001b[0m\u001b[1;33m\u001b[0m\u001b[1;33m\u001b[0m\u001b[0m\n\u001b[0m\u001b[0;32m      3\u001b[0m \u001b[0mprint\u001b[0m\u001b[1;33m(\u001b[0m\u001b[0md1\u001b[0m\u001b[1;33m)\u001b[0m\u001b[1;33m\u001b[0m\u001b[1;33m\u001b[0m\u001b[0m\n",
      "\u001b[1;32m<ipython-input-8-e4cf91de100e>\u001b[0m in \u001b[0;36mmakedict\u001b[1;34m(mylist, x)\u001b[0m\n\u001b[0;32m      8\u001b[0m \u001b[1;31m#    input validation\u001b[0m\u001b[1;33m\u001b[0m\u001b[1;33m\u001b[0m\u001b[1;33m\u001b[0m\u001b[0m\n\u001b[0;32m      9\u001b[0m     \u001b[1;32mif\u001b[0m \u001b[0mx\u001b[0m \u001b[1;33m>\u001b[0m \u001b[0mlen\u001b[0m\u001b[1;33m(\u001b[0m\u001b[0mmylist\u001b[0m\u001b[1;33m)\u001b[0m\u001b[1;33m:\u001b[0m\u001b[1;33m\u001b[0m\u001b[1;33m\u001b[0m\u001b[0m\n\u001b[1;32m---> 10\u001b[1;33m         \u001b[1;32mraise\u001b[0m \u001b[0mException\u001b[0m\u001b[1;33m(\u001b[0m\u001b[1;34m'Cannot grab more items than contained in list'\u001b[0m\u001b[1;33m)\u001b[0m\u001b[1;33m\u001b[0m\u001b[1;33m\u001b[0m\u001b[0m\n\u001b[0m\u001b[0;32m     11\u001b[0m \u001b[1;33m\u001b[0m\u001b[0m\n\u001b[0;32m     12\u001b[0m     \u001b[0mnewdict\u001b[0m \u001b[1;33m=\u001b[0m \u001b[1;33m{\u001b[0m\u001b[1;33m}\u001b[0m \u001b[1;31m#   instantiate dict\u001b[0m\u001b[1;33m\u001b[0m\u001b[1;33m\u001b[0m\u001b[0m\n",
      "\u001b[1;31mException\u001b[0m: Cannot grab more items than contained in list"
     ]
    }
   ],
   "source": [
    "#test error checking\n",
    "d1 = [makedict([str(i) for i in range(34, 111)], 1111)]\n",
    "print(d1)"
   ]
  },
  {
   "cell_type": "markdown",
   "id": "applied-whole",
   "metadata": {},
   "source": [
    "**6. (15 Points) Now that you have your reusable user-defined function, use it to create two new dict objects containing the first seven elements of the ‘Price’ and ‘Luggage’ lists, respectively. Then, use these dict objects to tell us the price and luggage capacity of the auto identified by the ‘A4’ key value.**"
   ]
  },
  {
   "cell_type": "code",
   "execution_count": 12,
   "id": "weighted-arrangement",
   "metadata": {},
   "outputs": [
    {
     "name": "stdout",
     "output_type": "stream",
     "text": [
      "car prices dict:  {'A0': 'high', 'A1': 'high', 'A2': 'high', 'A3': 'high', 'A4': 'vhigh', 'A5': 'low', 'A6': 'med'}\n",
      "car luggage capacities dict:  {'A0': 'med', 'A1': 'small', 'A2': 'big', 'A3': 'big', 'A4': 'med', 'A5': 'small', 'A6': 'med'}\n",
      "Car A4 price:  vhigh\n",
      "Car A4 capacity:  med\n"
     ]
    }
   ],
   "source": [
    "# car_prices, car_luggage_cappacities\n",
    "#we set a variable here to avoid having 'magic numbers'\n",
    "num_cars = 7\n",
    "car_prices_dict = makedict(car_prices, num_cars)\n",
    "#create a dictionary using the makedict function from problem 5\n",
    "car_luggage_capacities_dict = makedict(car_luggage_capacities, num_cars)\n",
    "print('car prices dict: ', car_prices_dict)\n",
    "print('car luggage capacities dict: ', car_luggage_capacities_dict)\n",
    "print('Car A4 price: ', car_prices_dict['A4'])\n",
    "print('Car A4 capacity: ', car_luggage_capacities_dict['A4'])\n"
   ]
  },
  {
   "cell_type": "code",
   "execution_count": null,
   "id": "amber-tracy",
   "metadata": {},
   "outputs": [],
   "source": []
  }
 ],
 "metadata": {
  "kernelspec": {
   "display_name": "Python 3",
   "language": "python",
   "name": "python3"
  },
  "language_info": {
   "codemirror_mode": {
    "name": "ipython",
    "version": 3
   },
   "file_extension": ".py",
   "mimetype": "text/x-python",
   "name": "python",
   "nbconvert_exporter": "python",
   "pygments_lexer": "ipython3",
   "version": "3.7.4"
  }
 },
 "nbformat": 4,
 "nbformat_minor": 5
}
