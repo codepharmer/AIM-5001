{
 "cells": [
  {
   "cell_type": "markdown",
   "id": "musical-trademark",
   "metadata": {},
   "source": [
    "# AIM 5001 Module 3 Assignment (100 Points)\n",
    "A crucial aspect of working effectively with lists in Python is understanding how Python applies its internal indexing\n",
    "structure to lists. For this assignment you will be creating, searching, and sorting lists you will create from the contents\n",
    "of a small CSV file using some of the concepts we are learning about this week. Then, you will defining, instantiating and\n",
    "searching Python class objects constructed from that same CSV file.\n",
    "Start by downloading the cars-sample35.txt file to your local environment.\n",
    "Then, open a new Jupyter Notebook and copy in the following small Python code snippet:\n",
    "____________________________________________\n",
    "### be sure to update the path below to reflect your own environment!!\n",
    "### also be sure that the code is properly indented after you paste it!\n",
    "### print each row as read by the csv.reader function\n",
    "import csv\n",
    "with \n",
    "```open('yourpath/cars-sample35.txt') as csvfile:\n",
    "     readCSV = csv.reader(csvfile)\n",
    "     for row in readCSV:\n",
    "         print(row)\n",
    "```\n",
    "_____________________________________________\n",
    "This code will read the contents of a CSV file you specify in a line-by-line manner and print the contents of each line in\n",
    "the form of a Python list. Each item within that list will contain the corresponding element of the comma-separated line\n",
    "within the CSV file from which it came.\n",
    "Once you've run the code snippet, you will see that each line of the file contains seven distinct values. For example, a\n",
    "print of the result of reading the first line will show the following:\n",
    "['high', 'high', '2', '4', 'med', 'low', 'unacc']\n",
    "These seven distinct values represent attributes of a single type of automobile. Specifically we have the following:\n",
    "- Price\n",
    "- Maintenance cost\n",
    "- Number of doors\n",
    "- Number of passengers\n",
    "- Luggage capacity\n",
    "- Safety rating\n",
    "- Classification of vehicle \n",
    "<br>\n",
    "<br>\n",
    "Now that you are familiar with the content of the file, complete the following 6 tasks:\n",
    "\n",
    "\n"
   ]
  },
  {
   "cell_type": "markdown",
   "id": "pacific-moisture",
   "metadata": {},
   "source": [
    "1. (15 Points) Your first task is to read the file again and extract these seven attributes from each line of the file and\n",
    "create seven distinct Python list objects comprised solely of the values you extracted for a given attribute. In other\n",
    "words, you should have lists of prices, maintenance costs, number of doors, etc. For example, the first five \"luggage\"\n",
    "values should be as follows:\n",
    "['med', 'small', 'big', 'big', 'med']\n",
    "One way to complete this task would be to use the code snippet from above as a starting point: you could replace\n",
    "the “print(row)” statement with whatever Python code you feel is necessary to create the seven required list\n",
    "objects.\n"
   ]
  },
  {
   "cell_type": "code",
   "execution_count": null,
   "id": "accomplished-portrait",
   "metadata": {},
   "outputs": [],
   "source": []
  },
  {
   "cell_type": "code",
   "execution_count": 175,
   "id": "improved-sleeping",
   "metadata": {},
   "outputs": [],
   "source": [
    "import csv\n",
    "csvfile = open('C:\\\\Users\\\\Wesso\\\\Desktop\\\\YU School Stuff\\\\Data Acquisition\\\\cars-sample35.txt', \"r\")\n",
    "readCSV = csv.reader(csvfile)\n",
    "#creat empty list for each one of the car value\n",
    "car_prices = []\n",
    "car_maintenance_costs = []\n",
    "car_doorcounts = []\n",
    "car_max_passenger_capacities = []\n",
    "car_max_luggage_capacities = []\n",
    "car_safety_ratings = []\n",
    "car_vehicle_classes = []"
   ]
  },
  {
   "cell_type": "markdown",
   "id": "yellow-minute",
   "metadata": {},
   "source": [
    "#### Each row has:\n",
    "#### [0] => Price, [1] => Maintenance cost, [2] => Number of doors, [3] => Number of passengers\n",
    "#### [4] => Luggage capacity, [5] => Safety rating,  [6] => Classification of vehicle"
   ]
  },
  {
   "cell_type": "code",
   "execution_count": 176,
   "id": "fourth-explanation",
   "metadata": {},
   "outputs": [],
   "source": [
    "for row in readCSV:\n",
    "    (price, m_cost, door_count, max_pass, max_lugg, s_r, v_class) = row\n",
    "    car_prices.append(price)\n",
    "    car_maintenance_costs.append(m_cost)\n",
    "    car_doorcounts.append(door_count)\n",
    "    car_max_passenger_capacities.append(max_pass)\n",
    "    car_max_luggage_capacities.append(max_lugg)\n",
    "    car_safety_ratings.append(s_r)\n",
    "    car_vehicle_classes.append(v_class)"
   ]
  },
  {
   "cell_type": "markdown",
   "id": "exotic-value",
   "metadata": {},
   "source": [
    "2. (15 Points) Your second task is to find the list index values of each automobile having a “price” rating of \"med\".\n",
    "Create a new list object with your result. HINT: you can accomplish this task by searching the list of price values you\n",
    "created earlier. Be sure to print your results.\n"
   ]
  },
  {
   "cell_type": "code",
   "execution_count": 177,
   "id": "large-heavy",
   "metadata": {},
   "outputs": [
    {
     "name": "stdout",
     "output_type": "stream",
     "text": [
      "indices of mediumly priced cars: [6, 16, 20, 23, 26, 29]\n"
     ]
    }
   ],
   "source": [
    "indices_of_mediumly_priced_cars = []\n",
    "#iterate through car_prices and keep track of\n",
    "# mediumly priced cars, storing their indices in indices_of_mediumly_priced_cars\n",
    "for i in range(len(car_prices)):\n",
    "    price = car_prices[i]\n",
    "    if price == 'med':\n",
    "        indices_of_mediumly_priced_cars.append(i)\n",
    "print('indices of mediumly priced cars:', indices_of_mediumly_priced_cars)"
   ]
  },
  {
   "cell_type": "markdown",
   "id": "stunning-binary",
   "metadata": {},
   "source": [
    "3. (15 Points) Your third task is to find the \"number of passengers\" value for each auto having a \"price\" value of\n",
    "\"med\". Create a new list to store your findings and be sure to print your results."
   ]
  },
  {
   "cell_type": "code",
   "execution_count": 178,
   "id": "breathing-fundamental",
   "metadata": {},
   "outputs": [
    {
     "name": "stdout",
     "output_type": "stream",
     "text": [
      "max passenger capacity for car 6:  more\n",
      "max passenger capacity for car 16:  2\n",
      "max passenger capacity for car 20:  2\n",
      "max passenger capacity for car 23:  2\n",
      "max passenger capacity for car 26:  4\n",
      "max passenger capacity for car 29:  2\n"
     ]
    }
   ],
   "source": [
    "#below we allocate space for an list to hold passenger capacities \n",
    "#for all mediumly proced cars\n",
    "#this can also be dont using a dictionary, and in many cases may even be more space efficient\n",
    "max_passenger_cap_for_mediumly_priced_cars = [None]*len(car_max_passenger_capacities)\n",
    "for car_index in indices_of_mediumly_priced_cars:\n",
    "    car_cap = car_max_passenger_capacities[car_index]\n",
    "    max_passenger_cap_for_mediumly_priced_cars[car_index] = car_cap\n",
    "for i in range(len(max_passenger_cap_for_mediumly_priced_cars)):\n",
    "    pass_cap = max_passenger_cap_for_mediumly_priced_cars[i]\n",
    "    if pass_cap:\n",
    "        print('max passenger capacity for car '+str(i)+': ', pass_cap)"
   ]
  },
  {
   "cell_type": "markdown",
   "id": "leading-samuel",
   "metadata": {},
   "source": [
    "4. (15 Points) Your fourth task is to find the index value for each automobile having a “price” value of \"high\" and a\n",
    "“maintenance” value that is not \"low\". Create a new list to store your findings and be sure to print your results."
   ]
  },
  {
   "cell_type": "code",
   "execution_count": 179,
   "id": "baking-wealth",
   "metadata": {},
   "outputs": [
    {
     "name": "stdout",
     "output_type": "stream",
     "text": [
      "Indices of expensive cars:  [0, 1, 2, 27, 31]\n"
     ]
    }
   ],
   "source": [
    "indices_of_expensive_cars = []\n",
    "\n",
    "for i in range(len(car_prices)):\n",
    "    price = car_prices[i]\n",
    "    upkeep = car_maintenance_costs[i]\n",
    "    if price == 'high' and upkeep != 'low':\n",
    "        indices_of_expensive_cars.append(i)\n",
    "print('Indices of expensive cars: ',indices_of_expensive_cars)"
   ]
  },
  {
   "cell_type": "markdown",
   "id": "resident-hamilton",
   "metadata": {},
   "source": [
    "### Class Objects\n",
    "As we have learned, Python’s class objects allow us to manage related data in an “object oriented” fashion. For the\n",
    "remaining tasks in this assignment you will be constructing and applying your own Python class object to the\n",
    "carssample35.txt data:"
   ]
  },
  {
   "cell_type": "markdown",
   "id": "protected-reminder",
   "metadata": {},
   "source": [
    "5. (20 Points) Create a new Python class to store and manage the information contained within the cars-sample35.txt\n",
    "file. Your new class should be named “CarData” and should include a class variable ‘CarCount’ that represents a\n",
    "counter indicative of the number of CarData objects that have been instantiated within your current Python session.\n",
    "The class must also contain eight instance variables including a unique ID for each vehicle (use the name ‘uniqueID’\n",
    "for this instance variable) and seven additional instance variables corresponding to the seven different vehicle\n",
    "attributes contained within the cars-sample35.txt file. Each time you create a new instance of the class the\n",
    "‘uniqueID’ instance variable value for the new object should be assigned the existing value of the “CarCount” class\n",
    "variable. The new instance should then increment the ‘CarCount’ class variable by 1 (after assigning its previous\n",
    "value to the ‘uniqueID’ instance variable as mentioned above.\n"
   ]
  },
  {
   "cell_type": "code",
   "execution_count": 193,
   "id": "adaptive-roommate",
   "metadata": {},
   "outputs": [],
   "source": [
    "class CarData:\n",
    "    \n",
    "    \n",
    "    CarCount = 0\n",
    "    \n",
    "    def __init__(self, price, maintenance, num_doors, max_passengers, max_luggage, safety_rating, vehicle_class):\n",
    "        self.unique_id = CarData.CarCount \n",
    "        self.price = price\n",
    "        self.maintenance = maintenance\n",
    "        self.num_doors = num_doors\n",
    "        self.max_passengers = max_passengers\n",
    "        self.max_luggage = max_luggage\n",
    "        self.safety_rating = safety_rating\n",
    "        self.vehicle_class = vehicle_class\n",
    "        #note: we reference CarCount by first refercingthe CarData \n",
    "#         object and then CarCount\n",
    "        #if we had a new variable for each instance named \"CarCount\"\n",
    "        #then we'd refer to it as self.CarCount\n",
    "        CarData.CarCount += 1\n",
    "        \n",
    "    def __init__(self, car_info):\n",
    "        self.unique_id = CarData.CarCount\n",
    "        self.price = car_info[0]\n",
    "        self.maintenance = car_info[1]\n",
    "        self.num_doors = car_info[2]\n",
    "        self.max_passengers = car_info[3]\n",
    "        self.max_luggage = car_info[4]\n",
    "        self.safety_rating = car_info[5]\n",
    "        self.vehicle_class = car_info[6]\n",
    "        CarData.CarCount += 1"
   ]
  },
  {
   "cell_type": "markdown",
   "id": "amber-hygiene",
   "metadata": {},
   "source": [
    "6. (20 Points) Read the cars-sample35.txt file again and store its content into a list of CarData class objects, with each\n",
    "row within the file being loaded into a distinct CarData class object within that list. If you have defined your CarData\n",
    "class correctly according to the specifications provided in Problem 5, each class object within your list should then\n",
    "contain the content of one row of the data file, with each vehicle attribute value having been assigned to a distinct\n",
    "instance variable within the class object, as well as a distinct uniqueID value that was automatically assigned by the\n",
    "CarData class when you read the corresponding row from the data file into the class object. Then, using your list of\n",
    "CarData objects, find the uniqueID value for each auto having 2 doors and a luggage value of \"big\". Create a new list\n",
    "to store your findings and be sure to print your results.\n",
    "Be sure to include some commentary explaining your approach to solving each of the individual problems. When you are\n",
    "finished, save the Jupyter Notebook containing your work and commentary and upload / submit it within the provided\n",
    "M3 Assignment Canvas submission portal. Be sure to save your Notebook using the following nomenclature:\n",
    "first initial_last name_M3_assn\" (e.g., J_Smith_M3_assn_)."
   ]
  },
  {
   "cell_type": "code",
   "execution_count": 205,
   "id": "atlantic-reconstruction",
   "metadata": {},
   "outputs": [],
   "source": [
    "import csv\n",
    "csvfile = open('C:\\\\Users\\\\Wesso\\\\Desktop\\\\YU School Stuff\\\\Data Acquisition\\\\cars-sample35.txt', \"r\")\n",
    "readCSV = csv.reader(csvfile)\n",
    "list_of_cars = []\n",
    "list_of_coupes_with_big_trunks = []\n",
    "for row in readCSV:\n",
    "#because cars are being read in as lists,\n",
    "#we've created a constructor for CarData which accepts a list\n",
    "    car = CarData(row)\n",
    "    list_of_cars.append(car)\n",
    "#     print(car.num_doors, ' ', car.max_luggage, ' ', car.unique_id)\n",
    "    #append all cars witt 3 doors and lots of luggage room\n",
    "    if (car.num_doors == '2' and car.max_luggage == 'big'):\n",
    "        list_of_coupes_with_big_trunks.append(car.unique_id)"
   ]
  },
  {
   "cell_type": "code",
   "execution_count": null,
   "id": "editorial-frost",
   "metadata": {},
   "outputs": [],
   "source": []
  }
 ],
 "metadata": {
  "kernelspec": {
   "display_name": "Python 3",
   "language": "python",
   "name": "python3"
  },
  "language_info": {
   "codemirror_mode": {
    "name": "ipython",
    "version": 3
   },
   "file_extension": ".py",
   "mimetype": "text/x-python",
   "name": "python",
   "nbconvert_exporter": "python",
   "pygments_lexer": "ipython3",
   "version": "3.7.4"
  }
 },
 "nbformat": 4,
 "nbformat_minor": 5
}
